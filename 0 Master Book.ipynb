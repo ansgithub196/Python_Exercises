{
 "cells": [
  {
   "cell_type": "code",
   "execution_count": 1,
   "metadata": {},
   "outputs": [
    {
     "ename": "SyntaxError",
     "evalue": "invalid character in identifier (<ipython-input-1-b8646d83db63>, line 28)",
     "output_type": "error",
     "traceback": [
      "\u001b[1;36m  File \u001b[1;32m\"<ipython-input-1-b8646d83db63>\"\u001b[1;36m, line \u001b[1;32m28\u001b[0m\n\u001b[1;33m    len(‘Hello World’)# length of a string\u001b[0m\n\u001b[1;37m             ^\u001b[0m\n\u001b[1;31mSyntaxError\u001b[0m\u001b[1;31m:\u001b[0m invalid character in identifier\n"
     ]
    }
   ],
   "source": [
    "# Generally any function will use a parenthesis as it passes a variable.\n",
    "\n",
    "# STRINGS\n",
    "# Strings are \n",
    "    # used to record text information such as names or sentences of an alphabet\n",
    "    # sequential so python keeps track of every position and its content \n",
    "    # we are able to INDEX the string and SLICE it \n",
    "    \n",
    "# What you should know and practice: \n",
    "# Create, Print, Index, Slice, display properties, use methods and formatting\n",
    "\n",
    "# create and print – \n",
    "# just type the string and run it- string will be printed. \n",
    "# We can simply declare a string\n",
    "\n",
    "'Hello World' # op- 'Hello World'\n",
    "\n",
    "# Note that we can't output multiple strings this way\n",
    "'Hello World 1'\n",
    "'Hello World 2'\n",
    "# o/p- 'Hello World 2'\n",
    "\n",
    "# You can either use double or single quotes\n",
    "\n",
    "# You can also use a print statement\n",
    "#Indexing of an object is almost always done using [] such as s[0], s[1]\n",
    "\n",
    "len(‘Hello World’)# length of a string\n",
    "\n",
    "# Assign s as a string\n",
    "s = 'Hello World'\n",
    "#  s[start:stop:step]\n",
    "s[:]\t# retrieve everything\n",
    "s[1:]     # Grab everything from first to last\n",
    "s[-1]\t# Last letter (one index behind 0 so it loops back around)\n",
    "s[:3]\t# Grab everything up to the 3rd index\n",
    "s[::1]\t# Grab everything, but go in steps size of 1- step size only comes into play with two colons\n",
    "s[::2]  \t# Grab everything, but go in step sizes of 2# Grab e \n",
    "s[::-1]\t# string reversal we can use this to print a string backwards\n",
    "# Strings have an important property known as immutability.once a string is created, \n",
    "# the elements within it cannot be changed or replaced. \n",
    "# we can only slice and assign and then eventually concatenate\n",
    "# We can reassign s completely though!\n",
    "s = s + ' concatenate me!' # concatenation and reassignment\n",
    "\n",
    "#We can use the multiplication symbol to create repetition!\n",
    "letter = 'z'\n",
    "letter*10\n",
    "\n",
    "#'zzzzzzzzzz'\n",
    "# Generally all these datatypes are built in python as objects and you have built in methods \n",
    "# in these objects which we can call\n",
    "\n",
    "# Built in methods for strings include Split, upper and lower\n",
    "s = 'Hello world concatenate me'\n",
    "s.split() # Split a string by blank space (this is the default)\n",
    "['Hello', 'World', 'concatenate', 'me!']\n",
    "\n",
    "s.split('W') # Split by a specific element (doesn't include the element that was split on)\n",
    "\n",
    "['Hello ', 'orld concatenate me!']\n",
    "\n",
    "\n",
    "# Section 3 Lecture 19\n",
    "# String Formating inserts a variable in print function.\n",
    "# There are two ways to achieve this: \n",
    "  # 1. using .format and {} as a variable\n",
    "  # 2. using fstring literals\n",
    "  # You can also concatenate a string\n",
    "\n",
    "# .format stands for string formatting\n",
    "name = 'Amit Sharma'\n",
    "age = 32\n",
    "print('1 My name is {}'.format(name)) \n",
    "print('2 The {} {} {}'.format('Fox','Quick','Brown'))\n",
    "print('3 The {1} {2} {0}'.format('Fox','Quick','Brown'))\n",
    "print('4 The {q} {b} {f}'.format(q='Quick', f='Fox', b='Brown'))\n",
    "\n",
    "# Float formatting method - helps adjust the width and precision of the floats\n",
    "result = 100/777\n",
    "print('1- {r:1.3f}'.format(r= 100/777))\n",
    "\n",
    "print('2- {r:1.3f}'.format(r= result))\n",
    "\n",
    "# print('3- {:1.3f}'.format(result)) - wont work as we need to assign value to \n",
    "# result in the format parenthesis\n",
    "\n",
    "print('4- {:1.3f}'.format(100/777))\n",
    "\n",
    "# print('{result:1.3f}'.format(result))\n",
    "\n",
    "# f string literal method\n",
    "print(f'5 My name is {name} and i am {age} years old')\n",
    "\n",
    "# Concatenation\n",
    "print('My name is '+ name)# ' and i am ')#+ name 'years old') -- incorrect\n",
    "\n",
    "#                      LISTS\n",
    "# Section 3 Lecture 19 \n",
    "\n",
    "# Lists are ordered sequences of diverse objects\n",
    "\n",
    "my_list = ['Amit Sharma', 32, 3010196]\n",
    "\n",
    "len(my_list) # check the length of list\n",
    "\n",
    "# Generally any function will use a parenthesis as it passes a variable.\n",
    "\n",
    "# Indexing will use a square bracket\n",
    "\n",
    "mylist[0]# indexing - would return an error if the index does not exist \n",
    "# for example mylist[100] would return an error \n",
    "len(mylist) # length of the list\n",
    "mylist[1:] # go from one to end\n",
    "\n",
    "#concatenation\n",
    "another_list = ['Alind Sharama', 30, 30031988]\n",
    "new_list = mylist + another_list # concatenating two lists\n",
    "\n",
    "# however be careful when concatenation\n",
    "mylist + 'Alind Sharma' \n",
    "# would return a concatenated list but would'nt actually add the element to the list\n",
    "# for that you would have to assign the value to a list\n",
    "\n",
    "mylist = mylist + ['Alind Sharma'] # you cant use += as it is a mathematical operator and does not work with concatenation\n",
    "\n",
    "# Replicating or repeating or duplication of the list\n",
    "mylist*2 # would not change anything unless you use \n",
    "mylist*=2 # which would actually reassign the value to the list\n",
    "\n",
    "# NESTING OF LISTS\n",
    "\n",
    "# Let's make three lists# Let's  \n",
    "lst_1=[1,2,3]\n",
    "lst_2=[4,5,6]\n",
    "lst_3=[7,8,9]\n",
    "\n",
    "# Make a list of lists to form a matrix\n",
    "matrix = [lst_1,lst_2,lst_3]\n",
    "\n",
    "matrix\n",
    "# [[1, 2, 3], [4, 5, 6], [7, 8, 9]]\n",
    "\n",
    "# Grab first item in matrix object\n",
    "matrix[0]\n",
    "#[1, 2, 3]\n",
    "\n",
    "# Grab first item of the first item in the matrix object\n",
    "matrix[0][0]\n",
    "#1\n",
    "list1 = [1,2,3]\n",
    "list2 = [2.1,2.2,2.3]\n",
    "list3 = [3.1,3.2,3.3]\n",
    "mylist = [list1, list2, list3]\n",
    "mylist[0][0]\n",
    "#1\n",
    "\n",
    "#strings are immutable and lists are mutable my_string = 'beef'\n",
    "# my_string [3]='r' wont work \n",
    "#you have to do my_string = 'beer' not one character\n",
    "# You can overwrite a single element of a list\n",
    "\n",
    "new_list[1]='Amit Narayan'\n",
    "\n",
    "new_list.append('six') #Append and element to the list\n",
    "\n",
    "new_list.pop() # REMOVING the last element and will return the popped item\n",
    "# pop will also remove the element from the list so its like shortening of list\n",
    "\n",
    "new_list.pop(1) # popping an item at indexed position\n",
    "new_list = [ 'a', 'e', 'x', 'b', 'c']\n",
    "\n",
    "# Sorting\n",
    "num_list = [4,2,6,7]\n",
    "new_list.sort()\n",
    "\n",
    "num_list.reverse() # will reverse the list in its place and \n",
    "# return nonetype object \n",
    "# WI-NoneType or None- is type of Object which has no type and is generally used as a place holder.  \n",
    "\n",
    "\n",
    "\n",
    "# Dictionaries-are storage types which store objects as key:value mappings \n",
    "# in an unordered fashion\n",
    "#  List vs Dictionaries- \n",
    "#Lists are ordered D's are unordered \n",
    "# L's can index, slicing and ordering D's use keys:value mappings\n",
    "# D's cannot be sorted are there is no order\n",
    "# L insertions takes place at a defined index \n",
    "# D's will insert new values wherever it wants \n",
    "# On the other hand the D offers quick and easy name based retrieval of values \n",
    "# Keys should be string\n",
    "# D's can hold lists or other dictionaries too\n",
    "# d.values, keys and items \n",
    "\n",
    "my_dict = {'Key1': 12, 'Key2': [1,2,3,4], 'Key3':'Amit Sharma'}\n",
    "my_dict = {'Key1': 12, 'Key2': [1,2,3,4], 'Key3':'Amit Sharma', \n",
    "           'Key4':{'inside_key' : 100, 'inside_key2':200}}\n",
    "\n",
    "my_dict['Key2']=2 # adding a value to a dictionary or overwriting a value\n",
    "\n",
    "my_dict.values\n",
    "my_dict.keys\n",
    "my_dict.items\n",
    "\n",
    "\n",
    "# tuples use () with elements separated by commas. For example:\n",
    "# Section 3 Lecture 24\n",
    "# Tuples are immutable -used for data integrity -\n",
    "# to prevent accidental change of passed objects or data such as date and time\n",
    "# \n",
    "\n",
    "# tuples are create with a parenthesis \n",
    "t =(1,2,3)\n",
    "my_list=[1,2,3]\n",
    "type(t) # will give the type of the t\n",
    "type(list)\n",
    "len(t) \n",
    "# slicing and indexing is possible\n",
    "t[0]\n",
    "t[-1] # return last element\n",
    "t =('a', 'a', 'b')\n",
    "t.count('a')#=2\n",
    "t.index('a') # location of where a occurs the first time\n",
    "t.index()\n",
    "\n",
    "#We can affect the values of a key as well. For instance:\n",
    "# Subtract 123 from the value\n",
    "my_dict['key1'] = my_dict['key1'] - 123\n",
    "\n",
    "# f we started off with an empty dictionary, we could continually add to it:\n",
    "# Create a new dictionary\n",
    "d = {}\n",
    "\n",
    "# Create a new key through assignment# Create \n",
    "d['animal'] = 'Dog'\n",
    "\n",
    "# Can do this with any object# Can do \n",
    "d['answer'] = 42\n",
    "#Show\n",
    "d\n",
    "# {'animal': 'Dog', 'answer': 42}\n",
    "\n",
    "#                   Nesting with Dictionaries\n",
    "\n",
    "# Dictionary nested inside a dictionary nested inside a dictionary\n",
    "d = {'key1':{'nestkey':{'subnestkey':'value'}}}\n",
    "# Keep calling the keys\n",
    "d['key1']['nestkey']['subnestkey']\n",
    "\n",
    "\n",
    "# Sets are used to retrieve unique values from a number of values\n",
    "# Sets are unordered collection of unique elements\n",
    "\n",
    "myset = set()\n",
    "myset.add(1)\n",
    "myset # {1}\n",
    "myset.add(2)\n",
    "myset # {1,2}\n",
    "myset.add(2)\n",
    "myset # {1,2}\n",
    "mylist= [1,1,1,1,1,1,2,2,2,2,2,3,3,3,3,3,]\n",
    "set(mylist)\n",
    "mylist # {1,2,3}\n",
    "\n",
    "# Booleans - True or False\n",
    "# for control flow and logic\n",
    "# T of True should be capital\n",
    "type(True) # bool\n",
    "\n",
    "b = None # when the type of b is not defined and you want to use a placeholder\n",
    "\n",
    "#######################################################################################\n",
    "#                   35-36 While Break Contin Pass Range Random enum in min max\n",
    "#######################################################################################\n",
    "\n",
    "# while loop\n",
    "x =0\n",
    "while x < 5:\n",
    "    print (x)\n",
    "    x +=1\n",
    "\n",
    "\n",
    "# pass is used to prevent syntax error as if you dont put anything in the for loop it will throw an error \n",
    "# you can also use it as a placeholder and can come and fill the loop when you  decide what to put in the loo\n",
    "# Continue - go to the top of current innermost loop\n",
    "# break - break the current innermost loop\n",
    "\n",
    "# continue \n",
    "mystring = 'Sammy'\n",
    "for l in mystring:\n",
    "    if l == 'a':\n",
    "        continue\n",
    "    print (l)\n",
    "\n",
    "# Break\n",
    "mystring = 'Sammy'\n",
    "for l in mystring:\n",
    "    if l == 'a':\n",
    "        break\n",
    "    print (l)\n",
    "    \n",
    "\n",
    "# range(start, end, step size )\n",
    "for n in range(0,10,2):\n",
    "    print (n)\n",
    "\n",
    "list (range (0,10,2))\n",
    "\n",
    "0\n",
    "2\n",
    "4\n",
    "6\n",
    "8\n",
    "[0, 2, 4, 6, 8]\n",
    "\n",
    "# enumerate operator \n",
    "index = 0\n",
    "mystring = 'hello'\n",
    "for i in mystring:\n",
    "    print (mystring[index])\n",
    "    index+=1\n",
    "\n",
    "# to avoid a running index count \n",
    "for i in enumerate(mystring):\n",
    "    print (i)\n",
    "\n",
    "h\n",
    "e\n",
    "l\n",
    "l\n",
    "o\n",
    "(0, 'h')\n",
    "(1, 'e')\n",
    "(2, 'l')\n",
    "(3, 'l')\n",
    "(4, 'o')\n",
    "\n",
    "# zip function is used to join two lists\n",
    "list1 = [1,2,3,4,5]\n",
    "list2 = ['a','b','c']\n",
    "\n",
    "for i in zip(list1, list2):\n",
    "    print(i)\n",
    "\n",
    "# not the smallest list will be picked up as reference not the longest list \n",
    "# tuples will be returned which then can be accessed using tuple unpacking\n",
    "for a,b in zip(list1, list2):\n",
    "    print(b)\n",
    "\n",
    "(1, 'a')\n",
    "(2, 'b')\n",
    "(3, 'c')\n",
    "a\n",
    "b\n",
    "c\n",
    "\n",
    "# in operator\n",
    "'x' in ['a','b','c'] # False\n",
    "'x' in ['a','b','c','x'] # True\n",
    "'mykey' in {'mykey': 345}\n",
    "d = {'mykey': 345}\n",
    "345 in d.values()\n",
    "min (mylist)\n",
    "max (mylist)\n",
    "\n",
    "# shuffle a list\n",
    "# random is a built in library - shuffles a list - shuffle is an inplace function ie it return none\n",
    "mylist = [1,2,3,4,5,6]\n",
    "from random import shuffle\n",
    "shuffle (mylist)\n",
    "mylist\n",
    "\n",
    "from random import randint\n",
    "randint (0,100)\n",
    "\n",
    "# input alway accept the results in a string \n",
    "input('enter a number here')\n",
    "result = int (input('enter a number here'))\n",
    "int (result)\n",
    "float (result)\n",
    "str (result)\n",
    "\n",
    "####################################################################\n",
    "#############                     FUNCTIONS\n",
    "\n",
    "# Functions help us to create clean repeatable code which can be executed multiple times without\n",
    "# actually rewritting the code\n",
    "\n",
    "# defining a function with parameters\n",
    "\n",
    "def print_name (name = 'Customer'):\n",
    "    '''\n",
    "    Docstring: \n",
    "    Input : String as name\n",
    "    Output: prints the Hello Name\n",
    "    '''\n",
    "    print ('Hello '+ name)\n",
    "\n",
    "    \n",
    "#print_name ()\n",
    "#print_name ('Amit')\n",
    "\n",
    "def print_name (name = 'Customer'):\n",
    "    return ('Hello '+ name)\n",
    "\n",
    "result = print_name('Zach')\n",
    "#print (result)\n",
    "\n",
    "def add(n1, n2):\n",
    "    return n1+n2\n",
    "\n",
    "result = add(1,2)\n",
    "#print (result)\n",
    "\n",
    "# find if dog is in a string or noe\n",
    "def dog_check (mystring):\n",
    "    if 'dog' in mystring.lower():\n",
    "        return True\n",
    "    else: \n",
    "        return False\n",
    "    \n",
    "#dog_check ('my Dog ran away')# False because we forgot the lower case\n",
    "\n",
    "def dog_check1 (mystr):\n",
    "    return dog in mystr.lower()\n",
    "#dog_check ('my Dog ran away')\n",
    "\n",
    "def pig_latin (word):\n",
    "    first_letter = word[0]\n",
    "    if first_letter in 'aeiou':\n",
    "        pig_word = word + 'ay'\n",
    "    else: \n",
    "        pig_word = word[1:] + first_letter + 'ay'\n",
    "\n",
    "    return pig_word.upper()\n",
    "\n",
    "###############################################################\n",
    "#                       *args and **kwargs\n",
    "# they help us pass arbitrary number of arguments to a function \n",
    "\n",
    "# mysum (a,b) a and b are positional parameter\n",
    "\n",
    "def mysum (*args):\n",
    "    print (args)\n",
    "    for item in args:\n",
    "        print (item)\n",
    "    return sum(args)\n",
    "\n",
    "# they are a tuple inside the function\n",
    "\n",
    "mysum (1,2,3,4,5,6,7,9,10)\n",
    "#\n",
    "\n",
    "# **kwargs\n",
    "def mychoice (**kwargs):\n",
    "    print (kwargs)\n",
    "    if 'fruit' in kwargs:\n",
    "        print ('my favorite fruit is {}'.format(kwargs['fruit']))\n",
    "    else:\n",
    "        print('I did not find a favorite')\n",
    "        \n",
    "\n",
    "mychoice (fruit = 'pineapple', vegetable ='Cucumber')\n",
    "\n",
    "# {'fruit': 'pineapple', 'vegetable': 'Cucumber'}\n",
    "# my favorite fruit is pineapple\n",
    "\n",
    "\n",
    "def myfoodchoice (*args, **kwargs):\n",
    "    print (args)\n",
    "    print (kwargs)\n",
    "    print ( 'I would like to have {} {}'.format (args[1], kwargs['junk']))\n",
    "    \n",
    "myfoodchoice (2,5,4,5, junk = 'samosa', healthy = 'lemonade')\n",
    "\n",
    "#(2, 5, 4, 5)\n",
    "# {'junk': 'samosa', 'healthy': 'lemonade'}\n",
    "# I would like to have 5 samosa\n",
    "\n",
    "\n",
    "def myevenfunc (*args):\n",
    "    mylist = []\n",
    "    for item in args:\n",
    "        if item%2==0:\n",
    "            mylist.append(item)\n",
    "    return mylist\n",
    "\n",
    "mylist = myevenfunc(2,3,4,5,6,9,10,12)\n",
    "mylist\n",
    "# [2, 4, 6, 10, 12]\n",
    "\n",
    "def myfunc (name = 'name'):\n",
    "    \n",
    "    name_ind =0\n",
    "    ind = 0\n",
    "    res_str = []\n",
    "    \n",
    "    #name_list = name.split()\n",
    "    #print (name_list)\n",
    "    \n",
    "    for every_name in name_list:\n",
    "        #print('Processing' + every_name)\n",
    "        # 'Amit'\n",
    "        ind =0\n",
    "        \n",
    "        for let in every_name:\n",
    "            if ind % 2 == 0: \n",
    "                res_str.append(let.upper())\n",
    "            else:\n",
    "                res_str.append(let.lower())\n",
    "            ind+=1\n",
    "    return res_str\n",
    "\n",
    "my_str_case ('Alind Sharma')\n",
    "\n",
    "\n",
    "# ['Alind', 'Sharma']\n",
    "# ProcessingAlind\n",
    "# ProcessingSharma\n",
    "# ['A', 'l', 'I', 'n', 'D', 'S', 'h', 'A', 'r', 'M', 'a']\n",
    "\n",
    "\n",
    "def myfunc (name):\n",
    "    ind = 0\n",
    "    s = ''\n",
    "    for l in name:\n",
    "        if ind % 2 == 0 :\n",
    "            s =  s + l.upper()\n",
    "        else: \n",
    "            s = s + l.lower()\n",
    "        ind +=1\n",
    "    return s\n",
    "\n",
    "myfunc('Amit')\n",
    "\n",
    "#'AmIt'\n",
    "\n",
    "# Function Practice Excercises\n",
    "# Write a function that returns the lesser of two given numbers if both numbers are even, \n",
    "# but returns the greater if one or both numbers are odd\n",
    "def lesseroftwoevens (a, b):\n",
    "    if a % 2 == 0 and b % 2 == 0:\n",
    "        return min(a,b)\n",
    "    else:\n",
    "        return max(a,b)\n",
    "    \n",
    "\n",
    "lesseroftwoevens (3, 7)\n",
    "\n",
    "# 7\n",
    "\n",
    "# sentence reversal - 'I am home' to 'home am i' \n",
    "# note there should not be a space in the end\n",
    "\n",
    "def sent_rev (mstr):\n",
    "    mlist = mstr.split()\n",
    "    rlist = mlist [::-1]\n",
    "    rstr = ' '.join(rlist)\n",
    "    print('rstr - ', rstr)\n",
    "    print (mlist)\n",
    "    print( mlist[::-1]) # reversal of list but the list remains the same\n",
    "\n",
    "sent_rev('I am home')\n",
    "\n",
    "# rstr -  home am I\n",
    "\n",
    "# Given an integer n, return True if n is within 10 of either 100 or 200\n",
    "def withinrange10 (n):\n",
    "    if n in range (100,111) or n in range(200,211) or n in range (90,100) or n in range (190,200):\n",
    "        return True\n",
    "    else:\n",
    "        return False\n",
    "    \n",
    "\n",
    "# track the repeating integer index in a list of integers  \n",
    "# if 3 repeats in a list return True \n",
    "# repetition of integer 3 \n",
    "def repeating3 (intlist):\n",
    "    print (intlist)\n",
    "    ind = 0\n",
    "    for i in intlist:\n",
    "        if intlist[ind] == 3 and intlist [ind+1] == 3:\n",
    "            print (ind, ind+1)\n",
    "            return True\n",
    "        else:\n",
    "            pass\n",
    "        ind += 1\n",
    "\n",
    "        \n",
    "# Given a list of ints, \n",
    "# return True if the array contains a 3 next to a 3 somewhere.\n",
    "# repetition of integer 3 \n",
    "\n",
    "def repeating3 (intlist):\n",
    "    print (len(intlist))\n",
    "    ind = 0\n",
    "    for i in intlist:\n",
    "        print (ind, ind+1)\n",
    "        if ind < (len(intlist)-1) and intlist[ind] == 3 and intlist [ind+1] == 3:\n",
    "            return True\n",
    "        else:\n",
    "            pass\n",
    "        ind += 1\n",
    "    return False\n",
    "\n",
    "repeating3 ([1,2,3,4,5,3])\n",
    "\n"
   ]
  },
  {
   "cell_type": "markdown",
   "metadata": {},
   "source": [
    "## Numbers"
   ]
  },
  {
   "cell_type": "markdown",
   "metadata": {},
   "source": [
    "## Types of numbers\n",
    "\n",
    "Number is an numeric value expressed as numeric literals\n",
    "\n",
    "We'll mainly focus on integers and floating point numbers.\n",
    "\n",
    "Integers are whole numbers, positive or negative. For example: 2 and -2 are examples of integers.\n",
    "\n",
    "Floating point numbers \n",
    "    have a decimal point\n",
    "    use an exponential (e) to define the number. \n",
    "    \n",
    "For example 2.0 and -2.1 are examples of floating point numbers. 4E2 (4 times 10 to the power of 2) is also an example of a floating point number in Python."
   ]
  },
  {
   "cell_type": "code",
   "execution_count": 1,
   "metadata": {},
   "outputs": [
    {
     "data": {
      "text/plain": [
       "1"
      ]
     },
     "execution_count": 1,
     "metadata": {},
     "output_type": "execute_result"
    }
   ],
   "source": [
    "# Floor Division :TRUNCATES the result of division out of decimel points and does not ROUND it\n",
    "\n",
    "7//4 # = 1.7 = 1"
   ]
  },
  {
   "cell_type": "code",
   "execution_count": 2,
   "metadata": {},
   "outputs": [
    {
     "data": {
      "text/plain": [
       "3"
      ]
     },
     "execution_count": 2,
     "metadata": {},
     "output_type": "execute_result"
    }
   ],
   "source": [
    "# Modulo gives the remainder\n",
    "7%4"
   ]
  },
  {
   "cell_type": "code",
   "execution_count": 3,
   "metadata": {},
   "outputs": [
    {
     "data": {
      "text/plain": [
       "8"
      ]
     },
     "execution_count": 3,
     "metadata": {},
     "output_type": "execute_result"
    }
   ],
   "source": [
    "# Powers\n",
    "2**3"
   ]
  },
  {
   "cell_type": "code",
   "execution_count": 4,
   "metadata": {},
   "outputs": [
    {
     "data": {
      "text/plain": [
       "2.0"
      ]
     },
     "execution_count": 4,
     "metadata": {},
     "output_type": "execute_result"
    }
   ],
   "source": [
    "# Can also do roots this way\n",
    "4**0.5\n"
   ]
  },
  {
   "cell_type": "markdown",
   "metadata": {},
   "source": [
    "Variable names:\n",
    "\n",
    "    1. Can not start with a number.\n",
    "    2. No spaces \n",
    "    3. Can't use any of these symbols :'\",<>/?|\\()!@#$%^&*~-+    \n",
    "    4. Variable names are lowercase.\n",
    "    5. GLOBAL variables in all caps\n",
    "    \n",
    " \n",
    " What is PEP8?\n",
    " \n",
    "PEP8 or Python Enhancement Proposal is a set of formatting rules to maximize its readability of python code."
   ]
  },
  {
   "cell_type": "code",
   "execution_count": null,
   "metadata": {},
   "outputs": [],
   "source": []
  },
  {
   "cell_type": "code",
   "execution_count": null,
   "metadata": {},
   "outputs": [],
   "source": []
  },
  {
   "cell_type": "markdown",
   "metadata": {},
   "source": [
    "## VARIABLE ASSIGNMENT \n",
    "\n",
    " What is `Dynamic` and `Static` Typing?\n",
    "\n",
    "A language that is `dynamically typed` allows you to reassign a variable to different data types. \n",
    "\n",
    "A language that is `statically typed`does not allow you to reassign a different data type to the variable once it has been declared. \n",
    "\n",
    "\n",
    "### Pros and Cons of Dynamic Typing\n",
    "#### Pros of Dynamic Typing\n",
    "* very easy to work with\n",
    "* faster development time\n",
    "\n",
    "#### Cons of Dynamic Typing\n",
    "* may result in unexpected bugs!\n",
    "* you need to be aware of `type()`"
   ]
  },
  {
   "cell_type": "code",
   "execution_count": null,
   "metadata": {},
   "outputs": [],
   "source": []
  },
  {
   "cell_type": "markdown",
   "metadata": {},
   "source": [
    "# STRINGS\n",
    "\n",
    "String is an `ordered and immutable sequence of characters` \n",
    "\n",
    "`immutability` once created any single index cannot be changed or replaced\n",
    "\n",
    "#### String Slicing\n",
    "We can use a <code>:</code> to perform *slicing* \n",
    "\n",
    " **s[ start : End(not included): Stepsize]**\n",
    " \n",
    " \n",
    " \n",
    " "
   ]
  },
  {
   "cell_type": "code",
   "execution_count": 9,
   "metadata": {},
   "outputs": [
    {
     "data": {
      "text/plain": [
       "'malaK ma I'"
      ]
     },
     "execution_count": 9,
     "metadata": {},
     "output_type": "execute_result"
    }
   ],
   "source": [
    "# Reversal of string using slicing # Reversing a string # string reversal \n",
    "s = 'I am Kalam'\n",
    "\n",
    "# just run the complete string with a negative step size\n",
    "s [::-1] "
   ]
  },
  {
   "cell_type": "code",
   "execution_count": 10,
   "metadata": {},
   "outputs": [
    {
     "data": {
      "text/plain": [
       "'I am KalamHello'"
      ]
     },
     "execution_count": 10,
     "metadata": {},
     "output_type": "execute_result"
    }
   ],
   "source": [
    "# string operations are simple \n",
    "# concatenation needs a plus only\n",
    "\n",
    "s + ' Hello'"
   ]
  },
  {
   "cell_type": "code",
   "execution_count": 11,
   "metadata": {},
   "outputs": [
    {
     "data": {
      "text/plain": [
       "'I am KalamI am Kalam'"
      ]
     },
     "execution_count": 11,
     "metadata": {},
     "output_type": "execute_result"
    }
   ],
   "source": [
    "# string multiplication \n",
    "s*2"
   ]
  },
  {
   "cell_type": "markdown",
   "metadata": {},
   "source": [
    "# string methods \n",
    "\n",
    " **NOTE:  All string methods returns new values. They do not change the original string.**\n",
    " \n",
    "\n",
    "`len`\n",
    "\n",
    "`upper `\n",
    "\n",
    "`lower `\n",
    "\n",
    "`split`: \n",
    "\n",
    "**str.split('separator')**: Splits the string on spaces and creates a list of words\n",
    "\n",
    "`join`\n",
    "\n",
    "**'char'.join( population of words list/tuple )**\n",
    "\n",
    "**'char'.join( list1 )** : will join the words of the list with char as the glue \n",
    "\n",
    "\n",
    "Aligning/Alingnement of string \n",
    "\n",
    "`string.center(length, character)`: centre align the string with character as the padding medium\n",
    "\n",
    "Case\n",
    "\n",
    "`str.lower()`: lower case\n",
    "\n",
    "`str.casefold()` - stronger and aggressive version of str.lower()\n",
    "\n",
    "\n",
    "`str.upper()`: upper case\n",
    "\n",
    "`str.capitalize()`: capitalize first character of the string\n",
    "\n",
    "\n"
   ]
  },
  {
   "cell_type": "code",
   "execution_count": 13,
   "metadata": {},
   "outputs": [
    {
     "name": "stdout",
     "output_type": "stream",
     "text": [
      "I AM KALAM\n",
      "i am kalam\n"
     ]
    }
   ],
   "source": [
    "print (     s.upper()        )\n",
    "print (     s.lower()        )\n"
   ]
  },
  {
   "cell_type": "code",
   "execution_count": null,
   "metadata": {},
   "outputs": [],
   "source": []
  },
  {
   "cell_type": "markdown",
   "metadata": {},
   "source": [
    "**str.split(separator)**\n",
    "\n",
    "it will return a list of words\n"
   ]
  },
  {
   "cell_type": "code",
   "execution_count": 16,
   "metadata": {},
   "outputs": [
    {
     "name": "stdout",
     "output_type": "stream",
     "text": [
      "['I', 'am', 'Kalam']\n",
      "['I ', 'm K', 'l', 'm']\n"
     ]
    }
   ],
   "source": [
    "print (    s.split()    ) # defualt split on space\n",
    "\n",
    "print (    s.split('a')    ) # split on a \n"
   ]
  },
  {
   "cell_type": "code",
   "execution_count": null,
   "metadata": {},
   "outputs": [],
   "source": []
  },
  {
   "cell_type": "code",
   "execution_count": null,
   "metadata": {},
   "outputs": [],
   "source": []
  },
  {
   "cell_type": "markdown",
   "metadata": {},
   "source": [
    "**str.split(separator, no of splits)**\n",
    "\n",
    "`str1.split(' ', 1 )` # will create only only one split from the end \n",
    "`str1.rsplit(' ', 1)` # create one split from the right\n"
   ]
  },
  {
   "cell_type": "code",
   "execution_count": 24,
   "metadata": {},
   "outputs": [
    {
     "name": "stdout",
     "output_type": "stream",
     "text": [
      "['I', 'am kalam']\n",
      "['I am', 'kalam']\n"
     ]
    }
   ],
   "source": [
    "str1 = 'I am kalam'\n",
    "print (     str1.split(' ', 1)   )\n",
    "print (     str1.rsplit(' ', 1)   )\n"
   ]
  },
  {
   "cell_type": "markdown",
   "metadata": {},
   "source": [
    "**Joining words to form a string on with a character**\n",
    "\n",
    "`'character'.join(list/tuple etc)`\n",
    "\n",
    "`''.join( collection )`: will just join all the words of the collection \n"
   ]
  },
  {
   "cell_type": "code",
   "execution_count": 21,
   "metadata": {},
   "outputs": [
    {
     "name": "stdout",
     "output_type": "stream",
     "text": [
      "I am List1\n",
      "I am Tuple1\n",
      "IamList1\n",
      "I!am!List1\n"
     ]
    }
   ],
   "source": [
    "list1 = ['I', 'am', 'List1']\n",
    "tuple1 = ('I', 'am', 'Tuple1')\n",
    "\n",
    "print (  ' '.join(list1)     ) # NOTE: no space in the begining as the space is a joiner. \n",
    "\n",
    "print (  ' '.join(tuple1)    ) \n",
    "\n",
    "print (  ''.join(list1)    )\n",
    "\n",
    "print (  '!'.join(list1)    )"
   ]
  },
  {
   "cell_type": "code",
   "execution_count": null,
   "metadata": {},
   "outputs": [],
   "source": []
  },
  {
   "cell_type": "markdown",
   "metadata": {},
   "source": [
    "integer = `str1.count('text', start, end)` : occurences of text in the string.\n",
    "\n",
    "\n",
    "integer = `str1.find('text', start, end)` : \n",
    "                  \n",
    "                  returns the index FIRST occurence of text in string \n",
    "                  \n",
    "                  returns -1 if value not found\n",
    "\n"
   ]
  },
  {
   "cell_type": "code",
   "execution_count": 29,
   "metadata": {},
   "outputs": [
    {
     "name": "stdout",
     "output_type": "stream",
     "text": [
      "1\n",
      "17\n",
      "-1\n"
     ]
    }
   ],
   "source": [
    "str1 = 'There are lot of apples in the apple farm. But these apples are not so good'\n",
    "\n",
    "print (           str1.count('apples', 10, 30)               )\n",
    "\n",
    "print (           str1.find('apples')               )\n",
    "\n",
    "print (           str1.find('apples', 10, 16)               )\n",
    "# uses: whether a world occurs in a string \n",
    "# How many times a word occurs in a string "
   ]
  },
  {
   "cell_type": "code",
   "execution_count": null,
   "metadata": {},
   "outputs": [],
   "source": []
  },
  {
   "cell_type": "code",
   "execution_count": 24,
   "metadata": {},
   "outputs": [
    {
     "data": {
      "text/plain": [
       "['a', 'x', 'b', 'c']"
      ]
     },
     "execution_count": 24,
     "metadata": {},
     "output_type": "execute_result"
    }
   ],
   "source": [
    "new_list = [ 'a', 'e', 'x', 'b', 'c']\n",
    "new_list.pop(1) # popping an item at indexed position\n",
    "new_list"
   ]
  },
  {
   "cell_type": "code",
   "execution_count": 26,
   "metadata": {},
   "outputs": [],
   "source": [
    "# Check if the number is prime \n",
    "def is_prime_1 (num):\n",
    "    for i in range (2, num): # range key word was missing\n",
    "        #print(i)\n",
    "        if num % i == 0:\n",
    "            #print ('i', i)\n",
    "            print(num, ' is not prime')\n",
    "            break\n",
    "    else:\n",
    "        print(num, ' is prime')"
   ]
  },
  {
   "cell_type": "code",
   "execution_count": 30,
   "metadata": {},
   "outputs": [
    {
     "name": "stdout",
     "output_type": "stream",
     "text": [
      "1526  is not prime\n"
     ]
    }
   ],
   "source": [
    "is_prime_1(1526)"
   ]
  },
  {
   "cell_type": "code",
   "execution_count": 38,
   "metadata": {},
   "outputs": [],
   "source": [
    "# Prime: Better method\n",
    "\n",
    "import math\n",
    "\n",
    "def is_prime_2 (num):\n",
    "    '''\n",
    "    Faster function for finding out whether a number is prime \n",
    "    '''\n",
    "    if num == 1 or num == 2:\n",
    "        return True\n",
    "    \n",
    "    if num % 2 == 0 :\n",
    "        print(num, ' is not prime')\n",
    "        return False\n",
    "    \n",
    "    for i in range(3, int(math.sqrt(num)), 2):\n",
    "        if num % i == 0 :\n",
    "            print(num, ' is not prime')\n",
    "            return False\n",
    "    else: \n",
    "        print(num, ' is prime')\n",
    "        return True\n",
    "        \n"
   ]
  },
  {
   "cell_type": "code",
   "execution_count": 39,
   "metadata": {},
   "outputs": [
    {
     "name": "stdout",
     "output_type": "stream",
     "text": [
      "13  is prime\n"
     ]
    },
    {
     "data": {
      "text/plain": [
       "True"
      ]
     },
     "execution_count": 39,
     "metadata": {},
     "output_type": "execute_result"
    }
   ],
   "source": [
    "is_prime_2(13)"
   ]
  },
  {
   "cell_type": "code",
   "execution_count": 17,
   "metadata": {},
   "outputs": [
    {
     "name": "stdout",
     "output_type": "stream",
     "text": [
      "['Hi', 'this', 'is', 'the', 'great', 'wall', 'of', 'china']\n",
      "None\n"
     ]
    },
    {
     "data": {
      "text/plain": [
       "'china of wall great the is this Hi'"
      ]
     },
     "execution_count": 17,
     "metadata": {},
     "output_type": "execute_result"
    }
   ],
   "source": [
    "# sentence reversal \n",
    "str1 = 'Hi this is the great wall of china'\n",
    "list1= str1.split(' ')\n",
    "print (str1.split(' '))\n",
    "\n",
    "print (list1.reverse())\n",
    "' '.join (list1)\n",
    "\n",
    "#for item in str1.split(' '):\n",
    "    "
   ]
  },
  {
   "cell_type": "code",
   "execution_count": 21,
   "metadata": {},
   "outputs": [],
   "source": [
    "# reversal of a sentence reversal of the words of a sentence reversal of string of words \n",
    "def sentence_reversal_2 (str1):\n",
    "    list1 = str1.split()\n",
    "    list1.reverse()\n",
    "    return ' '.join(list1)"
   ]
  },
  {
   "cell_type": "code",
   "execution_count": 22,
   "metadata": {},
   "outputs": [
    {
     "data": {
      "text/plain": [
       "'China of wall great the is This'"
      ]
     },
     "execution_count": 22,
     "metadata": {},
     "output_type": "execute_result"
    }
   ],
   "source": [
    "sentence_reversal_2 ('This is the great wall of China')"
   ]
  },
  {
   "cell_type": "code",
   "execution_count": 78,
   "metadata": {},
   "outputs": [],
   "source": [
    "\n",
    "# obsolete\n",
    "def sentence_reversal (str1):\n",
    "    '''\n",
    "    obsolete but a way to know how to call certain functions from inside of the function\n",
    "    '''\n",
    "    list1 = str.split(str1)\n",
    "    string1 = ''\n",
    "    print('original list: ', list1)\n",
    "    list.reverse(list1)\n",
    "    print('reverted list: ', list1)\n",
    "    \n",
    "    string1=\" \".join(list1) # Form a sentence from the elements of the list\n",
    "    string1= string1.capitalize() # Sentence Case. Capitalize the first letter of the sentence \n",
    "    string1 += '.'\n",
    "    print(string1)\n",
    "    \n",
    "    #for i in list1:\n",
    "    #    print(i)\n",
    "    #    string1 = string1 + ' ' + i\n",
    "    #    print (string1)"
   ]
  },
  {
   "cell_type": "code",
   "execution_count": 79,
   "metadata": {},
   "outputs": [
    {
     "name": "stdout",
     "output_type": "stream",
     "text": [
      "original list:  ['i', 'am', 'home']\n",
      "reverted list:  ['home', 'am', 'i']\n",
      "Home am i.\n"
     ]
    }
   ],
   "source": [
    "sentence_reversal ('i am home')"
   ]
  },
  {
   "cell_type": "code",
   "execution_count": 84,
   "metadata": {},
   "outputs": [],
   "source": [
    "def almost_there (num):\n",
    "    '''\n",
    "    Returns True if the number is within 100 +- 10 or 200 +- 10\n",
    "    Whether a number is in a range or not\n",
    "    '''\n",
    "    return (( num in range (90,111) ) or ( num in range(190,211) ))\n",
    "        \n",
    "    "
   ]
  },
  {
   "cell_type": "code",
   "execution_count": 87,
   "metadata": {},
   "outputs": [
    {
     "data": {
      "text/plain": [
       "True"
      ]
     },
     "execution_count": 87,
     "metadata": {},
     "output_type": "execute_result"
    }
   ],
   "source": [
    "\n",
    "almost_there (209)"
   ]
  },
  {
   "cell_type": "code",
   "execution_count": 25,
   "metadata": {},
   "outputs": [
    {
     "data": {
      "text/plain": [
       "False"
      ]
     },
     "execution_count": 25,
     "metadata": {},
     "output_type": "execute_result"
    }
   ],
   "source": [
    "# whether the list has unique elements \n",
    "# solution: convert the list into set and compare the lengths if equal list has uniqe elements\n",
    "list1 = [1,2,4,4,5,6,6,7]\n",
    "\n",
    "def list_is_unique(list1):\n",
    "    return (len(list1) == len(set(list1)))\n",
    "    \n",
    "list_is_unique(list1)"
   ]
  },
  {
   "cell_type": "code",
   "execution_count": 107,
   "metadata": {},
   "outputs": [],
   "source": [
    "# whether the list has repeated elements - whether the elements of the list are unique\n",
    "def list_has_num (list1, num):\n",
    "    '''\n",
    "    OBSOLETE\n",
    "    return true if a repetition of list element is found\n",
    "    '''\n",
    "    flag = False\n",
    "    ind1 = 0\n",
    "    ind2 = 0\n",
    "    #list1 = list1.sort() \n",
    "    for i in range (0, len(list1)):\n",
    "        if list1[i] == num: \n",
    "            ind1 = i\n",
    "            break \n",
    "        \n",
    "    if ind1+1 < len(list1) and list1[ind1+1] == num :\n",
    "             return True\n",
    "    return False\n",
    "            \n",
    "            \n",
    "    "
   ]
  },
  {
   "cell_type": "code",
   "execution_count": 108,
   "metadata": {},
   "outputs": [
    {
     "data": {
      "text/plain": [
       "False"
      ]
     },
     "execution_count": 108,
     "metadata": {},
     "output_type": "execute_result"
    }
   ],
   "source": [
    "list_has_num ([1,2,4,4,5,6,6,7], 5)"
   ]
  },
  {
   "cell_type": "code",
   "execution_count": 114,
   "metadata": {},
   "outputs": [],
   "source": [
    "def repeating_characters (str1, n):\n",
    "    '''\n",
    "    Reconstruct the string with each character repeating n times\n",
    "    ('Hello') --> 'HHHeeellllllooo'\n",
    "    '''\n",
    "    \n",
    "    str2 = ''\n",
    "    for i in range (len(str1)):\n",
    "        str2 += str1[i]*n\n",
    "    return str2\n"
   ]
  },
  {
   "cell_type": "code",
   "execution_count": 117,
   "metadata": {},
   "outputs": [
    {
     "data": {
      "text/plain": [
       "'HHHeeellllllooo'"
      ]
     },
     "execution_count": 117,
     "metadata": {},
     "output_type": "execute_result"
    }
   ],
   "source": [
    "repeating_characters ('Hello', 3)"
   ]
  },
  {
   "cell_type": "markdown",
   "metadata": {},
   "source": [
    "## Interview Questions"
   ]
  },
  {
   "cell_type": "code",
   "execution_count": 31,
   "metadata": {},
   "outputs": [
    {
     "name": "stdout",
     "output_type": "stream",
     "text": [
      "print(value, ..., sep=' ', end='\\n', file=sys.stdout, flush=False)\n",
      "\n",
      "Prints the values to a stream, or to sys.stdout by default.\n",
      "Optional keyword arguments:\n",
      "file:  a file-like object (stream); defaults to the current sys.stdout.\n",
      "sep:   string inserted between values, default a space.\n",
      "end:   string appended after the last value, default a newline.\n",
      "flush: whether to forcibly flush the stream.\n"
     ]
    }
   ],
   "source": [
    "# How to print just the docstring of the function\n",
    "# funtion.__doc__\n",
    "print(print.__doc__)"
   ]
  },
  {
   "cell_type": "code",
   "execution_count": null,
   "metadata": {},
   "outputs": [],
   "source": []
  },
  {
   "cell_type": "markdown",
   "metadata": {},
   "source": [
    "## How you can print date and time in Python?\n",
    "\n",
    "The `datetime`module has classes for manipulating dates and times. \n",
    "\n",
    "`datetime.now(tz=None)` returns the current local date and time. \n",
    "\n",
    "If optional argument tz is None or not specified, this is like today().\n"
   ]
  },
  {
   "cell_type": "code",
   "execution_count": 33,
   "metadata": {},
   "outputs": [
    {
     "name": "stdout",
     "output_type": "stream",
     "text": [
      "2019-07-22 16:14:10.432130\n",
      "Current date and time is (dd-mm-yy hh-mm-ss) : 22-07-2019 16:07:42\n",
      "2019-07-22 16:14:10.433131\n",
      "22-07-19 16h-14m-10s\n",
      "22-07-19\n"
     ]
    }
   ],
   "source": [
    "# now.strftime(\"%d-%m-%Y %H:%M:%S\") string formatting function of a time \n",
    "import datetime\n",
    "now1 = datetime.datetime.now() \n",
    "print (now1) # format 2019-07-22 16:07:42.440938\n",
    "print(f'Current date and time is (dd-mm-yy hh-mm-ss) : {now.strftime(\"%d-%m-%Y %H:%M:%S\")}')\n",
    "\n",
    "print (now1.today())\n",
    "\n",
    "print (now1.strftime('%d-%m-%y %Hh-%Mm-%Ss'))\n",
    "\n",
    "print (now1.strftime('%d-%m-%y'))\n",
    "\n"
   ]
  },
  {
   "cell_type": "code",
   "execution_count": 39,
   "metadata": {},
   "outputs": [
    {
     "name": "stdout",
     "output_type": "stream",
     "text": [
      "   February 2014\n",
      "Mo Tu We Th Fr Sa Su\n",
      "                1  2\n",
      " 3  4  5  6  7  8  9\n",
      "10 11 12 13 14 15 16\n",
      "17 18 19 20 21 22 23\n",
      "24 25 26 27 28\n",
      "\n"
     ]
    }
   ],
   "source": [
    "# print calendar of a month\n",
    "# calendar.month(year, month)\n",
    "import calendar\n",
    "print(calendar.month(2014, 2))"
   ]
  },
  {
   "cell_type": "markdown",
   "metadata": {},
   "source": [
    "##  Generate a list and tuple with comma-separated numbers\n",
    "\n",
    "Take a string and split it on commas to form a list and typecase list to tuple\n",
    "\n"
   ]
  },
  {
   "cell_type": "code",
   "execution_count": 12,
   "metadata": {},
   "outputs": [
    {
     "name": "stdout",
     "output_type": "stream",
     "text": [
      "Enter some comma separated values : 1,2,3,4\n",
      "list: ['1', '2', '3', '4']\n",
      "Tuple: ('1', '2', '3', '4')\n"
     ]
    }
   ],
   "source": [
    "values = input ('Enter some comma separated values : ')\n",
    "list1 = values.split (',')\n",
    "print (f'list: {list1}')\n",
    "tuple1 = tuple(list1)\n",
    "print (f'Tuple: {tuple1}')\n"
   ]
  },
  {
   "cell_type": "markdown",
   "metadata": {},
   "source": [
    "## How to find extension of a file"
   ]
  },
  {
   "cell_type": "code",
   "execution_count": 38,
   "metadata": {},
   "outputs": [
    {
     "name": "stdout",
     "output_type": "stream",
     "text": [
      ".sharma.java\n",
      ".java\n"
     ]
    }
   ],
   "source": [
    "file_name = 'amit.sharma.java'\n",
    "#find last index of a character\n",
    "print (file_name [file_name.find('.')::]) # find will find the first occurence \n",
    "print (file_name [file_name.rfind('.')::]) # rfind will find the last occurence"
   ]
  },
  {
   "cell_type": "code",
   "execution_count": null,
   "metadata": {},
   "outputs": [],
   "source": []
  },
  {
   "cell_type": "code",
   "execution_count": 40,
   "metadata": {},
   "outputs": [
    {
     "name": "stdout",
     "output_type": "stream",
     "text": [
      "\n",
      "\n",
      "a string that you \"don't\" have to escape\n",
      "This\n",
      "is a  ....... multi-line\n",
      "heredoc string --------> example\n",
      "\n",
      "\n",
      " whatever you print \"here\"  is like a docstring \n",
      "you can give newlines like what you want to \n",
      "you can write \"don't\"\n",
      "it is pretty much the same \n",
      "\n"
     ]
    }
   ],
   "source": [
    "# print like a docstring\n",
    "print(\"\"\"\n",
    "\n",
    "a string that you \"don't\" have to escape\n",
    "This\n",
    "is a  ....... multi-line\n",
    "heredoc string --------> example\n",
    "\n",
    "\"\"\")\n",
    "\n",
    "print (\"\"\" whatever you print \"here\"  is like a docstring \n",
    "you can give newlines like what you want to \n",
    "you can write \"don't\"\n",
    "it is pretty much the same \n",
    "\"\"\")"
   ]
  },
  {
   "cell_type": "code",
   "execution_count": 45,
   "metadata": {},
   "outputs": [
    {
     "name": "stdout",
     "output_type": "stream",
     "text": [
      "<class 'datetime.date'>\n",
      "9 days, 0:00:00\n",
      "9 days, 0:00:00\n",
      "9\n"
     ]
    }
   ],
   "source": [
    "# number of days between two dates\n",
    "import datetime\n",
    "start_date = date(2014, 7, 2)\n",
    "end_date = date(2014, 7, 11) #<class 'datetime.date'>\n",
    "\n",
    "print (type(start_date))\n",
    "delta = end_date - start_date # <class 'datetime.timedelta'>\n",
    "difference =end_date - start_date\n",
    "print (delta) # delta is kept to let you know what a difference in dates is called \n",
    "print (difference)\n",
    "print(difference.days)"
   ]
  },
  {
   "cell_type": "code",
   "execution_count": 46,
   "metadata": {},
   "outputs": [
    {
     "name": "stdout",
     "output_type": "stream",
     "text": [
      "list: True\n",
      "tuple: True\n",
      "list: True\n"
     ]
    }
   ],
   "source": [
    "# How to chek if a value is in some set of data\n",
    "def check_value_in_data(data, value):\n",
    "    return value in data \n",
    "# this is similar to \n",
    "# if item in data:\n",
    "\n",
    "print (f'list: {check_value_in_data ([1,2,3,4], 4)}')\n",
    "print (f'tuple: {check_value_in_data ((1,2,3,4), 4)}')\n",
    "print (f\"\"\"list: {check_value_in_data ({'amit':4}, 'amit')}\"\"\") \n"
   ]
  },
  {
   "cell_type": "code",
   "execution_count": 9,
   "metadata": {},
   "outputs": [
    {
     "name": "stdout",
     "output_type": "stream",
     "text": [
      "**\n",
      "22\n",
      "***\n",
      "333\n",
      "****\n",
      "4444\n",
      "****\n",
      "4444\n",
      "*****\n",
      "55555\n",
      "******\n",
      "666666\n"
     ]
    }
   ],
   "source": [
    "# printing a histogram or graph or a statistic\n",
    "def graph (list1):\n",
    "    symbol = '*'\n",
    "    for n in list1:\n",
    "        print (symbol*n)\n",
    "        print (str(n)*n)\n",
    "        \n",
    "graph((2,3,4))\n",
    "graph([4,5,6])"
   ]
  },
  {
   "cell_type": "code",
   "execution_count": 63,
   "metadata": {},
   "outputs": [
    {
     "name": "stdout",
     "output_type": "stream",
     "text": [
      "200 15\n",
      "count: 3\n",
      "5\n"
     ]
    }
   ],
   "source": [
    "# GCD Greatest Common Divisor\n",
    "def gcd(num1, num2):\n",
    "    gcd = 1\n",
    "    #count = 0\n",
    "    # this statement would greatly reduce the number of iterations to \n",
    "    x = max(num1, num2)\n",
    "    y = min (num1, num2)\n",
    "    #print (x,y)\n",
    "    \n",
    "    if x % y == 0:\n",
    "        return y\n",
    "    \n",
    "    for k in range(int(y / 2), 0, -1):\n",
    "        #count+=1\n",
    "        if x % k == 0 and y % k == 0:\n",
    "            gcd = k\n",
    "            break  \n",
    "    #print(f'count: {count}')\n",
    "    return gcd\n",
    "\n",
    "#print(gcd(12, 17))\n",
    "print(gcd(15, 200))"
   ]
  },
  {
   "cell_type": "code",
   "execution_count": 65,
   "metadata": {},
   "outputs": [
    {
     "data": {
      "text/plain": [
       "5"
      ]
     },
     "execution_count": 65,
     "metadata": {},
     "output_type": "execute_result"
    }
   ],
   "source": [
    "# fastcode gcd \n",
    "\n",
    "def gcd_fast (num1, num2):\n",
    "    x = max(num1, num2)\n",
    "    y = min(num1, num2)\n",
    "    \n",
    "    if x % y == 0:\n",
    "        return y\n",
    "    \n",
    "    for i in range (y//2, 0, -1):\n",
    "        if x % i ==0 and y % i == 0:\n",
    "            return i\n",
    "\n",
    "gcd_fast(15, 200)"
   ]
  },
  {
   "cell_type": "code",
   "execution_count": 66,
   "metadata": {},
   "outputs": [
    {
     "name": "stdout",
     "output_type": "stream",
     "text": [
      "12\n",
      "255\n"
     ]
    }
   ],
   "source": [
    "# LCM - lowest Common Multiple \n",
    "def lcm(x,y):\n",
    "    z = max (x,y)\n",
    "                     #print (f'z: {z}')\n",
    "    while (True):\n",
    "        if ((z % x == 0) and (z % y == 0)):\n",
    "            return z\n",
    "        z += 1\n",
    "        \n",
    "print(lcm(4, 6))\n",
    "print(lcm(15, 17))"
   ]
  },
  {
   "cell_type": "code",
   "execution_count": 74,
   "metadata": {},
   "outputs": [
    {
     "name": "stdout",
     "output_type": "stream",
     "text": [
      "None\n",
      "[5, 4, 3, 3, 2, 2, 2, 1, 1, 1]\n",
      "+++++++++++++++++++++++++++++\n",
      "\n",
      "<class 'reversed'>\n",
      "7\n",
      "7\n",
      "6\n",
      "6\n",
      "5\n",
      "4\n",
      "3\n",
      "2\n",
      "1\n",
      "+++++++++++++++++++++++++++++\n",
      "\n"
     ]
    },
    {
     "ename": "TypeError",
     "evalue": "'set' object is not reversible",
     "output_type": "error",
     "traceback": [
      "\u001b[1;31m---------------------------------------------------------------------------\u001b[0m",
      "\u001b[1;31mTypeError\u001b[0m                                 Traceback (most recent call last)",
      "\u001b[1;32m<ipython-input-74-0a1326219d64>\u001b[0m in \u001b[0;36m<module>\u001b[1;34m()\u001b[0m\n\u001b[0;32m     28\u001b[0m \u001b[1;33m\u001b[0m\u001b[0m\n\u001b[0;32m     29\u001b[0m \u001b[0mset1\u001b[0m \u001b[1;33m=\u001b[0m \u001b[1;33m{\u001b[0m\u001b[1;36m1\u001b[0m\u001b[1;33m,\u001b[0m\u001b[1;36m2\u001b[0m\u001b[1;33m,\u001b[0m\u001b[1;36m3\u001b[0m\u001b[1;33m,\u001b[0m\u001b[1;36m4\u001b[0m\u001b[1;33m,\u001b[0m\u001b[1;36m5\u001b[0m\u001b[1;33m,\u001b[0m\u001b[1;36m6\u001b[0m\u001b[1;33m,\u001b[0m\u001b[1;36m6\u001b[0m\u001b[1;33m}\u001b[0m \u001b[1;31m# it will take duplicate inputs but set wont save it\u001b[0m\u001b[1;33m\u001b[0m\u001b[0m\n\u001b[1;32m---> 30\u001b[1;33m \u001b[0mset_rev\u001b[0m \u001b[1;33m=\u001b[0m \u001b[0mreversed\u001b[0m \u001b[1;33m(\u001b[0m\u001b[0mset1\u001b[0m\u001b[1;33m)\u001b[0m\u001b[1;33m\u001b[0m\u001b[0m\n\u001b[0m\u001b[0;32m     31\u001b[0m \u001b[1;32mfor\u001b[0m \u001b[0mi\u001b[0m \u001b[1;32min\u001b[0m \u001b[0mset_rev\u001b[0m\u001b[1;33m:\u001b[0m\u001b[1;33m\u001b[0m\u001b[0m\n\u001b[0;32m     32\u001b[0m     \u001b[0mprint\u001b[0m \u001b[1;33m(\u001b[0m\u001b[0mi\u001b[0m\u001b[1;33m)\u001b[0m\u001b[1;33m\u001b[0m\u001b[0m\n",
      "\u001b[1;31mTypeError\u001b[0m: 'set' object is not reversible"
     ]
    }
   ],
   "source": [
    "# reverses any iterator like list/tuple etc \n",
    "# reverses anything\n",
    "\n",
    "list1 =[1,1,1,2,2,2,3,3,4,5]                            \n",
    "print(list1.reverse()) # inplace reversal of list\n",
    "print(list1)\n",
    "\n",
    "# optionaly\n",
    "#list_rev = reversed (list1)\n",
    "#for i in list_rev:\n",
    " #   print(i)\n",
    "#list_rev\n",
    "\n",
    "print ('+++++++++++++++++++++++++++++\\n')\n",
    "# for tuple you would need reversed function\n",
    "tuple1 = (1,2,3,4,5,6,6,7,7)\n",
    "tup_rev = reversed(tuple1)\n",
    "print (type(tup_rev))\n",
    "for i in tup_rev:\n",
    "    print (i)\n",
    "    \n",
    "print ('+++++++++++++++++++++++++++++\\n')\n",
    "\n",
    "# Set object is not reversible simple because it is unordered\n",
    "# but sorted will sort the set and the dictionary as well \n",
    "\n",
    "set1 = {1,2,3,4,5,6,6} # it will take duplicate inputs but set wont save it \n",
    "set_rev = reversed (set1)\n",
    "for i in set_rev:\n",
    "    print (i)"
   ]
  },
  {
   "cell_type": "code",
   "execution_count": 14,
   "metadata": {},
   "outputs": [
    {
     "name": "stdout",
     "output_type": "stream",
     "text": [
      "4\n"
     ]
    }
   ],
   "source": [
    "# pow(x, y, z) x raise to power y % (modulo/remainder) 5 \n",
    "x = pow(4, 3, 5)\n",
    "\n",
    "print(x)"
   ]
  },
  {
   "cell_type": "code",
   "execution_count": 16,
   "metadata": {},
   "outputs": [
    {
     "data": {
      "text/plain": [
       "'apple'"
      ]
     },
     "execution_count": 16,
     "metadata": {},
     "output_type": "execute_result"
    }
   ],
   "source": [
    "# next(iterable, default) will return the next item in the iterable and \n",
    "# default when the end of iterable is reached\n",
    "# to avoid some errors you can use that \n",
    "list1 = iter(['apple', 'oranges', 'tomoatoes'])\n",
    "next(list1)\n",
    "\n",
    "# NOTE: list object is not a iterator "
   ]
  },
  {
   "cell_type": "code",
   "execution_count": 18,
   "metadata": {},
   "outputs": [
    {
     "data": {
      "text/plain": [
       "9.2"
      ]
     },
     "execution_count": 18,
     "metadata": {},
     "output_type": "execute_result"
    }
   ],
   "source": [
    "abs (-9.2) # returns the absolute value of a number "
   ]
  },
  {
   "cell_type": "code",
   "execution_count": 23,
   "metadata": {},
   "outputs": [
    {
     "name": "stdout",
     "output_type": "stream",
     "text": [
      "True\n",
      "False\n",
      "True\n"
     ]
    }
   ],
   "source": [
    "# all(iterable) returns True if all the values in the iterable are true\n",
    "list1 = [1,1,1]\n",
    "list2 = [0,1,1]\n",
    "print (all (list1))\n",
    "print (all (list2))\n",
    "\n",
    "# any(iterable) returns true if any element in the iterable is true\n",
    "list2 = [0,1,1]\n",
    "print (any (list2))\n"
   ]
  },
  {
   "cell_type": "markdown",
   "metadata": {},
   "source": [
    "# Datatypes Revision"
   ]
  },
  {
   "cell_type": "markdown",
   "metadata": {},
   "source": [
    "### Numbers"
   ]
  },
  {
   "cell_type": "code",
   "execution_count": 30,
   "metadata": {},
   "outputs": [
    {
     "name": "stdout",
     "output_type": "stream",
     "text": [
      "Floor Division: 7//4= 1 \n",
      "\n",
      "Absolute Value: abs(-7.45) = 7.45\n"
     ]
    }
   ],
   "source": [
    "# Floor Division \n",
    "\n",
    "print (f'Floor Division: 7//4= {7//4} \\n') # truncates the result (does not round the result)\n",
    "print (f'Absolute Value: abs(-7.45) = {abs(-7.45)}')"
   ]
  },
  {
   "cell_type": "markdown",
   "metadata": {},
   "source": [
    "### Strings\n",
    "\n",
    "String is an `ordered and immutable sequence of characters` \n",
    "\n",
    "Slicing is picking up a part of the string "
   ]
  },
  {
   "cell_type": "code",
   "execution_count": 33,
   "metadata": {},
   "outputs": [
    {
     "data": {
      "text/plain": [
       "'dlroW olleH'"
      ]
     },
     "execution_count": 33,
     "metadata": {},
     "output_type": "execute_result"
    }
   ],
   "source": [
    "# reversal of a string\n",
    "str1 = 'Hello World'\n",
    "str1[::-1]"
   ]
  },
  {
   "cell_type": "code",
   "execution_count": null,
   "metadata": {},
   "outputs": [],
   "source": []
  },
  {
   "cell_type": "markdown",
   "metadata": {},
   "source": [
    "#### String Methods\n",
    "    NOTE:  All string methods returns new values. They do not change the original string."
   ]
  },
  {
   "cell_type": "markdown",
   "metadata": {},
   "source": [
    "`string.center(length, character)`: centre aligned string with character as the padding medium\n",
    "\n",
    "`string.rjust(length, character)` : right aligns the string\n",
    "\n",
    "`string.ljust(length, character)` : left aligns the string\n",
    "\n"
   ]
  },
  {
   "cell_type": "code",
   "execution_count": 32,
   "metadata": {},
   "outputs": [
    {
     "name": "stdout",
     "output_type": "stream",
     "text": [
      "       Hello        \n",
      "\n",
      "\n",
      "-------Hello--------\n",
      "\n",
      "\n",
      "               Hello\n",
      "\n",
      "\n",
      "Hello               \n"
     ]
    }
   ],
   "source": [
    "str1 = 'Hello'\n",
    "print (  str1.center(20) ) # print (  str1.center() ) won't work you have to give the padding\n",
    "print ('\\n')\n",
    "print ( str1.center (20, '-'))\n",
    "print ('\\n')\n",
    "print (         str1.rjust(20, ' ')        )\n",
    "print ('\\n')\n",
    "print (         str1.ljust(20, ' ')        )"
   ]
  },
  {
   "cell_type": "code",
   "execution_count": null,
   "metadata": {},
   "outputs": [],
   "source": []
  },
  {
   "cell_type": "markdown",
   "metadata": {},
   "source": [
    "\n",
    "`string.strip(characters)`: strip the string from the characters or spaces\n",
    "\n",
    "`string.lstrip(characters)`: strip the left of the strng from the characters or spaces\n",
    "\n",
    "`string.rstrip(characters)`: strip the right of the strng from the characters or spaces\n"
   ]
  },
  {
   "cell_type": "code",
   "execution_count": 59,
   "metadata": {},
   "outputs": [
    {
     "name": "stdout",
     "output_type": "stream",
     "text": [
      " str2:----Hello World-----  \n",
      "\n",
      " str2.strip('-'): Hello World      \n",
      "\n",
      " str2.lstrip('-'): Hello World-----      \n",
      "\n",
      " str2.rstrip('-'): ----Hello World      \n",
      "\n"
     ]
    }
   ],
   "source": [
    "str2 = str1.center(20, '-')\n",
    "\n",
    "print (f' str2:{str2}  \\n')\n",
    "\n",
    "print (f\"\"\" str2.strip('-'): {str2.strip('-')}      \\n\"\"\")\n",
    "\n",
    "print (f\"\"\" str2.lstrip('-'): {str2.lstrip('-')}      \\n\"\"\")\n",
    "\n",
    "print (f\"\"\" str2.rstrip('-'): {str2.rstrip('-')}      \\n\"\"\")\n",
    "\n",
    "\n",
    "\n"
   ]
  },
  {
   "cell_type": "markdown",
   "metadata": {},
   "source": [
    "\n"
   ]
  },
  {
   "cell_type": "code",
   "execution_count": null,
   "metadata": {},
   "outputs": [],
   "source": []
  },
  {
   "cell_type": "code",
   "execution_count": null,
   "metadata": {},
   "outputs": [],
   "source": []
  },
  {
   "cell_type": "markdown",
   "metadata": {},
   "source": [
    "integer = `string.find(value, start, end)`: \n",
    "\n",
    "    finds the STARRING INDEX of the FIRST OCCUREENCE specified value.\n",
    "    returns -1 if the value is not found\n",
    "\n",
    "\n",
    "integer = `string.rfind(value, start, end)`: \n",
    "\n",
    "    finds the LAST occurrence of the specified value.\n",
    "    returns -1 if the value is not found\n",
    "\n",
    "`string.index(value, start, end)`: \n",
    "    same as the find() method, but  index method raises an exception if the value is not found. \n",
    "    \n",
    "`string.rindex(value, start, end)`: \n",
    "    same as the find() method, but  index method raises an exception if the value is not found. \n",
    "\n",
    "\n",
    "**Which one is better find or index**\n",
    "\n",
    "Find because it would return -1 if the word is not find in the string, whereas the index would throw and error and terminate the program\n"
   ]
  },
  {
   "cell_type": "code",
   "execution_count": 38,
   "metadata": {},
   "outputs": [
    {
     "name": "stdout",
     "output_type": "stream",
     "text": [
      "     str1.rfind('welcome'): 17          \n",
      "\n",
      "     str1.rindex('welcome'): 17          \n",
      "\n"
     ]
    }
   ],
   "source": [
    "# finding the last occurence of a word in a string \n",
    "\n",
    "str1 = \"welcome to India welcome !!!\"\n",
    "\n",
    "print (f\"\"\"     str1.rfind('welcome'): {str1.rfind('welcome')}          \\n\"\"\")\n",
    "\n",
    "print (f\"\"\"     str1.rindex('welcome'): {str1.rindex('welcome')}          \\n\"\"\")\n"
   ]
  },
  {
   "cell_type": "code",
   "execution_count": 44,
   "metadata": {},
   "outputs": [
    {
     "name": "stdout",
     "output_type": "stream",
     "text": [
      "     str1: welcome to India welcome !!!          \n",
      "\n",
      "     str1.find('welcome'):  0       \n",
      "\n",
      "     str1.index('welcome'):  0     \n",
      "\n"
     ]
    }
   ],
   "source": [
    "str1 = \"welcome to India welcome !!!\"\n",
    "\n",
    "print (f\"\"\"     str1: {str1}          \\n\"\"\")\n",
    "\n",
    "print (f\"\"\"     str1.find('welcome'):  {str1.find('welcome')}       \\n\"\"\")\n",
    "\n",
    "print (f\"\"\"     str1.index('welcome'):  {str1.index('welcome')}     \\n\"\"\")"
   ]
  },
  {
   "cell_type": "code",
   "execution_count": 42,
   "metadata": {},
   "outputs": [
    {
     "name": "stdout",
     "output_type": "stream",
     "text": [
      "  str1.find('welcome', 5, -1):  17 \n",
      "\n",
      "  str1.index('welcome', 5, -1):  17 \n",
      "\n"
     ]
    }
   ],
   "source": [
    "print (f\"\"\"  str1.find('welcome', 5, -1):  {str1.find('welcome', 5, -1)} \\n\"\"\")\n",
    "\n",
    "print (f\"\"\"  str1.index('welcome', 5, -1):  {str1.index('welcome', 5, -1)} \\n\"\"\")\n",
    "\n"
   ]
  },
  {
   "cell_type": "code",
   "execution_count": 43,
   "metadata": {},
   "outputs": [
    {
     "name": "stdout",
     "output_type": "stream",
     "text": [
      "  str1.find('Amit'):  -1 \n",
      "\n"
     ]
    },
    {
     "ename": "ValueError",
     "evalue": "substring not found",
     "output_type": "error",
     "traceback": [
      "\u001b[1;31m---------------------------------------------------------------------------\u001b[0m",
      "\u001b[1;31mValueError\u001b[0m                                Traceback (most recent call last)",
      "\u001b[1;32m<ipython-input-43-9a4a0cc7f9e6>\u001b[0m in \u001b[0;36m<module>\u001b[1;34m()\u001b[0m\n\u001b[0;32m      1\u001b[0m \u001b[0mprint\u001b[0m \u001b[1;33m(\u001b[0m\u001b[1;34mf\"\"\"  str1.find('Amit'):  {str1.find('Amit')} \\n\"\"\"\u001b[0m\u001b[1;33m)\u001b[0m\u001b[1;33m\u001b[0m\u001b[0m\n\u001b[0;32m      2\u001b[0m \u001b[1;33m\u001b[0m\u001b[0m\n\u001b[1;32m----> 3\u001b[1;33m \u001b[0mprint\u001b[0m \u001b[1;33m(\u001b[0m\u001b[1;34mf\"\"\"  str1.index('Amit'):  {str1.index('Amit')} \\n\"\"\"\u001b[0m\u001b[1;33m)\u001b[0m\u001b[1;33m\u001b[0m\u001b[0m\n\u001b[0m",
      "\u001b[1;31mValueError\u001b[0m: substring not found"
     ]
    }
   ],
   "source": [
    "print (f\"\"\"  str1.find('Amit'):  {str1.find('Amit')} \\n\"\"\")\n",
    "\n",
    "print (f\"\"\"  str1.index('Amit'):  {str1.index('Amit')} \\n\"\"\")"
   ]
  },
  {
   "cell_type": "code",
   "execution_count": null,
   "metadata": {},
   "outputs": [],
   "source": []
  },
  {
   "cell_type": "markdown",
   "metadata": {},
   "source": [
    "integer = `string.count(value, start, end)`: counts the instances of a value in a string \n",
    "\n",
    "USE: str1.count is used in a loop to find the instances of all characters in a string"
   ]
  },
  {
   "cell_type": "code",
   "execution_count": 80,
   "metadata": {},
   "outputs": [
    {
     "name": "stdout",
     "output_type": "stream",
     "text": [
      "str1: welcome to India welcome !!! \n",
      "\n",
      "str1.count ('welcome'): 2 \n",
      "\n",
      "str1.count ('welcome', 5, -1): 1 \n",
      "\n"
     ]
    }
   ],
   "source": [
    "str1 = \"welcome to India welcome !!!\"\n",
    "\n",
    "print (f\"\"\"str1: {str1} \\n\"\"\")\n",
    "\n",
    "print (f\"\"\"str1.count ('welcome'): {str1.count ('welcome')} \\n\"\"\")\n",
    "\n",
    "print (f\"\"\"str1.count ('welcome', 5, -1): {str1.count ('welcome', 5, -1)} \\n\"\"\")\n"
   ]
  },
  {
   "cell_type": "code",
   "execution_count": null,
   "metadata": {},
   "outputs": [],
   "source": []
  },
  {
   "cell_type": "markdown",
   "metadata": {},
   "source": [
    "True/False= `string.endswith(value, start, end)`:  returns True if the string ends with the specified value, otherwise False.\n",
    "\n",
    "True/False= `string.startswith(value, start, end)`:  returns True if the string starts with the specified value, otherwise False.\n",
    "\n"
   ]
  },
  {
   "cell_type": "code",
   "execution_count": 45,
   "metadata": {},
   "outputs": [
    {
     "name": "stdout",
     "output_type": "stream",
     "text": [
      "\n",
      " str1: welcome to India welcome !!! \n",
      "\n",
      " str1.endswith('welcome'): False \n",
      "\n",
      " str1.endswith('!!!'): True \n",
      "\n",
      " str1.endswith('!'): True \n",
      "\n"
     ]
    }
   ],
   "source": [
    "str1 = \"welcome to India welcome !!!\"\n",
    "print (f\"\"\"\\n str1: {str1} \\n\"\"\")\n",
    "\n",
    "print (f\"\"\" str1.endswith('welcome'): {str1.endswith('welcome')} \\n\"\"\")\n",
    "\n",
    "print (f\"\"\" str1.endswith('!!!'): {str1.endswith('!!!')} \\n\"\"\")\n",
    "\n",
    "print (f\"\"\" str1.endswith('!'): {str1.endswith('!')} \\n\"\"\")"
   ]
  },
  {
   "cell_type": "code",
   "execution_count": null,
   "metadata": {},
   "outputs": [],
   "source": []
  },
  {
   "cell_type": "markdown",
   "metadata": {},
   "source": [
    "`string.isalnum()`:  \n",
    "\n",
    "    if the string is alphanumeric containing only (a-z) and (0-9). \n",
    "    \n",
    "    Example of characters that are not alphanumeric: (space)!#%&? etc. \n",
    "    \n",
    "    will return false if there is a space in the string\n",
    "    \n",
    "`string.isalpha()`\n",
    "    \n",
    "    returns True if the string is only alphabetical (a-z) \n",
    "    \n",
    "    will return false if there is a space in the string\n",
    "\n",
    "`string.isdigit()`  \n",
    "    \n",
    "       returns True if all the characters are digits, otherwise False. \n",
    "       \n",
    "       Exponents, like ², are also considered to be a digit\n",
    "\n",
    "`string.isnumeric()`\tReturns True if all characters in the string are numeric\n",
    "\n",
    "`string.isprintable()`\tReturns True if all characters in the string are printable\n",
    "\n",
    "`string.isspace()`\tReturns True if all characters in the string are whitespaces\n",
    "\n",
    "`string.istitle()`\tReturns True if the string follows the rules of a title\n",
    "\n",
    "\n",
    "`string.isidentifier()`:  \n",
    "\n",
    "    returns True if the string is a valid identifier, otherwise False.\n",
    "    \n",
    "    A string is considered a valid identifier if it only contains alphanumeric letters (a-z)/(0-9)/ underscores (_). \n",
    "    \n",
    "    A valid identifier cannot start with a number, or contain any spaces\n",
    "\n",
    "\n",
    "`string.casefold()` - stronger and aggressive version of str.lower()\n",
    "\n",
    "`string.islower()`\tReturns True if all characters in the string are lower case\n",
    "\n",
    "`string.isupper()`\tReturns True if all characters in the string are upper case\n",
    "\n",
    "`string.swapcase()`\tSwaps case\n",
    "\n",
    "`string.capitalize()`: Capitalize only first character of the string.\n",
    "\n",
    "\n",
    "\n",
    "`string.istitle()`: whether the string follows the rules of title-each word has first character capitalized\n",
    "\n",
    "`string.title()`\tConverts The First Character Of Each (1One) Word To Upper Case (Eg 234Amit). Note that the first letter after a non-alphabet letter is also converted into a upper case letter:\n",
    "\n",
    "`string.expandtabsize(number_of_spaces)` sets the tab size to the specified number of whitespaces. so that when you use \\t it will cause number_of_spaces to be printed \n",
    "\n",
    "`translate()`\tReturns a translated string\n",
    "`maketrans()`\tReturns a translation table to be used in translations\n",
    "\n",
    "`string.encode()`: encodes the string, using the specified encoding. If no encoding is specified, UTF-8 will be used.\n",
    "\n",
    "`string.format()`\n",
    "`string.format_map()`\tFormats specified values in a string\n",
    "\n",
    "`string.isdecimal()`: returns True if all the characters are decimals (0-9).This method is used on unicode objects."
   ]
  },
  {
   "cell_type": "code",
   "execution_count": null,
   "metadata": {},
   "outputs": [],
   "source": []
  },
  {
   "cell_type": "markdown",
   "metadata": {},
   "source": [
    "`separator.join(iterable)`: joins all elements of the iterable with the separator"
   ]
  },
  {
   "cell_type": "code",
   "execution_count": 94,
   "metadata": {},
   "outputs": [
    {
     "name": "stdout",
     "output_type": "stream",
     "text": [
      "Welcome to India all of you\n",
      "WelcometoIndiaallofyou\n",
      "Welcome to India all of you\n",
      "Welcome#to#India#all#of#you\n"
     ]
    }
   ],
   "source": [
    "# creating a sentence from a  list \n",
    "# creating a string from list\n",
    "# joining a list into a string \n",
    "list1 = ['Welcome', 'to', 'India', 'all', 'of', 'you']\n",
    "\n",
    "print (     \" \".join(list1)     )\n",
    "\n",
    "print (     \"\".join(list1)     )\n",
    "\n",
    "print (     ' '.join(list1)     )\n",
    "\n",
    "print (     '#'.join(list1)     )"
   ]
  },
  {
   "cell_type": "code",
   "execution_count": null,
   "metadata": {},
   "outputs": [],
   "source": []
  },
  {
   "cell_type": "markdown",
   "metadata": {},
   "source": [
    "`string.partition(value)`: look for first occurence of value and split the string in a tuple (before_value, value , after_value)\n",
    "\n",
    "`string.rpartition(value)`: look for last occurence of value and split the string in a tuple (before_value, value , after_value)"
   ]
  },
  {
   "cell_type": "code",
   "execution_count": 3,
   "metadata": {},
   "outputs": [
    {
     "name": "stdout",
     "output_type": "stream",
     "text": [
      "('amit.narayan.sharma', '@', 'gmail.com')\n",
      "domain = gmail.com\n"
     ]
    }
   ],
   "source": [
    "str1 = 'amit.narayan.sharma@gmail.com'\n",
    "print (        str1.partition('@')            )\n",
    "tuple1 = str1.partition('@')\n",
    "\n",
    "print ( f'domain = {tuple1[-1]}')"
   ]
  },
  {
   "cell_type": "code",
   "execution_count": 49,
   "metadata": {},
   "outputs": [
    {
     "name": "stdout",
     "output_type": "stream",
     "text": [
      " email_id.partition('@'): ('amit.narayan.sharma', '@', 'gmail.com') \n"
     ]
    }
   ],
   "source": [
    "# a way to separate the domain name and email id \n",
    "email_id = 'amit.narayan.sharma@gmail.com'\n",
    "\n",
    "print (   f\"\"\" email_id.partition('@'): {email_id.partition('@')} \"\"\"  )"
   ]
  },
  {
   "cell_type": "code",
   "execution_count": 52,
   "metadata": {},
   "outputs": [
    {
     "name": "stdout",
     "output_type": "stream",
     "text": [
      "\n",
      "\n",
      "('I am a ', 'happy', ' happy baby and i like to be happy and joyful')\n",
      "\n",
      "\n",
      "('I am a happy happy baby and i like to be ', 'happy', ' and joyful')\n"
     ]
    }
   ],
   "source": [
    "str2 = 'I am a happy happy baby and i like to be happy and joyful'\n",
    "print ('\\n')\n",
    "print (        str2.partition('happy')            )\n",
    "print ('\\n')\n",
    "print (        str2.rpartition('happy')            )"
   ]
  },
  {
   "cell_type": "code",
   "execution_count": null,
   "metadata": {},
   "outputs": [],
   "source": []
  },
  {
   "cell_type": "markdown",
   "metadata": {},
   "source": [
    "\n",
    "list =  `string.split(separator, splits)`: splits + 1 will be the number of elements in the list else whole string would be split\n",
    "\n",
    "list =  `string.rsplit(separator, splits)`\n",
    "\n",
    "\n",
    "\n"
   ]
  },
  {
   "cell_type": "code",
   "execution_count": 5,
   "metadata": {},
   "outputs": [
    {
     "name": "stdout",
     "output_type": "stream",
     "text": [
      "['I', 'am', 'a', 'happy', 'baby', 'and', 'i', 'like', 'to', 'be', 'happy', 'and', 'joyful']\n",
      "\n",
      "\n",
      "['I', 'am', 'a', 'happy', 'baby', 'and', 'i', 'like', 'to', 'be', 'happy', 'and', 'joyful']\n"
     ]
    }
   ],
   "source": [
    "# how to split the sentence into words\n",
    "# default splits on the spaces - deriving words from a sentences \n",
    "# note that the result is the same \n",
    "str2 = 'I am a happy baby and i like to be happy and joyful'\n",
    "print (      str2.split()    )\n",
    "print ('\\n')\n",
    "print (      str2.rsplit()    )"
   ]
  },
  {
   "cell_type": "code",
   "execution_count": 7,
   "metadata": {},
   "outputs": [
    {
     "name": "stdout",
     "output_type": "stream",
     "text": [
      "['I', 'am a happy baby and i like to be happy and joyful']\n",
      "['I am a happy baby and i like to be happy and', 'joyful']\n"
     ]
    }
   ],
   "source": [
    "# if you want to pick up the first word of a sentence or the last word you can use split\n",
    "print (str2.split(' ', 1))\n",
    "print (str2.rsplit(' ', 1))\n"
   ]
  },
  {
   "cell_type": "code",
   "execution_count": null,
   "metadata": {},
   "outputs": [],
   "source": []
  },
  {
   "cell_type": "code",
   "execution_count": null,
   "metadata": {},
   "outputs": [],
   "source": []
  },
  {
   "cell_type": "markdown",
   "metadata": {},
   "source": [
    "`string.splitlines(newlinechar(True/False))`: default false \n",
    "\n",
    "    split the string at linebreakes"
   ]
  },
  {
   "cell_type": "code",
   "execution_count": 9,
   "metadata": {},
   "outputs": [
    {
     "name": "stdout",
     "output_type": "stream",
     "text": [
      "['He was a great man.', 'But had issues coping with depression.', 'He gave in to drinking.']\n",
      "\n",
      "\n",
      "['He was a great man.', 'But had issues coping with depression.', 'He gave in to drinking.']\n",
      "\n",
      "\n",
      "['He was a great man.\\n', 'But had issues coping with depression.\\n', 'He gave in to drinking.']\n"
     ]
    }
   ],
   "source": [
    "# spliting the text into a list of lines # getting lines out of a text or text file \n",
    "str3 = \"\"\"He was a great man.\n",
    "But had issues coping with depression.\n",
    "He gave in to drinking.\"\"\"\n",
    "print (    str3.splitlines()    ) # default value is True\n",
    "print ('\\n')\n",
    "print (    str3.splitlines(False)    )\n",
    "print ('\\n')\n",
    "print (    str3.splitlines(True)    ) # keep the \\n character\n"
   ]
  },
  {
   "cell_type": "code",
   "execution_count": null,
   "metadata": {},
   "outputs": [],
   "source": []
  },
  {
   "cell_type": "markdown",
   "metadata": {},
   "source": [
    "`string.replace('old_value', 'new_value', no_of_occurences)`\n",
    "       \n",
    "       case sensitive"
   ]
  },
  {
   "cell_type": "code",
   "execution_count": 104,
   "metadata": {},
   "outputs": [
    {
     "name": "stdout",
     "output_type": "stream",
     "text": [
      "\n",
      "\n",
      "I am a *sad Happy baby and i like to be *sad and joyful\n",
      "\n",
      "\n",
      "I am a *sad Happy baby and i like to be happy and joyful\n"
     ]
    }
   ],
   "source": [
    "str2 = 'I am a happy Happy baby and i like to be happy and joyful'\n",
    "print ('\\n')\n",
    "print (      str2.replace('happy', '*sad')      )\n",
    "print ('\\n')\n",
    "print (      str2.replace('happy', '*sad', 1)      )\n"
   ]
  },
  {
   "cell_type": "code",
   "execution_count": null,
   "metadata": {},
   "outputs": [],
   "source": []
  },
  {
   "cell_type": "markdown",
   "metadata": {},
   "source": [
    "`string.zfill(len)`: \n",
    "\n",
    "    adds zeros (0) at the beginning of the string, until it reaches the specified length.\n",
    "    If the value of the len parameter is less than the length of the string, no filling is done."
   ]
  },
  {
   "cell_type": "code",
   "execution_count": 136,
   "metadata": {},
   "outputs": [
    {
     "name": "stdout",
     "output_type": "stream",
     "text": [
      "00000hello\n",
      "welcome to the jungle\n",
      "000010.000\n"
     ]
    }
   ],
   "source": [
    "a = \"hello\"\n",
    "b = \"welcome to the jungle\"\n",
    "c = \"10.000\"\n",
    "\n",
    "print(a.zfill(10))\n",
    "print(b.zfill(10))\n",
    "print(c.zfill(10))"
   ]
  },
  {
   "cell_type": "code",
   "execution_count": 71,
   "metadata": {},
   "outputs": [
    {
     "name": "stdout",
     "output_type": "stream",
     "text": [
      "middle: 3\n",
      "Sha****rma\n",
      "Sha****rma\n"
     ]
    }
   ],
   "source": [
    "#  insert a string in middle of another string\n",
    "#  middle = len(str1)//2 \n",
    "#  modulo gives the middle of the string in integer form\n",
    "\n",
    "str1, str2 = 'Sharma', '****'\n",
    "\n",
    "print (f'middle: {middle}')\n",
    "str3 = str1[:middle]+str2+str1[middle:]\n",
    "print (str3)\n",
    "\n",
    "# fastcode pring str1[0: middle] +  str2 + str1 [middle: rest]\n",
    "print (    str1[ : len(str1)//2 ]+ str2 + str1 [len(str1)//2:])"
   ]
  },
  {
   "cell_type": "code",
   "execution_count": null,
   "metadata": {},
   "outputs": [],
   "source": []
  },
  {
   "cell_type": "code",
   "execution_count": 12,
   "metadata": {},
   "outputs": [
    {
     "name": "stdout",
     "output_type": "stream",
     "text": [
      "1.\n",
      "mitarayanharmaANS   123\n",
      "\n",
      "\n",
      "2.\n",
      "mitarayanharmaA N S 123\n"
     ]
    }
   ],
   "source": [
    "# separate the lowercase and uppercase character of the string and concatenate them together\n",
    "# append is a list attribute\n",
    "str1, str_lower, str_upper, str_others = 'Amit Narayan Sharma 123', '', '', ''\n",
    "\n",
    "for char in str1:\n",
    "    if char.islower():\n",
    "        str_lower += char\n",
    "    elif char.isupper():\n",
    "        str_upper += char\n",
    "    else:\n",
    "        str_others += char\n",
    "print ('1.')\n",
    "print (str_lower+str_upper+str_others)\n",
    "print ('\\n')\n",
    "\n",
    "# we don't have to use the index as we can directly use if value in data loop\n",
    "\n",
    "str1, str_lower, str_upper, str_others = 'Amit Narayan Sharma 123', '', '', ''\n",
    "for i in range(len(str1)):\n",
    "    #print (str1[i])\n",
    "    if str1[i].islower():\n",
    "        str_lower+=str1[i]\n",
    "    else:\n",
    "        str_upper+=str1[i]\n",
    "print ('2.')\n",
    "print(str_lower+str_upper) \n"
   ]
  },
  {
   "cell_type": "markdown",
   "metadata": {},
   "source": [
    "**retrieving/finding numbers in a string and calculating their sum and average **\n",
    "    \n",
    "    split the string into a list of words\n",
    "    check for the numbers using str1.isdigit()\n",
    "    convert the string into digits and calculate sum and average"
   ]
  },
  {
   "cell_type": "code",
   "execution_count": 17,
   "metadata": {},
   "outputs": [
    {
     "name": "stdout",
     "output_type": "stream",
     "text": [
      "294 \n",
      " 73.5\n"
     ]
    }
   ],
   "source": [
    "# fastcode: retrieve the numbers from a string and find their average \n",
    "str1 = \"English = 78 Science = 83 Math = 68 History = 65\"\n",
    "sum1, count = 0,0\n",
    "\n",
    "for item in str1.split():\n",
    "    if item.isdigit():\n",
    "        sum1+= int (item) # don't forget to change to integer \n",
    "        count+=1\n",
    "\n",
    "print (f'{sum1} \\n {sum1/count}')"
   ]
  },
  {
   "cell_type": "markdown",
   "metadata": {},
   "source": [
    "## So what is the difference between `isdigit`, `isnumeric` and `isdecimel`\n",
    "\n",
    "   isdigit is for english digits \n",
    "   \n",
    "   isnumeric includes the numbers from all the languages\n",
    "   \n",
    "   isdecimel would exclude certain notations such as exponentials "
   ]
  },
  {
   "cell_type": "code",
   "execution_count": 94,
   "metadata": {},
   "outputs": [
    {
     "name": "stdout",
     "output_type": "stream",
     "text": [
      "294 \n",
      " 73.5\n"
     ]
    }
   ],
   "source": [
    "# fastcode: \n",
    "str1 = \"English = 78 Science = 83 Math = 68 History = 65\"\n",
    "sum1, count = 0,0\n",
    "for item in str1.split():\n",
    "    if item.isdigit():\n",
    "        sum1+= int (item)\n",
    "        count+=1\n",
    "print (f'{sum1} \\n {sum1/count}')"
   ]
  },
  {
   "cell_type": "code",
   "execution_count": null,
   "metadata": {},
   "outputs": [],
   "source": []
  },
  {
   "cell_type": "markdown",
   "metadata": {},
   "source": [
    "**counting the occurence / frequency of all characters in a string**\n",
    " \n",
    "**frequency of each character in a string**"
   ]
  },
  {
   "cell_type": "code",
   "execution_count": 95,
   "metadata": {},
   "outputs": [
    {
     "name": "stdout",
     "output_type": "stream",
     "text": [
      "{'E': 1, 'n': 2, 'g': 1, 'l': 1, 'i': 3, 's': 2, 'h': 2, ' ': 11, '=': 4, '7': 1, '8': 3, 'S': 1, 'c': 2, 'e': 2, '3': 1, 'M': 1, 'a': 1, 't': 2, '6': 2, 'H': 1, 'o': 1, 'r': 1, 'y': 1, '5': 1}\n"
     ]
    }
   ],
   "source": [
    "str1 = \"English = 78 Science = 83 Math = 68 History = 65\"\n",
    "dict1 = {}\n",
    "\n",
    "for char in str1:\n",
    "    dict1[char] = str1.count(char)\n",
    "print (dict1)    "
   ]
  },
  {
   "cell_type": "code",
   "execution_count": null,
   "metadata": {},
   "outputs": [],
   "source": []
  },
  {
   "cell_type": "code",
   "execution_count": 1,
   "metadata": {},
   "outputs": [
    {
     "name": "stdout",
     "output_type": "stream",
     "text": [
      "True\n"
     ]
    }
   ],
   "source": [
    "# Write a Python program to check whether a file exists.\n",
    "import os.path\n",
    "open('abc.txt', 'w') # but this will create the file if the file is not there \n",
    "print(os.path.isfile('abc.txt'))"
   ]
  },
  {
   "cell_type": "code",
   "execution_count": 2,
   "metadata": {},
   "outputs": [
    {
     "name": "stdout",
     "output_type": "stream",
     "text": [
      "64\n"
     ]
    }
   ],
   "source": [
    " #Write a Python program to determine if a Python shell is executing in 32bit or 64bit mode on OS?\n",
    "    # For 32 bit it will return 32 and for 64 bit it will return 64\n",
    "import struct\n",
    "print(struct.calcsize(\"P\") * 8)"
   ]
  },
  {
   "cell_type": "code",
   "execution_count": 3,
   "metadata": {},
   "outputs": [
    {
     "name": "stdout",
     "output_type": "stream",
     "text": [
      "nt\n",
      "Windows\n",
      "7\n"
     ]
    }
   ],
   "source": [
    "# Write a Python program to get OS name, platform and release information.\n",
    "\n",
    "import platform\n",
    "import os\n",
    "print(os.name)\n",
    "print(platform.system())\n",
    "print(platform.release())"
   ]
  },
  {
   "cell_type": "code",
   "execution_count": null,
   "metadata": {},
   "outputs": [],
   "source": [
    "\n",
    "    "
   ]
  },
  {
   "cell_type": "markdown",
   "metadata": {},
   "source": [
    "# Lists Heading \n",
    "\n",
    "Lists are `ordered` and `mutable` sequences used to hold variety of objects \n",
    "\n",
    "        They are mutable, their elements can be changed!"
   ]
  },
  {
   "cell_type": "markdown",
   "metadata": {},
   "source": [
    "## Basic List Methods\n",
    "\n",
    "#### Addition to list append/insert/concatenate\n",
    "\n",
    "1. `list.append(value)`   : appends a value \n",
    "\n",
    "2. `list.insert(index, value)`: insert value at index\n",
    "\n",
    "#### Removal from list: pop-index/remove-value/\n",
    "\n",
    "3. `list.pop(index)` : pop value at index - default last element\n",
    "\n",
    "4. `list.remove(value)`: removes first occurence of the value - only one in case of duplicates\n",
    "\n",
    "#### inplace reversal and sorting \n",
    "\n",
    "5. `list.reverse()`  : reverses the list IN-PLACE\n",
    "\n",
    "6. `list.sort()`     : sorts the list IN-PLACE\n",
    "\n",
    "#### frequency of a value\n",
    "\n",
    "7. `list.count(value)`: frequency of value\n",
    "\n",
    "8. `list.index(value)`: index of value\n",
    "\n",
    "#### Merging two lists or a list with iterable \n",
    "\n",
    "`list1.extend(list2/tuple)`\n",
    "\n",
    "\n",
    "#### miscellaneous\n",
    "\n",
    "list3 = list1*2  - will double the list and then you can sort the list \n"
   ]
  },
  {
   "cell_type": "markdown",
   "metadata": {},
   "source": [
    "Lists are similar to `arrays` in other programming languages \n",
    "\n",
    "`So what are the differences between lists and arrays?`\n",
    "\n",
    "    Arrays have a fixed `type constraint` or datatype and size \n",
    "    List are dynamically typed"
   ]
  },
  {
   "cell_type": "code",
   "execution_count": null,
   "metadata": {},
   "outputs": [],
   "source": []
  },
  {
   "cell_type": "markdown",
   "metadata": {},
   "source": [
    "**What is the difference between list.append and list.extend?**\n",
    "\n",
    "`list.append()` would add the complete dataobject at the end increasing the size of the list by 1\n",
    "\n",
    "`list.extend(list/tuple/combo of objects)` : would add each element of the iterable to the list increasing the size of the list by the size of the added data object"
   ]
  },
  {
   "cell_type": "code",
   "execution_count": 4,
   "metadata": {},
   "outputs": [
    {
     "name": "stdout",
     "output_type": "stream",
     "text": [
      "\n",
      "with append:  [1, 2, 3, 4, 5, 6, 7, 8, (12, 13, 14, 15)]\n",
      "\n",
      "with extend:  [1, 2, 3, 4, 5, 6, 7, 8, 12, 13, 14, 15]\n"
     ]
    }
   ],
   "source": [
    "list1 = [1,2,3,4,5,6,7,8]\n",
    "\n",
    "tuple1 = (12,13,14,15)\n",
    "\n",
    "list1.append(tuple1)\n",
    "print ('\\nwith append: ',list1)\n",
    "\n",
    "list1.pop() # revert the list to original form\n",
    "\n",
    "list1.extend(tuple1)\n",
    "print ('\\nwith extend: ',list1)"
   ]
  },
  {
   "cell_type": "code",
   "execution_count": 25,
   "metadata": {},
   "outputs": [
    {
     "name": "stdout",
     "output_type": "stream",
     "text": [
      "7\n",
      "[3, 8, 9, 16, 15, 24, 21]\n"
     ]
    }
   ],
   "source": [
    "# pick up odd elements from one list and merge with even element of the second list\n",
    "list1 = [3, 6, 9, 12, 15, 18, 21,43,56,79]\n",
    "list2 = [4, 8, 12, 16, 20, 24, 28]\n",
    "list3 = []\n",
    "ind1 = 0\n",
    "value = ''\n",
    "\n",
    "iters = min (len(list1), len(list2))\n",
    "print (iters)\n",
    "\n",
    "while ind1<iters:\n",
    "    \n",
    "    if ind1 % 2 == 0:\n",
    "        list3.append(list1[ind1])\n",
    "    else:\n",
    "        list3.append(list2[ind1])\n",
    "    \n",
    "    ind1+=1    \n",
    "\n",
    "print (list3)"
   ]
  },
  {
   "cell_type": "code",
   "execution_count": null,
   "metadata": {},
   "outputs": [],
   "source": []
  },
  {
   "cell_type": "code",
   "execution_count": null,
   "metadata": {},
   "outputs": [],
   "source": []
  },
  {
   "cell_type": "markdown",
   "metadata": {},
   "source": [
    "`list1.append(value)`: appends a value to the list"
   ]
  },
  {
   "cell_type": "code",
   "execution_count": 101,
   "metadata": {},
   "outputs": [
    {
     "name": "stdout",
     "output_type": "stream",
     "text": [
      "[3, 9, 15, 21, 4, 8, 12, 16, 20, 24, 28]\n"
     ]
    }
   ],
   "source": [
    "# pick up odd elements from one list and merge with even indexes of the second list\n",
    "list1 = [3, 6, 9, 12, 15, 18, 21]\n",
    "list2 = [4, 8, 12, 16, 20, 24, 28]\n",
    "list3 = []\n",
    "for item in list1:\n",
    "    if item % 2 != 0:\n",
    "        list3.append(item)\n",
    "\n",
    "for item in list2:\n",
    "    if item % 2 == 0:\n",
    "        list3.append(item)\n",
    "        \n",
    "print (list3)"
   ]
  },
  {
   "cell_type": "code",
   "execution_count": 106,
   "metadata": {},
   "outputs": [
    {
     "name": "stdout",
     "output_type": "stream",
     "text": [
      "[6, 12, 18, 4, 12, 20, 28]\n"
     ]
    }
   ],
   "source": [
    "# merge the odd and even indexes of two lists\n",
    "list1 = [3, 6, 9, 12, 15, 18, 21]\n",
    "list2 = [4, 8, 12, 16, 20, 24, 28]\n",
    "list3 = []\n",
    "\n",
    "for i in range(len(list1)):\n",
    "    if i % 2 != 0:\n",
    "        list3.append(list1[i])\n",
    "        \n",
    "for i in range (len(list2)):\n",
    "    if i % 2 == 0: \n",
    "        list3.append(list2[i])\n",
    "        \n",
    "print(list3)"
   ]
  },
  {
   "cell_type": "code",
   "execution_count": null,
   "metadata": {},
   "outputs": [],
   "source": []
  },
  {
   "cell_type": "markdown",
   "metadata": {},
   "source": [
    "`list1.extend(list2)`: concatenates two list. you can also do the same job by `list1+list2`\n",
    "\n",
    "\n",
    "\n",
    "**what is the difference between extend and simple concatenation**\n",
    "     \n",
    "     simple + concatenation will not change the original list - you have to assign the result\n",
    "  \n",
    "     simple + concatenation cannot access global variables \n",
    "     \n",
    "     simple + concatenation cannot employ a function call\n",
    "     `a.get_list(list1) + other_list` with throw an error"
   ]
  },
  {
   "cell_type": "code",
   "execution_count": 27,
   "metadata": {},
   "outputs": [
    {
     "name": "stdout",
     "output_type": "stream",
     "text": [
      "[1, 2, 3, 4]\n"
     ]
    },
    {
     "ename": "UnboundLocalError",
     "evalue": "local variable 'l' referenced before assignment",
     "output_type": "error",
     "traceback": [
      "\u001b[1;31m---------------------------------------------------------------------------\u001b[0m",
      "\u001b[1;31mUnboundLocalError\u001b[0m                         Traceback (most recent call last)",
      "\u001b[1;32m<ipython-input-27-d76e39a4f6a3>\u001b[0m in \u001b[0;36m<module>\u001b[1;34m()\u001b[0m\n\u001b[0;32m     12\u001b[0m     \u001b[0mboo\u001b[0m\u001b[1;33m(\u001b[0m\u001b[1;33m)\u001b[0m  \u001b[1;31m# this will fail\u001b[0m\u001b[1;33m\u001b[0m\u001b[0m\n\u001b[0;32m     13\u001b[0m \u001b[1;33m\u001b[0m\u001b[0m\n\u001b[1;32m---> 14\u001b[1;33m \u001b[0mmain\u001b[0m\u001b[1;33m(\u001b[0m\u001b[1;33m)\u001b[0m\u001b[1;33m\u001b[0m\u001b[0m\n\u001b[0m",
      "\u001b[1;32m<ipython-input-27-d76e39a4f6a3>\u001b[0m in \u001b[0;36mmain\u001b[1;34m()\u001b[0m\n\u001b[0;32m     10\u001b[0m     \u001b[0mfoo\u001b[0m\u001b[1;33m(\u001b[0m\u001b[1;33m)\u001b[0m\u001b[1;33m\u001b[0m\u001b[0m\n\u001b[0;32m     11\u001b[0m     \u001b[0mprint\u001b[0m \u001b[1;33m(\u001b[0m\u001b[0ml\u001b[0m\u001b[1;33m)\u001b[0m\u001b[1;33m\u001b[0m\u001b[0m\n\u001b[1;32m---> 12\u001b[1;33m     \u001b[0mboo\u001b[0m\u001b[1;33m(\u001b[0m\u001b[1;33m)\u001b[0m  \u001b[1;31m# this will fail\u001b[0m\u001b[1;33m\u001b[0m\u001b[0m\n\u001b[0m\u001b[0;32m     13\u001b[0m \u001b[1;33m\u001b[0m\u001b[0m\n\u001b[0;32m     14\u001b[0m \u001b[0mmain\u001b[0m\u001b[1;33m(\u001b[0m\u001b[1;33m)\u001b[0m\u001b[1;33m\u001b[0m\u001b[0m\n",
      "\u001b[1;32m<ipython-input-27-d76e39a4f6a3>\u001b[0m in \u001b[0;36mboo\u001b[1;34m()\u001b[0m\n\u001b[0;32m      6\u001b[0m \u001b[1;33m\u001b[0m\u001b[0m\n\u001b[0;32m      7\u001b[0m     \u001b[1;32mdef\u001b[0m \u001b[0mboo\u001b[0m\u001b[1;33m(\u001b[0m\u001b[1;33m)\u001b[0m\u001b[1;33m:\u001b[0m\u001b[1;33m\u001b[0m\u001b[0m\n\u001b[1;32m----> 8\u001b[1;33m         \u001b[0ml\u001b[0m \u001b[1;33m+=\u001b[0m \u001b[1;33m[\u001b[0m\u001b[1;36m5\u001b[0m\u001b[1;33m]\u001b[0m\u001b[1;33m\u001b[0m\u001b[0m\n\u001b[0m\u001b[0;32m      9\u001b[0m \u001b[1;33m\u001b[0m\u001b[0m\n\u001b[0;32m     10\u001b[0m     \u001b[0mfoo\u001b[0m\u001b[1;33m(\u001b[0m\u001b[1;33m)\u001b[0m\u001b[1;33m\u001b[0m\u001b[0m\n",
      "\u001b[1;31mUnboundLocalError\u001b[0m: local variable 'l' referenced before assignment"
     ]
    }
   ],
   "source": [
    "def main():\n",
    "    l = [1, 2, 3]\n",
    "\n",
    "    def foo():\n",
    "        l.extend([4])\n",
    "\n",
    "    def boo():\n",
    "        l += [5] # this will fail as l is not defined locally \n",
    "\n",
    "    foo()\n",
    "    print (l)\n",
    "    boo()  # this will fail \n",
    "\n",
    "main()"
   ]
  },
  {
   "cell_type": "code",
   "execution_count": 108,
   "metadata": {},
   "outputs": [
    {
     "name": "stdout",
     "output_type": "stream",
     "text": [
      "[6, 12, 18, 4, 12, 20, 28]\n"
     ]
    }
   ],
   "source": [
    "# fastcode: for above\n",
    "# pick up odd elements from one list and merge with even element of the second list\n",
    "# when you don't have to mix the elements\n",
    "\n",
    "#  odd elements  = list1 [1::2] -- start from 1 with stepsize of 2\n",
    "#  even element  = list2 [0::2] -- start from 2 with stepsize of 2\n",
    "#  list_odd.extend(list_even)\n",
    "\n",
    "list1 = [3, 6, 9, 12, 15, 18, 21]\n",
    "list2 = [4, 8, 12, 16, 20, 24, 28]\n",
    "\n",
    "print ( list1[1::2] + list2[0::2] )\n"
   ]
  },
  {
   "cell_type": "code",
   "execution_count": null,
   "metadata": {},
   "outputs": [],
   "source": []
  },
  {
   "cell_type": "markdown",
   "metadata": {},
   "source": [
    "`list1.remove(value)`\n",
    "            \n",
    "            simply remove the value \n",
    "            \n",
    "            in case of duplicates the smaller index is removed \n",
    "\n",
    "`list1.insert(index, value)` # insert value at index "
   ]
  },
  {
   "cell_type": "code",
   "execution_count": 3,
   "metadata": {},
   "outputs": [
    {
     "name": "stdout",
     "output_type": "stream",
     "text": [
      "[0, 1, 2, 3, 4, 5, 6, 7, 8]\n",
      "[0, 1, 4, 2, 3, 4, 5, 6, 7, 8]\n"
     ]
    }
   ],
   "source": [
    "# remove the element from 4th position and insert it to the 2nd position in a list\n",
    "list1 = [0,1,2,3,4,4,5,6,7,8]\n",
    "value = list1[4]\n",
    "list1.remove(list1[4])\n",
    "print (list1)\n",
    "list1.insert(2, value)\n",
    "\n",
    "print(list1)\n"
   ]
  },
  {
   "cell_type": "code",
   "execution_count": null,
   "metadata": {},
   "outputs": [],
   "source": [
    "list1."
   ]
  },
  {
   "cell_type": "markdown",
   "metadata": {},
   "source": [
    "**Divide the list into three equal parts**\n"
   ]
  },
  {
   "cell_type": "code",
   "execution_count": 111,
   "metadata": {},
   "outputs": [
    {
     "name": "stdout",
     "output_type": "stream",
     "text": [
      "[0, 1, 2, 3]\n",
      "[4, 5, 6, 7]\n",
      "[8, 9, 10, 11]\n"
     ]
    }
   ],
   "source": [
    "list1 = [0,1,2,3,4,5,6,7,8,9,10,11]\n",
    "index = len(list1)//3\n",
    "print (list1[:index])\n",
    "print (list1[index: index*2])\n",
    "print (list1[index*2:])"
   ]
  },
  {
   "cell_type": "markdown",
   "metadata": {},
   "source": [
    "#### LIST COMPREHENSIONS\n",
    "\n",
    "Just an easy way to construct a list\n",
    "\n",
    "#### Comprehensions in Python\n",
    "\n",
    "Comprehensions provide a short and concise way to construct new sequences (such as lists, set, dictionary etc.) using sequences which have been already defined. \n",
    "\n",
    "Python supports the following 4 types of comprehensions:\n",
    "\n",
    "    List Comprehensions\n",
    "    Dictionary Comprehensions\n",
    "    Set Comprehensions\n",
    "    Generator Comprehensions\n",
    "    \n",
    "    "
   ]
  },
  {
   "cell_type": "markdown",
   "metadata": {},
   "source": [
    "#### list comprehensions\n",
    "\n",
    "    output_list = [output_exp for var in input_list if (var satisfies this condition)]\n",
    "\n",
    "    list comprehension may or may not contain an if condition. \n",
    "\n",
    "    List comprehensions can contain multiple for (nested list comprehensions).\n",
    "    "
   ]
  },
  {
   "cell_type": "code",
   "execution_count": 5,
   "metadata": {},
   "outputs": [
    {
     "data": {
      "text/plain": [
       "[2, 4, 6]"
      ]
     },
     "execution_count": 5,
     "metadata": {},
     "output_type": "execute_result"
    }
   ],
   "source": [
    "list1 = [1,2,3,4,5,6,7]\n",
    "list2 = [i for i in list1 if i %2 ==0]\n",
    "list2"
   ]
  },
  {
   "cell_type": "markdown",
   "metadata": {},
   "source": [
    "#### Dictionary Comprehension\n"
   ]
  },
  {
   "cell_type": "code",
   "execution_count": 10,
   "metadata": {},
   "outputs": [
    {
     "name": "stdout",
     "output_type": "stream",
     "text": [
      "{0: 0, 1: 1, 2: 8, 3: 27, 4: 64, 5: 125, 6: 216, 7: 343, 8: 512, 9: 729}\n",
      "{1: 1, 3: 27, 5: 125, 7: 343, 9: 729}\n"
     ]
    }
   ],
   "source": [
    "dict1 = {num: num**3 for num in range(10)}\n",
    "print (dict1)\n",
    "\n",
    "# for odd numbers \n",
    "dict1 = {num: num**3 for num in range(10) if num % 2 != 0}\n",
    "print (dict1)\n",
    "\n",
    "\n"
   ]
  },
  {
   "cell_type": "code",
   "execution_count": 14,
   "metadata": {},
   "outputs": [
    {
     "name": "stdout",
     "output_type": "stream",
     "text": [
      "{'Gujarat': 'Gandhinagar', 'Maharashtra': 'Mumbai', 'Rajasthan': 'Jaipur'}\n",
      "{'Gujarat': 'Gandhinagar', 'Maharashtra': 'Mumbai', 'Rajasthan': 'Jaipur'}\n",
      "{'Gujarat': 'Gandhinagar', 'Maharashtra': 'Mumbai', 'Rajasthan': 'Jaipur'}\n"
     ]
    }
   ],
   "source": [
    "state = ['Gujarat', 'Maharashtra', 'Rajasthan'] \n",
    "capital = ['Gandhinagar', 'Mumbai', 'Jaipur'] \n",
    "\n",
    "dict1 = {state[i]:capital[i] for i in range(len(state)) }\n",
    "print (dict1)\n",
    "\n",
    "dict1 = {key:value for key,value in zip(state, capital)}\n",
    "print (dict1)\n",
    "\n",
    "for key,value in zip(state, capital):\n",
    "    dict1[key] = value\n",
    "print (dict1)"
   ]
  },
  {
   "cell_type": "code",
   "execution_count": null,
   "metadata": {},
   "outputs": [],
   "source": []
  },
  {
   "cell_type": "markdown",
   "metadata": {},
   "source": [
    "#### set comprehension same as list comprehension with the only difference that it uses  curly braces "
   ]
  },
  {
   "cell_type": "code",
   "execution_count": 17,
   "metadata": {},
   "outputs": [
    {
     "name": "stdout",
     "output_type": "stream",
     "text": [
      "{2, 4, 6}\n"
     ]
    }
   ],
   "source": [
    "list1 = [1, 2, 3, 4, 4, 5, 6, 6, 6, 7, 7] \n",
    "set1 = {i for i in list1 if i%2==0}\n",
    "print (set1)"
   ]
  },
  {
   "cell_type": "code",
   "execution_count": null,
   "metadata": {},
   "outputs": [],
   "source": []
  },
  {
   "cell_type": "markdown",
   "metadata": {},
   "source": [
    "#### Generator Comprehensions to be studied later"
   ]
  },
  {
   "cell_type": "code",
   "execution_count": null,
   "metadata": {},
   "outputs": [],
   "source": []
  },
  {
   "cell_type": "code",
   "execution_count": 7,
   "metadata": {},
   "outputs": [
    {
     "data": {
      "text/plain": [
       "[1, 4, 9, 16, 25, 36, 49]"
      ]
     },
     "execution_count": 7,
     "metadata": {},
     "output_type": "execute_result"
    }
   ],
   "source": [
    "list2 = [i**2 for i in list1 ]\n",
    "list2"
   ]
  },
  {
   "cell_type": "code",
   "execution_count": null,
   "metadata": {},
   "outputs": [],
   "source": []
  },
  {
   "cell_type": "markdown",
   "metadata": {},
   "source": [
    "# Dictionaries\n",
    "\n",
    "Strings are ordered sequence of characters\n",
    "\n",
    "Lists are ordered sequences of data objects.\n",
    "\n",
    "sets unordered collection of unique objects\n",
    "\n",
    "Dictionaries are `unordered mapping` of objects in `key:value` pair which are `mutable`.\n",
    " \n",
    "     Dictionaries are similar to hash tables in other languages. \n",
    "\n",
    "`What are the difference between dictionaries and lists?`\n",
    "    \n",
    "    Dictionaries: \n",
    "        1. Can't be sliced or indexed due to absence of index sequence\n",
    "        2. Can't be sorted except through `sorted` function\n",
    "        3. D's are easy and fast when it comes to retrieval \n",
    "        4. No need to know the index for retrieval\n",
    "\n",
    "  `what are mappings in dictionaries?`\n",
    "  \n",
    "Key:Value pairs in a dictionary is called a mapping\n",
    "\n",
    "## Dictionary Methods\n",
    "\n",
    "`list1 = dict1.items()`: returns key:value mappings in a list \n",
    "\n",
    "`dict1.keys()`: returns a list containing keys\n",
    "\n",
    "`dict1.values()`: returns a list containing values \n",
    "\n",
    "`dict2 = dict1.copy()`: returns a copy of the dict\n",
    "\n",
    "`dict1.get('key')`: get the value of the key - for places where dict1['key'] might not work\n",
    "\n",
    "`dict1.setdefault('key', def_val)`: \n",
    "    \n",
    "    returns value for key. \n",
    "    If the key is not present insert key with def_val \n",
    "\n",
    "`dict1.fromkeys ( ('key1','key2','key3'), value)`: \n",
    "\n",
    "    returns dict1 = {'key1': value, 'key2': value, 'key3': value} -- example \n",
    "    Any existing keys in dict1 will be overwritten - see example\n",
    "\n",
    "`dict1.update(iterable)`:  \n",
    "\n",
    "    update the mappings if key present\n",
    "    Add the mapping if key not present\n",
    "    iterable can be a zip of two lists in x,y format or a dict itself\n",
    "\n",
    "`dict1.popitem('key', def_val)`: \n",
    "    \n",
    "    for 3.7 and above: removes the last inserted mapping \n",
    "    for earlier vers's removes a random mapping \n",
    "\n",
    "\n",
    "`dict1.pop('key', def_val)`: \n",
    "    \n",
    "    removes a mapping and returns the value of the key\n",
    "    if key does not exist will return the def_val without def_val an error will be raised\n",
    "    NOTE: it needs the arguments.  \n",
    "    you can use dict1.pop('Key', False)\n",
    "\n",
    "\n",
    "`dict1.clear()`: clears all mappings from the dictionary\n"
   ]
  },
  {
   "cell_type": "markdown",
   "metadata": {},
   "source": [
    "## Constructing a Dictionary"
   ]
  },
  {
   "cell_type": "code",
   "execution_count": 19,
   "metadata": {},
   "outputs": [
    {
     "name": "stdout",
     "output_type": "stream",
     "text": [
      "d: {'animal': 'Dog', 'answer': 42}\n",
      "\n",
      "     my_dict : {'key1': 123, 'key2': [12, 23, 33], 'key3': ['item0', 'item1', 'item2']}   \n"
     ]
    }
   ],
   "source": [
    "# Create a new dictionary\n",
    "d = {}\n",
    "d['animal'] = 'Dog'\n",
    "d['answer'] = 42\n",
    "print (f'd: {d}')\n",
    "\n",
    "my_dict = {'key1':123,'key2':[12,23,33],'key3':['item0','item1','item2']}\n",
    "print (f'\\n     my_dict : {my_dict}   ')\n"
   ]
  },
  {
   "cell_type": "code",
   "execution_count": 20,
   "metadata": {},
   "outputs": [
    {
     "data": {
      "text/plain": [
       "'ITEM0'"
      ]
     },
     "execution_count": 20,
     "metadata": {},
     "output_type": "execute_result"
    }
   ],
   "source": [
    "# Can then even call methods on that value\n",
    "my_dict['key3'][0].upper()"
   ]
  },
  {
   "cell_type": "code",
   "execution_count": 21,
   "metadata": {},
   "outputs": [
    {
     "data": {
      "text/plain": [
       "0"
      ]
     },
     "execution_count": 21,
     "metadata": {},
     "output_type": "execute_result"
    }
   ],
   "source": [
    "# Subtract 123 from the value\n",
    "my_dict['key1'] = my_dict['key1'] - 123\n",
    "#Check\n",
    "my_dict['key1'] "
   ]
  },
  {
   "cell_type": "code",
   "execution_count": null,
   "metadata": {},
   "outputs": [],
   "source": []
  },
  {
   "cell_type": "markdown",
   "metadata": {},
   "source": [
    "`list1 = dict1.items()`: returns key:value mappings in a list \n",
    "\n",
    "`dict1.keys()`: returns a list containing keys\n",
    "\n",
    "`dict1.values()`: returns a list containing values "
   ]
  },
  {
   "cell_type": "code",
   "execution_count": 22,
   "metadata": {},
   "outputs": [
    {
     "name": "stdout",
     "output_type": "stream",
     "text": [
      "dict_items([('key1', 1), ('key2', 2), ('key3', 3)])\n",
      "\n",
      "dict_keys(['key1', 'key2', 'key3'])\n",
      "\n",
      "dict_values([1, 2, 3])\n"
     ]
    }
   ],
   "source": [
    "dict1 = {'key1':1,'key2':2,'key3':3}\n",
    "print (f'{   dict1.items()      }\\n')\n",
    "print (f'{   dict1.keys()       }\\n')\n",
    "print (f'{   dict1.values()     }')"
   ]
  },
  {
   "cell_type": "code",
   "execution_count": null,
   "metadata": {},
   "outputs": [],
   "source": []
  },
  {
   "cell_type": "markdown",
   "metadata": {},
   "source": [
    "`dict1.fromkeys ( ('key1','key2','key3'), value)`: \n",
    "\n",
    "    returns dict1 = {'key1': value, 'key2': value, 'key3': value} -- example "
   ]
  },
  {
   "cell_type": "code",
   "execution_count": 23,
   "metadata": {},
   "outputs": [
    {
     "name": "stdout",
     "output_type": "stream",
     "text": [
      "{'key1': 3, 'key2': 3, 'key3': 3}\n",
      "{'key1': (3, 4, 5), 'key2': (3, 4, 5), 'key3': (3, 4, 5)}\n",
      "{'key1': None, 'key2': None, 'key3': None}\n"
     ]
    }
   ],
   "source": [
    "# update a numbe of keys to a single value \n",
    "dict1 = {'Key7':7, 'Key8':8} # these keys will be overwritten \n",
    "\n",
    "print (dict1.fromkeys ( ('key1', 'key2', 'key3'), 3 ))\n",
    "print (dict1.fromkeys ( ('key1', 'key2', 'key3'), (3,4,5) ))\n",
    "print (dict1.fromkeys ( ('key1', 'key2', 'key3') ))"
   ]
  },
  {
   "cell_type": "code",
   "execution_count": 24,
   "metadata": {},
   "outputs": [
    {
     "name": "stdout",
     "output_type": "stream",
     "text": [
      "<class 'dict_items'>\n",
      "dict_items([('key1', 1), ('key2', 2), ('key3', 3)])\n"
     ]
    }
   ],
   "source": [
    "dict1 = {'key1':1,'key2':2,'key3':3}\n",
    "list1 = dict1.items() # view object \n",
    "print (type(list1))\n",
    "print (list1)"
   ]
  },
  {
   "cell_type": "code",
   "execution_count": null,
   "metadata": {},
   "outputs": [],
   "source": []
  },
  {
   "cell_type": "markdown",
   "metadata": {},
   "source": [
    "`dict1.pop('key', def_val)`: \n",
    "    \n",
    "    removes a mapping and returns the value\n",
    "    \n",
    "    if key does not exist will return the def_val without def_val an error will be raised\n",
    "    \n",
    "    NOTE: it needs the arguments. "
   ]
  },
  {
   "cell_type": "code",
   "execution_count": 25,
   "metadata": {},
   "outputs": [
    {
     "name": "stdout",
     "output_type": "stream",
     "text": [
      "{'key1': 1, 'key2': 2}\n"
     ]
    }
   ],
   "source": [
    "# `dict1.popitem('key', def_val)`\n",
    "\n",
    "dict1 = {'key1':1,'key2':2,'key3':3}\n",
    "dict1.popitem() # remove the last inserted mapping\n",
    "print (dict1)"
   ]
  },
  {
   "cell_type": "code",
   "execution_count": null,
   "metadata": {},
   "outputs": [],
   "source": []
  },
  {
   "cell_type": "markdown",
   "metadata": {},
   "source": [
    "value/def_value = `dict1.setdefault('key', def_val)`: \n",
    "\n",
    "    returns value for key. \n",
    "    If the key is not present insert key with def_val "
   ]
  },
  {
   "cell_type": "code",
   "execution_count": 26,
   "metadata": {},
   "outputs": [
    {
     "name": "stdout",
     "output_type": "stream",
     "text": [
      "{'key1': 1, 'key2': 2, 'key3': 3, 'key4': 0}\n"
     ]
    }
   ],
   "source": [
    "# `dict2 = dict1.setdefault('key', def_val)`\n",
    "dict1 = {'key1':1,'key2':2,'key3':3}\n",
    "dict1.setdefault('key3', 0)\n",
    "dict1.setdefault('key4', 0)\n",
    "print (dict1)\n"
   ]
  },
  {
   "cell_type": "code",
   "execution_count": 8,
   "metadata": {},
   "outputs": [
    {
     "data": {
      "text/plain": [
       "{'x': [1, 2, 3], 'y': [1, 2], 'z': [1]}"
      ]
     },
     "execution_count": 8,
     "metadata": {},
     "output_type": "execute_result"
    }
   ],
   "source": [
    "# convert the list into dictionary\n",
    "\n",
    "list1 = [(\"x\", 1), (\"x\", 2), (\"x\", 3), (\"y\", 1), (\"y\", 2), (\"z\", 1)]\n",
    " # output {'y': [1, 2], 'z': [1], 'x': [1, 2, 3]} \n",
    "    \n",
    "dict1 = {}\n",
    "for a,b in list1:\n",
    "    dict1.setdefault(a,[]).append(b)\n",
    "\n",
    "dict1"
   ]
  },
  {
   "cell_type": "code",
   "execution_count": null,
   "metadata": {},
   "outputs": [],
   "source": []
  },
  {
   "cell_type": "markdown",
   "metadata": {},
   "source": [
    "`dict1.update(iterable)`: \n",
    "\n",
    "    update the mappings if key present\n",
    "    Add the mapping if key not present"
   ]
  },
  {
   "cell_type": "code",
   "execution_count": 27,
   "metadata": {},
   "outputs": [
    {
     "name": "stdout",
     "output_type": "stream",
     "text": [
      "{'key1': 1, 'key2': 2, 'key3': 33, 'key4': 4, 'key5': 5, 'key7': 7, 'key8': 8}\n"
     ]
    }
   ],
   "source": [
    "# `dict1.update(iterable in for of key:value)`\n",
    "dict1 = { 'key1':1, 'key2':2, 'key3':3 }\n",
    "dict1.update (  ( ('key4', 4), ('key5', 5), ('key3', 33) )  )\n",
    "dict1.update (  {'key7':7, 'key8':8})\n",
    "print (dict1)"
   ]
  },
  {
   "cell_type": "code",
   "execution_count": null,
   "metadata": {},
   "outputs": [],
   "source": []
  },
  {
   "cell_type": "code",
   "execution_count": 37,
   "metadata": {},
   "outputs": [
    {
     "data": {
      "text/plain": [
       "{'jose': {'maths': 85, 'english': 90, 'science': 95},\n",
       " 'peter': {'marks': 80, 'english': 85, 'science': 90}}"
      ]
     },
     "execution_count": 37,
     "metadata": {},
     "output_type": "execute_result"
    }
   ],
   "source": [
    "# you can also nest dictionaries to look like the 2 dimensional arrays as below \n",
    "marks2= {'jose' : {'maths': 85 , 'english': 90, 'science' : 95} , \n",
    "         'peter': {'marks': 80 , 'english': 85 , 'science': 90}\n",
    "         }\n",
    "marks2"
   ]
  },
  {
   "cell_type": "code",
   "execution_count": 38,
   "metadata": {},
   "outputs": [
    {
     "data": {
      "text/plain": [
       "85"
      ]
     },
     "execution_count": 38,
     "metadata": {},
     "output_type": "execute_result"
    }
   ],
   "source": [
    "marks2['jose']['maths']"
   ]
  },
  {
   "cell_type": "code",
   "execution_count": 39,
   "metadata": {},
   "outputs": [
    {
     "data": {
      "text/plain": [
       "defaultdict(dict,\n",
       "            {'jose': {'maths': 85, 'science': 95},\n",
       "             'peter': {'maths': 80, 'english': 85}})"
      ]
     },
     "execution_count": 39,
     "metadata": {},
     "output_type": "execute_result"
    }
   ],
   "source": [
    "# default dict is an easy way to do this \n",
    "from collections import defaultdict\n",
    "\n",
    "marks3 = defaultdict(dict)\n",
    "\n",
    "marks3['jose']['maths'] = 85\n",
    "marks3['jose']['science'] = 95\n",
    "marks3['peter']['maths'] = 80\n",
    "marks3['peter']['english'] = 85\n",
    "\n",
    "marks3"
   ]
  },
  {
   "cell_type": "code",
   "execution_count": null,
   "metadata": {},
   "outputs": [],
   "source": []
  },
  {
   "cell_type": "markdown",
   "metadata": {},
   "source": [
    "## Dictionary Interview Questions\n",
    "\n"
   ]
  },
  {
   "cell_type": "code",
   "execution_count": 30,
   "metadata": {},
   "outputs": [
    {
     "name": "stdout",
     "output_type": "stream",
     "text": [
      "key1 1\n",
      "('key1', 1)\n"
     ]
    }
   ],
   "source": [
    "dict1, dict2= {'key1': 1, 'key2': 3, 'key3': 2}, {'key1': 1, 'key2': 2}\n",
    "\n",
    "# convert it into set and use intersection operation & \n",
    "for key,value in set(dict1.items()) & set(dict2.items()):\n",
    "    print (key, value)\n",
    "# dict1+dict2 concatenationdoes not work on a dict\n",
    "\n",
    "\n",
    "#Expected output: key1: 1 is present in both x and y\n",
    "list1= (list(dict1.items()) + list(dict2.items()))\n",
    "list1.sort()\n",
    "list1\n",
    "\n",
    "list3 = []\n",
    "for item in set(list1): # set so that there is not repetition of count \n",
    "    if list1.count(item) > 1:\n",
    "        print(item)\n"
   ]
  },
  {
   "cell_type": "markdown",
   "metadata": {},
   "source": [
    "**Getting average of the values of the dictionary - for example average marks of each student**\n",
    "\n"
   ]
  },
  {
   "cell_type": "code",
   "execution_count": 33,
   "metadata": {},
   "outputs": [
    {
     "data": {
      "text/plain": [
       "[{'id': 1, 'subject': 'math', 'V + VI': 76.0},\n",
       " {'id': 2, 'subject': 'math', 'V + VI': 73.5},\n",
       " {'id': 3, 'subject': 'math', 'V + VI': 80.5}]"
      ]
     },
     "execution_count": 33,
     "metadata": {},
     "output_type": "execute_result"
    }
   ],
   "source": [
    "# Get average marks of each student in maths \n",
    "student_details= [\n",
    "  {'id' : 1, 'subject' : 'math', 'V' : 70, 'VI' : 82},\n",
    "  {'id' : 2, 'subject' : 'math', 'V' : 73, 'VI' : 74},\n",
    "  {'id' : 3, 'subject' : 'math', 'V' : 75, 'VI' : 86}\n",
    "]\n",
    "\n",
    "for d1 in student_details:                                  # for each dictionary in the list \n",
    "    d1['V + VI'] = (d1.pop('V') + d1.pop('VI'))/2\n",
    "\n",
    "student_details"
   ]
  },
  {
   "cell_type": "code",
   "execution_count": null,
   "metadata": {},
   "outputs": [],
   "source": []
  },
  {
   "cell_type": "code",
   "execution_count": 34,
   "metadata": {},
   "outputs": [
    {
     "data": {
      "text/plain": [
       "{'Class-V': 1, 'Class-VI': 2, 'Class-VII': 2, 'Class-VIII': 3}"
      ]
     },
     "execution_count": 34,
     "metadata": {},
     "output_type": "execute_result"
    }
   ],
   "source": [
    "l1, l2 = ['Class-V', 'Class-VI', 'Class-VII', 'Class-VIII'], [1, 2, 2, 3]\n",
    "d1 = {}\n",
    "for k,v in zip(l1,l2):\n",
    "    d1[k] = v\n",
    "d1"
   ]
  },
  {
   "cell_type": "code",
   "execution_count": 35,
   "metadata": {},
   "outputs": [
    {
     "name": "stdout",
     "output_type": "stream",
     "text": [
      "defaultdict(<class 'set'>, {'Class-V': {1}, 'Class-VI': {2}, 'Class-VII': {2}, 'Class-VIII': {3}})\n"
     ]
    }
   ],
   "source": [
    "#  Write a Python program to create a dictionary from two lists without losing duplicate values.\n",
    "# Don't know what it means i did the same thing above using simple dictionary\n",
    "from collections import defaultdict\n",
    "classes = ['Class-V', 'Class-VI', 'Class-VII', 'Class-VIII']\n",
    "ids = [1, 2, 2, 3]\n",
    "temp = defaultdict(set)\n",
    "for c, i in zip(classes, ids):\n",
    "    temp[c].add(i)\n",
    "print(temp)"
   ]
  },
  {
   "cell_type": "markdown",
   "metadata": {},
   "source": [
    "**Sort a dictionary by value- Sorting Dictionaries**"
   ]
  },
  {
   "cell_type": "code",
   "execution_count": 67,
   "metadata": {},
   "outputs": [
    {
     "name": "stdout",
     "output_type": "stream",
     "text": [
      "[('Astrology', 25), ('Biology', 30), ('Physics', 83), ('Math', 86), ('Chemistry', 87), ('Social', 100)]\n",
      "[('Astrology', 25), ('Biology', 30), ('Chemistry', 87), ('Math', 86), ('Physics', 83), ('Social', 100)]\n"
     ]
    }
   ],
   "source": [
    "d1 = {'Math':86, 'Physics':83, 'Chemistry':87, 'Biology': 30, 'Social': 100 , 'Astrology':25}\n",
    "\n",
    "d2 = sorted (d1.items(), key= lambda tup: tup[1], reverse = False)\n",
    "print (d2)\n",
    "print (sorted(d1.items()))\n",
    "\n",
    "# PTR\n",
    "# dictionary d only means the keys so you have to pass d1.items() to sorted \n",
    "# sorted does not sort in place you have to assign its value to something else\n",
    "# sorted must use the keywords 'key' and 'reverse' in sorted (l1, key =, reverse = )\n"
   ]
  },
  {
   "cell_type": "code",
   "execution_count": 68,
   "metadata": {},
   "outputs": [
    {
     "name": "stdout",
     "output_type": "stream",
     "text": [
      "[('Chemistry', 87), ('Physics', 83), ('Math', 81)]\n"
     ]
    }
   ],
   "source": [
    "from collections import Counter\n",
    "x = Counter({'Math':81, 'Physics':83, 'Chemistry':87})\n",
    "print(x.most_common())"
   ]
  },
  {
   "cell_type": "code",
   "execution_count": null,
   "metadata": {},
   "outputs": [],
   "source": []
  },
  {
   "cell_type": "markdown",
   "metadata": {},
   "source": [
    "** Count the number of values for each key in the dictionary**"
   ]
  },
  {
   "cell_type": "code",
   "execution_count": 80,
   "metadata": {},
   "outputs": [
    {
     "name": "stdout",
     "output_type": "stream",
     "text": [
      "[('Math', 6), ('Physics', 4), ('Chemistry', 0), ('Biology', 2), ('Social', 1), ('Astrology', 6)]\n",
      "{'Math': [1, 2, 3, 4, 5, 6], 'Physics': [1, 2, 3, 4], 'Chemistry': [], 'Biology': [1, 2], 'Social': [1], 'Astrology': [1, 2, 3, 4, 5, 6]}\n"
     ]
    }
   ],
   "source": [
    "\n",
    "d1 = {'Math':[1,2,3,4,5,6], 'Physics':[1,2,3,4], 'Chemistry':[], \n",
    "      'Biology':[1,2], 'Social':[1] , 'Astrology':[1,2,3,4,5,6]}\n",
    "#print (d1)\n",
    "\n",
    "print (list (map (lambda tup: (tup[0],len(tup[1])), d1.items())))\n",
    "print (d1)\n"
   ]
  },
  {
   "cell_type": "code",
   "execution_count": null,
   "metadata": {},
   "outputs": [],
   "source": []
  },
  {
   "cell_type": "markdown",
   "metadata": {},
   "source": [
    "**Checking if the keys have certain values **"
   ]
  },
  {
   "cell_type": "code",
   "execution_count": 81,
   "metadata": {},
   "outputs": [
    {
     "name": "stdout",
     "output_type": "stream",
     "text": [
      "True\n",
      "False\n",
      "True\n"
     ]
    }
   ],
   "source": [
    "\n",
    "student = {\n",
    "  'name': 'Alex',\n",
    "  'class': 'V',\n",
    "  'roll_id': '2'\n",
    "}\n",
    "print(student.keys() >= {'class', 'name'})\n",
    "print(student.keys() >= {'name', 'Alex'})\n",
    "print(student.keys() >= {'roll_id', 'name'})"
   ]
  },
  {
   "cell_type": "code",
   "execution_count": null,
   "metadata": {},
   "outputs": [],
   "source": []
  },
  {
   "cell_type": "code",
   "execution_count": null,
   "metadata": {},
   "outputs": [],
   "source": []
  },
  {
   "cell_type": "code",
   "execution_count": null,
   "metadata": {},
   "outputs": [],
   "source": []
  },
  {
   "cell_type": "code",
   "execution_count": null,
   "metadata": {},
   "outputs": [],
   "source": []
  },
  {
   "cell_type": "markdown",
   "metadata": {},
   "source": [
    "# Tuples (immutability)\n",
    "\n",
    "    Tuples is data type in python which is an `immutable` collection of data objects\n",
    "\n",
    "    We use tuples for things that shouldn't be changed, such as days of the week, or dates on a calendar. \n",
    "\n",
    "    It provides a convenient source of `data integrity`."
   ]
  },
  {
   "cell_type": "code",
   "execution_count": 29,
   "metadata": {},
   "outputs": [
    {
     "name": "stdout",
     "output_type": "stream",
     "text": [
      "(1, 2, 3, 'one') 4\n",
      "1\n",
      "one\n",
      "(1, 2, 3, 'one')\n",
      "(3,)\n"
     ]
    }
   ],
   "source": [
    "# Create a tuple\n",
    "t = (1, 2, 3, 'one')\n",
    "\n",
    "print ( t,len(t) )\n",
    "print (t[0]) # indexing just like list\n",
    "print (t[-1]) # slicing \n",
    "print (t[::])\n",
    "print (t[2:3:])"
   ]
  },
  {
   "cell_type": "code",
   "execution_count": null,
   "metadata": {},
   "outputs": [],
   "source": []
  },
  {
   "cell_type": "markdown",
   "metadata": {},
   "source": [
    "Tuples have only two methods \n",
    "    1. Index- gives index of an data object in tuple \n",
    "    2. Count- count of a data object in tuple"
   ]
  },
  {
   "cell_type": "code",
   "execution_count": 30,
   "metadata": {},
   "outputs": [
    {
     "name": "stdout",
     "output_type": "stream",
     "text": [
      "3 1\n"
     ]
    }
   ],
   "source": [
    "print ( t.index('one'), t.count('one'))"
   ]
  },
  {
   "cell_type": "markdown",
   "metadata": {},
   "source": [
    "You can use slicing in tuple exactly same as lists for example:"
   ]
  },
  {
   "cell_type": "code",
   "execution_count": 33,
   "metadata": {},
   "outputs": [
    {
     "name": "stdout",
     "output_type": "stream",
     "text": [
      "(('x', 1), ('x', 2), ('x', 3), ('y', 1), ('y', 2), ('z', 1))\n",
      "(('z', 1), ('y', 2), ('y', 1), ('x', 3), ('x', 2), ('x', 1))\n",
      "(('x', 2), ('x', 3), ('y', 1), ('y', 2), ('z', 1))\n"
     ]
    }
   ],
   "source": [
    "tuple1 = ((\"x\", 1), (\"x\", 2), (\"x\", 3), (\"y\", 1), (\"y\", 2), (\"z\", 1))\n",
    "\n",
    "print (                    tuple1[::]                       )\n",
    "print (                    tuple1[::-1]                       ) # reversal/reversing of a tuple\n",
    "print (                    tuple1[1::]                       )\n"
   ]
  },
  {
   "cell_type": "markdown",
   "metadata": {},
   "source": [
    "**Deleting an item from the tuple**\n",
    "Tuples are immutable but you can create a new tuple with the removed element by using slicing as below\n",
    "This also means you can concatenate the tuples like lists"
   ]
  },
  {
   "cell_type": "code",
   "execution_count": 36,
   "metadata": {},
   "outputs": [
    {
     "data": {
      "text/plain": [
       "(('x', 1), ('x', 2), ('x', 1), ('x', 2), ('x', 3))"
      ]
     },
     "execution_count": 36,
     "metadata": {},
     "output_type": "execute_result"
    }
   ],
   "source": [
    "tuple1 = ((\"x\", 1), (\"x\", 2), (\"x\", 3), (\"y\", 1), (\"y\", 2), (\"z\", 1))\n",
    "\n",
    "tuple2 = tuple1[:2]+tuple1[:3]\n",
    "\n",
    "tuple2"
   ]
  },
  {
   "cell_type": "code",
   "execution_count": null,
   "metadata": {},
   "outputs": [],
   "source": []
  },
  {
   "cell_type": "markdown",
   "metadata": {},
   "source": [
    "**How to find without throwing an error whether an element exists in tuple**\n",
    "\n",
    "tuple1.index(value) will throw an error if the value is not in the tuple to avoid that you can simple use the following:\n"
   ]
  },
  {
   "cell_type": "code",
   "execution_count": 40,
   "metadata": {},
   "outputs": [
    {
     "name": "stdout",
     "output_type": "stream",
     "text": [
      "False\n",
      "True\n"
     ]
    }
   ],
   "source": [
    "print ((\"x\", 9) in tuple1)\n",
    "print ((\"x\", 1) in tuple1)"
   ]
  },
  {
   "cell_type": "code",
   "execution_count": 41,
   "metadata": {},
   "outputs": [
    {
     "ename": "ValueError",
     "evalue": "tuple.index(x): x not in tuple",
     "output_type": "error",
     "traceback": [
      "\u001b[1;31m---------------------------------------------------------------------------\u001b[0m",
      "\u001b[1;31mValueError\u001b[0m                                Traceback (most recent call last)",
      "\u001b[1;32m<ipython-input-41-402c53ad7c85>\u001b[0m in \u001b[0;36m<module>\u001b[1;34m()\u001b[0m\n\u001b[1;32m----> 1\u001b[1;33m \u001b[0mtuple1\u001b[0m\u001b[1;33m.\u001b[0m\u001b[0mindex\u001b[0m\u001b[1;33m(\u001b[0m\u001b[1;33m(\u001b[0m\u001b[1;34m\"x\"\u001b[0m\u001b[1;33m,\u001b[0m \u001b[1;36m9\u001b[0m\u001b[1;33m)\u001b[0m\u001b[1;33m)\u001b[0m\u001b[1;33m\u001b[0m\u001b[0m\n\u001b[0m",
      "\u001b[1;31mValueError\u001b[0m: tuple.index(x): x not in tuple"
     ]
    }
   ],
   "source": [
    "tuple1.index((\"x\", 9))"
   ]
  },
  {
   "cell_type": "code",
   "execution_count": 57,
   "metadata": {},
   "outputs": [
    {
     "data": {
      "text/plain": [
       "{('x', 6): 1, ('x', 5): 1, ('x', 4): 1, ('x', 3): 1, ('x', 2): 2, ('x', 1): 3}"
      ]
     },
     "execution_count": 57,
     "metadata": {},
     "output_type": "execute_result"
    }
   ],
   "source": [
    "tuple1 = (('x', 1), ('x', 2), ('x', 1), ('x', 2), ('x', 3), ('x', 6), ('x', 5), ('x', 4),('x', 1))\n",
    "list1 = []\n",
    "\n",
    "dict1 = {}\n",
    "for t in set(tuple1):\n",
    "    dict1[t] = tuple1.count(t)\n",
    "dict1\n",
    "\n",
    "\n",
    "for t in tuple1:\n",
    "    if tuple1.count(t)>1:\n",
    "        list1.append(t)\n",
    "\n",
    "sorted(list1)\n",
    "\n"
   ]
  },
  {
   "cell_type": "markdown",
   "metadata": {},
   "source": [
    "**nth element in tuple from last is tuple1[-n] whereas from begining it will be tuple1[n-1]**"
   ]
  },
  {
   "cell_type": "code",
   "execution_count": 61,
   "metadata": {},
   "outputs": [
    {
     "name": "stdout",
     "output_type": "stream",
     "text": [
      "('x', 6)\n",
      "('x', 6)\n"
     ]
    }
   ],
   "source": [
    "tuple1 = (('x', 1), ('x', 2), ('x', 1), ('x', 2), ('x', 3), ('x', 6), ('x', 5), ('x', 4),('x', 1))\n",
    "print (             tuple1[5]     )\n",
    "print (             tuple1[-4]    )"
   ]
  },
  {
   "cell_type": "code",
   "execution_count": null,
   "metadata": {},
   "outputs": [],
   "source": []
  },
  {
   "cell_type": "code",
   "execution_count": 109,
   "metadata": {},
   "outputs": [
    {
     "name": "stdout",
     "output_type": "stream",
     "text": [
      "x1x2x1x2x3x6x5x4x1\n",
      "x1x2x1x2x3x6x5x4x1\n"
     ]
    },
    {
     "data": {
      "text/plain": [
       "\"('x', 1)('x', 2)('x', 1)('x', 2)('x', 3)('x', 6)('x', 5)('x', 4)('x', 1)\""
      ]
     },
     "execution_count": 109,
     "metadata": {},
     "output_type": "execute_result"
    }
   ],
   "source": [
    "from functools import reduce\n",
    "tuple1 = (('x', 1), ('x', 2), ('x', 1), ('x', 2), ('x', 3), ('x', 6), ('x', 5), ('x', 4),('x', 1))\n",
    "#tuple1 = [('x', 1), ('x', 2), ('x', 1), ('x', 2), ('x', 3), ('x', 6), ('x', 5), ('x', 4),('x', 1)]\n",
    "str1 = ''\n",
    "for t in tuple1:\n",
    "    str1 += t[0] + str(t[1])\n",
    "\n",
    "print (str1)\n",
    "print ( ''.join (list (map (lambda a: (a[0]+str(a[1])), list(tuple1)))))\n",
    "\n",
    "reduce (lambda a,b: str(a)+str(b),tuple1)\n",
    "\n",
    "#reduce( lambda x,y: x + str(y), tuple1 )\n"
   ]
  },
  {
   "cell_type": "code",
   "execution_count": null,
   "metadata": {},
   "outputs": [],
   "source": []
  },
  {
   "cell_type": "markdown",
   "metadata": {},
   "source": [
    "## Tuple interview questions"
   ]
  },
  {
   "cell_type": "code",
   "execution_count": null,
   "metadata": {},
   "outputs": [],
   "source": []
  },
  {
   "cell_type": "markdown",
   "metadata": {},
   "source": [
    "**Adding an item into tuple/Adding an item in the middle of the tuple**\n",
    "\n",
    "        As tuples are immutable only way to this is to create a new tuple.\n",
    "        Wherever there is a single item i tuple you have to represent it as (12, ) with an extra comma else it will be considered (12) which looks like an integer to python"
   ]
  },
  {
   "cell_type": "code",
   "execution_count": 11,
   "metadata": {},
   "outputs": [
    {
     "name": "stdout",
     "output_type": "stream",
     "text": [
      "(1, 2, 3, 4, 5, 6, 7, 9, 11)\n",
      "(1, 2, 3, 4, 5, 6, 7, 9, 11, 12, 13, 14)\n",
      "(1, 2, 3, 4, 5, 6, 8)\n"
     ]
    }
   ],
   "source": [
    "tup1 = (1,2,3,4,5,6,7,9)\n",
    "tup1 = tup1[::] + (11,)\n",
    "print (tup1)\n",
    "tup1 = tup1[::] + (12,13,14)\n",
    "print (tup1)\n",
    "tup2 = (8,) # we need comma here\n",
    "tup3 = tup1[:6]+ tup2[:] # we need the whole slice here just tup2[0] will fetch integer\n",
    "print(tup3)\n"
   ]
  },
  {
   "cell_type": "markdown",
   "metadata": {},
   "source": [
    "**Write a Python program to count the elements in a list until an element is a tuple.**"
   ]
  },
  {
   "cell_type": "code",
   "execution_count": 59,
   "metadata": {},
   "outputs": [
    {
     "name": "stdout",
     "output_type": "stream",
     "text": [
      "13\n",
      "<class 'tuple'>\n",
      "(1, 2, 4)\n",
      "6\n",
      "[1, 2, 3]\n",
      "7\n",
      "{'i': 1}\n",
      "8\n"
     ]
    }
   ],
   "source": [
    "#  Write a Python program to count the elements in a list until an element is a tuple.\n",
    "list1 = [1,2,3,4,5,6,(1,2,4),[1,2,3], {'i':1}, 8,9,10,11]\n",
    "print (len(list1))\n",
    "print (type(list1[6]))\n",
    "for i in list1:\n",
    "    if isinstance(i, tuple):\n",
    "        print(i)\n",
    "        print (list1.index(i))\n",
    "    \n",
    "    if isinstance(i, list):\n",
    "        print(i)\n",
    "        print (list1.index(i))\n",
    "     \n",
    "    if isinstance(i, dict):\n",
    "        print(i)\n",
    "        print (list1.index(i))\n",
    "    \n"
   ]
  },
  {
   "cell_type": "markdown",
   "metadata": {},
   "source": [
    "`isinstance (value, type)`: \n",
    "    \n",
    "    can be used to recognize almost any datatype in the python\n",
    "    can also be used to check user definced classes \n",
    "    `issubclass()` to check if an object is a subclass of another object"
   ]
  },
  {
   "cell_type": "code",
   "execution_count": 61,
   "metadata": {},
   "outputs": [
    {
     "data": {
      "text/plain": [
       "True"
      ]
     },
     "execution_count": 61,
     "metadata": {},
     "output_type": "execute_result"
    }
   ],
   "source": [
    "# is x in any of the following\n",
    "isinstance(\"Hello\", (float, int, str, list, dict, tuple))"
   ]
  },
  {
   "cell_type": "markdown",
   "metadata": {},
   "source": [
    "**Write a Python program to sort a tuple by its float element. **\n",
    "\n",
    "    Sample data: [('item1', '12.20'), ('item2', '15.10'), ('item3', '24.5')]\n",
    "    Expected Output: [('item3', '24.5'), ('item2', '15.10'), ('item1', '12.20')]"
   ]
  },
  {
   "cell_type": "code",
   "execution_count": 79,
   "metadata": {},
   "outputs": [
    {
     "name": "stdout",
     "output_type": "stream",
     "text": [
      "12.2\n",
      "[('item5', '-5.2'), ('zzz', '-3.5'), ('item4', '1.6'), ('item1', '12.20'), ('item2', '15.10'), ('item3', '24.5'), ('item0', '24.5')]\n",
      "[('item5', '-5.2'), ('zzz', '-3.5'), ('item4', '1.6'), ('item1', '12.20'), ('item2', '15.10'), ('item3', '24.5'), ('item0', '24.5')]\n"
     ]
    }
   ],
   "source": [
    "list1  = [('item1', '12.20'), ('item2', '15.10'), ('item3', '24.5'), ('item4', '1.6'), \n",
    "          ('item5', '-5.2'), ('item0', '24.5'), ('zzz', '-3.5')]\n",
    "\n",
    "def key1 (tup1):\n",
    "    return float(tup1[1])\n",
    "\n",
    "print (key1( list1[0]))\n",
    "\n",
    "# NOTE YOU HAVE TO BE VERY CAREFUL ABOUT THE DATATYPE AS HERE WE ARE TO CONVERT IT INTO FLOAG\n",
    "print (   sorted(list1, key = lambda tup : float(tup[1]) )           )\n",
    "\n",
    "print (   sorted(list1, key = key1) )           \n"
   ]
  },
  {
   "cell_type": "code",
   "execution_count": null,
   "metadata": {},
   "outputs": [],
   "source": []
  },
  {
   "cell_type": "markdown",
   "metadata": {},
   "source": [
    "**Write a Python program to remove an empty tuple(s) from a list of tuples.**\n",
    "\n",
    "    Sample data: [(), (), ('',), ('a', 'b'), ('a', 'b', 'c'), ('d')]\n",
    "    \n",
    "    Expected output: [('',), ('a', 'b'), ('a', 'b', 'c'), 'd']"
   ]
  },
  {
   "cell_type": "code",
   "execution_count": 28,
   "metadata": {},
   "outputs": [
    {
     "name": "stdout",
     "output_type": "stream",
     "text": [
      "[('',), ('a', 'b'), ('a', 'b', 'c'), 'd']\n",
      "[('',), ('a', 'b'), ('a', 'b', 'c'), 'd']\n"
     ]
    }
   ],
   "source": [
    "list1 = [(), (), ('',), ('a', 'b'), ('a', 'b', 'c'), ('d')]\n",
    "\n",
    "\n",
    "print (                 list (filter (lambda tup1 : len(tup1) !=0, list1))         )\n",
    "\n",
    "# list comprehension\n",
    "print (                      [tup1 for tup1 in list1 if tup1]                          )\n"
   ]
  },
  {
   "cell_type": "markdown",
   "metadata": {},
   "source": [
    "**Write a Python program to replace last value of tuples in a list. Go to the editor**\n",
    "\n",
    "\n",
    "Sample list: [(10, 20, 40), (40, 50, 60), (70, 80, 90)]\n",
    "\n",
    "Expected Output: [(10, 20, 100), (40, 50, 100), (70, 80, 100)]"
   ]
  },
  {
   "cell_type": "code",
   "execution_count": 35,
   "metadata": {},
   "outputs": [
    {
     "name": "stdout",
     "output_type": "stream",
     "text": [
      "[(10, 20, 100), (40, 50, 100), (70, 80, 100)]\n",
      "[(10, 20, 100), (40, 50, 100), (70, 80, 100)]\n",
      "[(10, 20, 100), (40, 50, 100), (70, 80, 100)]\n"
     ]
    }
   ],
   "source": [
    "i_list = [(10, 20, 40), (40, 50, 60), (70, 80, 90)]\n",
    "          \n",
    "print (     list (map ( lambda tup1: (tup1[0], tup1[1], int(100))   ,   i_list ))     )\n",
    "\n",
    "print (      [(tup1[0], tup1[1], int(100)) for tup1 in i_list ]            )\n",
    "\n",
    "print (     [tup1[:-1] + (100,) for tup1 in i_list]          ) # research \n",
    "\n"
   ]
  },
  {
   "cell_type": "code",
   "execution_count": 7,
   "metadata": {},
   "outputs": [
    {
     "data": {
      "text/plain": [
       "{'x': [1, 2, 3], 'y': [1, 2], 'z': [1]}"
      ]
     },
     "execution_count": 7,
     "metadata": {},
     "output_type": "execute_result"
    }
   ],
   "source": [
    "# convert the list into dictionary\n",
    "\n",
    "list1 = [(\"x\", 1), (\"x\", 2), (\"x\", 3), (\"y\", 1), (\"y\", 2), (\"z\", 1)]\n",
    " # output {'y': [1, 2], 'z': [1], 'x': [1, 2, 3]} \n",
    "    \n",
    "dict1 = {}\n",
    "for a,b in list1:\n",
    "    dict1.setdefault(a,[]).append(b)\n",
    "\n",
    "dict1"
   ]
  },
  {
   "cell_type": "code",
   "execution_count": 28,
   "metadata": {},
   "outputs": [
    {
     "name": "stdout",
     "output_type": "stream",
     "text": [
      "2 w\n",
      "3 r\n",
      "4 w\n",
      "{'w': 4, 'r': 3}\n",
      "{'w': 4, 'r': 3}\n",
      "{'w': [2, 4], 'r': [3]}\n"
     ]
    }
   ],
   "source": [
    "# create a dictionary from tuple\n",
    "tuplex = ((2, \"w\"),(3, \"r\"), (4,\"w\"))\n",
    "dict1 = {}\n",
    "\n",
    "for y,x in tuplex: # this is a generator \n",
    "    print (y,x)\n",
    "    dict1.update({x:y})\n",
    "print (dict1)\n",
    "\n",
    "#             OR\n",
    "\n",
    "print (dict ((y,x) for x,y in tuplex))\n",
    "\n",
    "# but the issues with them are that they would not consider multiple value on one key\n",
    "tuplex = ((2, \"w\"),(3, \"r\"), (4,\"w\"))\n",
    "dict1 = {}\n",
    "\n",
    "for x,y in tuplex:\n",
    "    dict1.setdefault(y, []).append(x)\n",
    "\n",
    "print (dict1)"
   ]
  },
  {
   "cell_type": "code",
   "execution_count": null,
   "metadata": {},
   "outputs": [],
   "source": []
  },
  {
   "cell_type": "code",
   "execution_count": null,
   "metadata": {},
   "outputs": [],
   "source": []
  },
  {
   "cell_type": "markdown",
   "metadata": {},
   "source": [
    "## lambda map filter reduce \n",
    "\n",
    "Map and Filter are builtin functions \n",
    "Which may or may not be used with lambda expressions\n",
    "        \n"
   ]
  },
  {
   "cell_type": "code",
   "execution_count": null,
   "metadata": {},
   "outputs": [],
   "source": []
  },
  {
   "cell_type": "markdown",
   "metadata": {},
   "source": [
    "\n",
    "\n",
    "## map function\n",
    "\n",
    "`map(func1, list)`: map the function on the list\n",
    "\n",
    "The **map** function allows you to \"map\" a function to an iterable object i.e call the same function to every item in an iterable, such as a list. \n",
    "\n",
    "NOTE: only function name is passed as argument not the function call \n",
    "\n",
    "#### map() function converts or maps elements of the list as per the lambda expression\n",
    "    It also takes two arguments \n",
    "    `map(lambda_exp, list_of_values)`\n",
    "    for example\n",
    "    `final_list = list(map(lambda x: x*2 , li)) `: will return all list elements multiplied by2\n",
    "    "
   ]
  },
  {
   "cell_type": "code",
   "execution_count": 1,
   "metadata": {},
   "outputs": [
    {
     "name": "stdout",
     "output_type": "stream",
     "text": [
      "1\n",
      "4\n",
      "9\n",
      "16\n",
      "25\n",
      "[1, 4, 9, 16, 25]\n"
     ]
    },
    {
     "ename": "NameError",
     "evalue": "name 'my_nums' is not defined",
     "output_type": "error",
     "traceback": [
      "\u001b[1;31m---------------------------------------------------------------------------\u001b[0m",
      "\u001b[1;31mNameError\u001b[0m                                 Traceback (most recent call last)",
      "\u001b[1;32m<ipython-input-1-5457c09af6b1>\u001b[0m in \u001b[0;36m<module>\u001b[1;34m()\u001b[0m\n\u001b[0;32m     10\u001b[0m \u001b[0mprint\u001b[0m \u001b[1;33m(\u001b[0m   \u001b[0mlist\u001b[0m \u001b[1;33m(\u001b[0m\u001b[0mmap\u001b[0m\u001b[1;33m(\u001b[0m\u001b[0msquare\u001b[0m\u001b[1;33m,\u001b[0m\u001b[0mlist1\u001b[0m\u001b[1;33m)\u001b[0m\u001b[1;33m)\u001b[0m   \u001b[1;33m)\u001b[0m\u001b[1;33m\u001b[0m\u001b[0m\n\u001b[0;32m     11\u001b[0m \u001b[1;33m\u001b[0m\u001b[0m\n\u001b[1;32m---> 12\u001b[1;33m \u001b[0mprint\u001b[0m \u001b[1;33m(\u001b[0m\u001b[0mmap\u001b[0m\u001b[1;33m(\u001b[0m\u001b[0msquare\u001b[0m\u001b[1;33m,\u001b[0m\u001b[0mmy_nums\u001b[0m\u001b[1;33m)\u001b[0m\u001b[1;33m)\u001b[0m \u001b[1;31m# note this will not give you any results\u001b[0m\u001b[1;33m\u001b[0m\u001b[0m\n\u001b[0m",
      "\u001b[1;31mNameError\u001b[0m: name 'my_nums' is not defined"
     ]
    }
   ],
   "source": [
    "\n",
    "list1 = [1,2,3,4,5]\n",
    "\n",
    "def square(num):\n",
    "    return num**2\n",
    "\n",
    "for item in map(square, list1):\n",
    "    print (item)\n",
    "\n",
    "print (   list (map(square,list1))   )\n",
    "\n",
    "print (map(square,my_nums)) # note this will not give you any results "
   ]
  },
  {
   "cell_type": "code",
   "execution_count": 2,
   "metadata": {},
   "outputs": [
    {
     "data": {
      "text/plain": [
       "['even', 'C', 'S', 'K', 'even']"
      ]
     },
     "execution_count": 2,
     "metadata": {},
     "output_type": "execute_result"
    }
   ],
   "source": [
    "mynames = ['John','Cindy','Sarah','Kelly','Mike']\n",
    "\n",
    "def splicer(mystring):\n",
    "    if len(mystring) % 2 == 0:\n",
    "        return 'even'\n",
    "    else:\n",
    "        return mystring[0]\n",
    "    \n",
    "    \n",
    "list(map(splicer,mynames))"
   ]
  },
  {
   "cell_type": "code",
   "execution_count": 4,
   "metadata": {},
   "outputs": [
    {
     "name": "stdout",
     "output_type": "stream",
     "text": [
      "[10, 14, 44, 194, 108, 124, 154, 46, 146, 122]\n"
     ]
    }
   ],
   "source": [
    "li = [5, 7, 22, 97, 54, 62, 77, 23, 73, 61] \n",
    "final_list = list(map(lambda x: x*2 , li)) \n",
    "print(final_list)"
   ]
  },
  {
   "cell_type": "code",
   "execution_count": null,
   "metadata": {},
   "outputs": [],
   "source": []
  },
  {
   "cell_type": "code",
   "execution_count": null,
   "metadata": {},
   "outputs": [],
   "source": []
  },
  {
   "cell_type": "markdown",
   "metadata": {},
   "source": [
    "## filter function\n",
    "\n",
    "Filter an iterable through the function. \n",
    "Function should return a boolean \n",
    "\n",
    "\n",
    "#### filter() is a function which takes two arguments \n",
    "            `filter (lambda_exp, list_of_values)`\n",
    "         \n",
    "         It will return the list of values without the values which fail the lambda for example\n",
    "         \n",
    "         `final_list = list(filter(lambda x: (x%2 != 0) , li))` will return only the odd element\n"
   ]
  },
  {
   "cell_type": "code",
   "execution_count": 3,
   "metadata": {},
   "outputs": [
    {
     "data": {
      "text/plain": [
       "[0, 2, 4, 6, 8, 10]"
      ]
     },
     "execution_count": 3,
     "metadata": {},
     "output_type": "execute_result"
    }
   ],
   "source": [
    "nums = [0,1,2,3,4,5,6,7,8,9,10]\n",
    "\n",
    "def check_even(num):\n",
    "    return num % 2 == 0 \n",
    "list (filter (check_even, nums))"
   ]
  },
  {
   "cell_type": "code",
   "execution_count": 5,
   "metadata": {},
   "outputs": [
    {
     "name": "stdout",
     "output_type": "stream",
     "text": [
      "[5, 7, 97, 77, 23, 73, 61]\n"
     ]
    }
   ],
   "source": [
    "li = [5, 7, 22, 97, 54, 62, 77, 23, 73, 61] \n",
    "final_list = list(filter(lambda x: (x%2 != 0) , li)) \n",
    "print(final_list) "
   ]
  },
  {
   "cell_type": "code",
   "execution_count": null,
   "metadata": {},
   "outputs": [],
   "source": []
  },
  {
   "cell_type": "code",
   "execution_count": null,
   "metadata": {},
   "outputs": [],
   "source": []
  },
  {
   "cell_type": "markdown",
   "metadata": {},
   "source": [
    "## lambda expression\n",
    "\n",
    "lambda expressions allow us to create \"anonymous\" functions to quickly make ad-hoc functions without needing to properly define a function using def.\n",
    "\n",
    "Function objects returned by running lambda expressions work exactly the same as those created and assigned by defs. \n",
    "\n",
    "There is key difference that makes lambda useful in specialized roles:\n",
    "\n",
    "**lambda's body is a single expression, not a block of statements.**\n",
    "\n",
    "\n",
    "#### Lambda expression\n",
    "It is a compressed function with syntax. Lambda keyword is used in python to create anonymous functions. You can only use a single expression with lambda. \n",
    "\n",
    "   **lambda arguments: expression**\n",
    "    \n",
    "     `sorted(list1, key = lambda tup : float(tup[1]) )`   \n"
   ]
  },
  {
   "cell_type": "code",
   "execution_count": 6,
   "metadata": {},
   "outputs": [
    {
     "data": {
      "text/plain": [
       "<function __main__.<lambda>(num)>"
      ]
     },
     "execution_count": 6,
     "metadata": {},
     "output_type": "execute_result"
    }
   ],
   "source": [
    "def square(num):\n",
    "    result = num**2\n",
    "    return result\n",
    "\n",
    "lambda num: num**2"
   ]
  },
  {
   "cell_type": "code",
   "execution_count": 7,
   "metadata": {},
   "outputs": [
    {
     "data": {
      "text/plain": [
       "4"
      ]
     },
     "execution_count": 7,
     "metadata": {},
     "output_type": "execute_result"
    }
   ],
   "source": [
    "# You wouldn't usually assign a name to a lambda expression, this is just for demonstration!\n",
    "square = lambda num: num **2\n",
    "square(2)"
   ]
  },
  {
   "cell_type": "code",
   "execution_count": 8,
   "metadata": {},
   "outputs": [
    {
     "ename": "NameError",
     "evalue": "name 'my_nums' is not defined",
     "output_type": "error",
     "traceback": [
      "\u001b[1;31m---------------------------------------------------------------------------\u001b[0m",
      "\u001b[1;31mNameError\u001b[0m                                 Traceback (most recent call last)",
      "\u001b[1;32m<ipython-input-8-2f9e28d6d9ec>\u001b[0m in \u001b[0;36m<module>\u001b[1;34m()\u001b[0m\n\u001b[1;32m----> 1\u001b[1;33m \u001b[0mlist\u001b[0m\u001b[1;33m(\u001b[0m\u001b[0mmap\u001b[0m\u001b[1;33m(\u001b[0m\u001b[1;32mlambda\u001b[0m \u001b[0mnum\u001b[0m\u001b[1;33m:\u001b[0m \u001b[0mnum\u001b[0m \u001b[1;33m**\u001b[0m \u001b[1;36m2\u001b[0m\u001b[1;33m,\u001b[0m \u001b[0mmy_nums\u001b[0m\u001b[1;33m)\u001b[0m\u001b[1;33m)\u001b[0m\u001b[1;33m\u001b[0m\u001b[0m\n\u001b[0m",
      "\u001b[1;31mNameError\u001b[0m: name 'my_nums' is not defined"
     ]
    }
   ],
   "source": [
    "list(map(lambda num: num ** 2, my_nums))"
   ]
  },
  {
   "cell_type": "code",
   "execution_count": 9,
   "metadata": {},
   "outputs": [
    {
     "data": {
      "text/plain": [
       "[0, 2, 4, 6, 8, 10]"
      ]
     },
     "execution_count": 9,
     "metadata": {},
     "output_type": "execute_result"
    }
   ],
   "source": [
    "list(filter(lambda n: n % 2 == 0,nums))"
   ]
  },
  {
   "cell_type": "code",
   "execution_count": 10,
   "metadata": {},
   "outputs": [
    {
     "data": {
      "text/plain": [
       "<function __main__.<lambda>(s)>"
      ]
     },
     "execution_count": 10,
     "metadata": {},
     "output_type": "execute_result"
    }
   ],
   "source": [
    "# first char of a list of string\n",
    "lambda s: s[0]"
   ]
  },
  {
   "cell_type": "code",
   "execution_count": 11,
   "metadata": {},
   "outputs": [
    {
     "data": {
      "text/plain": [
       "<function __main__.<lambda>(s)>"
      ]
     },
     "execution_count": 11,
     "metadata": {},
     "output_type": "execute_result"
    }
   ],
   "source": [
    "# reversal of a string using lambda\n",
    "lambda s: s[::-1]"
   ]
  },
  {
   "cell_type": "code",
   "execution_count": 12,
   "metadata": {},
   "outputs": [
    {
     "data": {
      "text/plain": [
       "<function __main__.<lambda>(x, y)>"
      ]
     },
     "execution_count": 12,
     "metadata": {},
     "output_type": "execute_result"
    }
   ],
   "source": [
    "# you can pass multiple arguments\n",
    "lambda x,y : x + y"
   ]
  },
  {
   "cell_type": "code",
   "execution_count": null,
   "metadata": {},
   "outputs": [],
   "source": []
  },
  {
   "cell_type": "markdown",
   "metadata": {},
   "source": [
    "#### reduce(lamda_exp, list_of_values):\n",
    "will reduce the complete list to a single output based on lambda_exp\n",
    "\n",
    "   "
   ]
  },
  {
   "cell_type": "code",
   "execution_count": 14,
   "metadata": {},
   "outputs": [
    {
     "data": {
      "text/plain": [
       "193"
      ]
     },
     "execution_count": 14,
     "metadata": {},
     "output_type": "execute_result"
    }
   ],
   "source": [
    "from functools import reduce\n",
    "li = [5, 8, 10, 20, 50, 100] \n",
    "sum1 = reduce((lambda x, y: x + y), li) \n",
    "# will give 193\n",
    "sum1"
   ]
  },
  {
   "cell_type": "code",
   "execution_count": 97,
   "metadata": {},
   "outputs": [
    {
     "data": {
      "text/plain": [
       "193"
      ]
     },
     "execution_count": 97,
     "metadata": {},
     "output_type": "execute_result"
    }
   ],
   "source": [
    "from functools import reduce\n",
    "li = (5, 8, 10, 20, 50, 100)\n",
    "sum1 = reduce((lambda x, y: x + y), li) \n",
    "# will give 193\n",
    "sum1"
   ]
  },
  {
   "cell_type": "code",
   "execution_count": null,
   "metadata": {},
   "outputs": [],
   "source": []
  },
  {
   "cell_type": "markdown",
   "metadata": {},
   "source": [
    "# Class Heading/Classes Heading"
   ]
  },
  {
   "cell_type": "code",
   "execution_count": 24,
   "metadata": {},
   "outputs": [],
   "source": [
    "# Find the distance between two co-ordinates and the slope of a line\n",
    "# coordinates are tuples \n",
    "class line:\n",
    "    \n",
    "    # ATTRIBUTES\n",
    "    # you will have to provide these attributes when you are initialising a clas\n",
    "    def __init__ (self, coor1, coor2):\n",
    "        print ('line is formed')\n",
    "        self.coor1 = coor1\n",
    "        self.coor2 = coor2\n",
    "    \n",
    "    def slope (self):\n",
    "        return (self.coor2[1]-self.coor1[1]) / (self.coor2[0]-self.coor1[0])\n",
    "    \n",
    "    def length (self):\n",
    "        return ((self.coor2[1]-self.coor1[1])**2 +  (self.coor2[0]-self.coor1[0])**2)**0.5  "
   ]
  },
  {
   "cell_type": "code",
   "execution_count": 25,
   "metadata": {},
   "outputs": [
    {
     "name": "stdout",
     "output_type": "stream",
     "text": [
      "line is formed\n",
      "3\n",
      "(8, 10)\n",
      "1.6\n",
      "9.433981132056603\n"
     ]
    }
   ],
   "source": [
    "line1 = line((3,2), (8,10))\n",
    "print ( line1.coor1[0])\n",
    "print ( line1.coor2)\n",
    "print ( line1.slope())\n",
    "print ( line1.length())"
   ]
  },
  {
   "cell_type": "code",
   "execution_count": 54,
   "metadata": {},
   "outputs": [],
   "source": [
    "class Cylinder ():\n",
    "    \n",
    "    pi = 3.14\n",
    "    \n",
    "    def __init__ (self, r=1, h=1):\n",
    "        self.r = r\n",
    "        self.h = h\n",
    "    \n",
    "    def area (self):\n",
    "        return round ( ( (2 * self.pi * self.r * self.h) + (2 * self.pi * self.r * self.r) ), 2)\n",
    "\n",
    "    def volume (self):\n",
    "        return round( ( (self.pi * self.r * self.r * self.h) ), 2)"
   ]
  },
  {
   "cell_type": "code",
   "execution_count": 55,
   "metadata": {},
   "outputs": [
    {
     "name": "stdout",
     "output_type": "stream",
     "text": [
      "3\n",
      "2\n",
      "94.2\n",
      "56.52\n"
     ]
    }
   ],
   "source": [
    "my_obj = Cylinder (3, 2)\n",
    "print (my_obj.r)\n",
    "print (my_obj.h)\n",
    "print (my_obj.area())\n",
    "print (my_obj.volume())\n"
   ]
  },
  {
   "cell_type": "code",
   "execution_count": 91,
   "metadata": {},
   "outputs": [],
   "source": [
    "class Account ():\n",
    "    \n",
    "    def __init__ (self, owner, bal):\n",
    "        self.owner = owner\n",
    "        self.bal = bal \n",
    "    \n",
    "    def __str__ (self):\n",
    "        return f\"\\n Owner: {self.owner} \\n Balance: {self.bal}\"\n",
    "    \n",
    "    def withdraw(self, amt):\n",
    "        if self.bal >= amt:\n",
    "            self.bal -= amt\n",
    "            print (f'$ {amt} deducted \\n   Current Balance: $ {self.bal}')\n",
    "        "
   ]
  },
  {
   "cell_type": "code",
   "execution_count": 92,
   "metadata": {},
   "outputs": [
    {
     "name": "stdout",
     "output_type": "stream",
     "text": [
      "$ 499.23 deducted \n",
      "   Current Balance: $ 500.77\n",
      "\n",
      " Owner: Amit \n",
      " Balance: 500.77\n"
     ]
    }
   ],
   "source": [
    "Account_Amit = Account('Amit', 1000)\n",
    "Account_Amit.withdraw(499.23)\n",
    "\n",
    "print (Account_Amit)"
   ]
  },
  {
   "cell_type": "code",
   "execution_count": 95,
   "metadata": {},
   "outputs": [],
   "source": [
    "# decorators\n",
    "# How to create a wrapper around a function\n",
    "# 1. Create the function\n",
    "# 2. Create the wrapper with the function in it\n",
    "# 3. Call be like @wrapper def func()\n",
    "\n",
    "def func ():\n",
    "    print ('\\t I am the bare function')\n",
    "    \n",
    "def wrapper (func_arg):\n",
    "    print ('code before the func')\n",
    "    func()\n",
    "    print ('code after the func')\n",
    "    return wrapper\n"
   ]
  },
  {
   "cell_type": "code",
   "execution_count": 96,
   "metadata": {},
   "outputs": [
    {
     "name": "stdout",
     "output_type": "stream",
     "text": [
      "code before the func\n",
      "\t I am the bare function\n",
      "code after the func\n"
     ]
    }
   ],
   "source": [
    "@wrapper \n",
    "def func ():\n",
    "    print ('\\t I am the bare function')"
   ]
  },
  {
   "cell_type": "code",
   "execution_count": 97,
   "metadata": {},
   "outputs": [
    {
     "ename": "SyntaxError",
     "evalue": "invalid syntax (<ipython-input-97-5ac89e7e4d24>, line 2)",
     "output_type": "error",
     "traceback": [
      "\u001b[1;36m  File \u001b[1;32m\"<ipython-input-97-5ac89e7e4d24>\"\u001b[1;36m, line \u001b[1;32m2\u001b[0m\n\u001b[1;33m    func()\u001b[0m\n\u001b[1;37m       ^\u001b[0m\n\u001b[1;31mSyntaxError\u001b[0m\u001b[1;31m:\u001b[0m invalid syntax\n"
     ]
    }
   ],
   "source": []
  },
  {
   "cell_type": "code",
   "execution_count": null,
   "metadata": {},
   "outputs": [],
   "source": [
    "\n",
    "\n"
   ]
  },
  {
   "cell_type": "markdown",
   "metadata": {},
   "source": [
    "## RANDOM DATA GENERATION IN PYTHON\n",
    "\n",
    "The random module is the module which has functions to generate all kinds of random data. anything which has random in front of it can be generated with the help of this module even an URL, Password etc"
   ]
  },
  {
   "cell_type": "markdown",
   "metadata": {},
   "source": [
    "#### Integer \n",
    "\n",
    "`randint(start, end)` -  you have to give both the positional arguments for randint \n",
    "\n",
    "`randrange(start, end, stepsize)`: even randrange(10) would work\n",
    "\n"
   ]
  },
  {
   "cell_type": "code",
   "execution_count": 3,
   "metadata": {},
   "outputs": [
    {
     "name": "stdout",
     "output_type": "stream",
     "text": [
      "Random number between 0 and 10 :  6\n",
      "Random number between 0 and 10 :  5\n",
      "Random number between 20 and 40 :  37\n",
      "between  0 and 60 - generating a multiple of 6:  48\n"
     ]
    }
   ],
   "source": [
    "import random\n",
    "# random integer\n",
    "\n",
    "print(\"Random number between 0 and 10 : \",                          random.randint(0,10)         )\n",
    "\n",
    "print(\"Random number between 0 and 10 : \",                          random.randrange(10)         )\n",
    "\n",
    "print(\"Random number between 20 and 40 : \",                         random.randrange(20, 40)    )\n",
    "\n",
    "print(\"between  0 and 60 - generating a multiple of 6: \",           random.randrange(0, 60, 6)   )"
   ]
  },
  {
   "cell_type": "code",
   "execution_count": null,
   "metadata": {},
   "outputs": [],
   "source": []
  },
  {
   "cell_type": "markdown",
   "metadata": {},
   "source": [
    "#### Float\n",
    "\n",
    "`random()`: between 0-1\n",
    "\n",
    "`uniform(start, end)`\n",
    "\n",
    "         both the arguments are compulsory.\n",
    "         end value may or be included depending on rounding.\n",
    "\n",
    "Always better to round off the uniform \n",
    "    `round (random.uniform(start, end), 2)`\n",
    "    \n",
    "\n",
    "NOTE: `random` will never return the upper bound but `uniform` may depending on the rounding"
   ]
  },
  {
   "cell_type": "code",
   "execution_count": 5,
   "metadata": {},
   "outputs": [
    {
     "name": "stdout",
     "output_type": "stream",
     "text": [
      "Random float number is  0.0797192056455499\n",
      "Random float number is with uniform 0.5543627338455223\n",
      "Random float number between given range is  76.72651990093868\n",
      " 10 and 100 is  93.47701316666247\n",
      " 100 and 10 is  84.97033696460016\n",
      "Random float number between given range is  92.0\n"
     ]
    }
   ],
   "source": [
    "\n",
    "print(\"Random float number is \",                       random.random()             )\n",
    "\n",
    "print(\"Random float number is with uniform\",           random.uniform(0.0, 1.0)             )\n",
    "\n",
    "print(\"Random float number between given range is \",   random.uniform(10.5,100.5)   )\n",
    "\n",
    "# read the nuances for this function at https://pynative.com/python-get-random-float-numbers/\n",
    "\n",
    "# NOTE: a random float number between 10 to 100 and 100 to 10. Both treated the same.\n",
    "\n",
    "print(\" 10 and 100 is \",                random.uniform(10,100)         )\n",
    "print(\" 100 and 10 is \",                random.uniform(100,10)         )\n",
    "\n",
    "print(\"Random float number between given range is \", round (random.uniform(10.5,100.5),2))\n"
   ]
  },
  {
   "cell_type": "code",
   "execution_count": null,
   "metadata": {},
   "outputs": [],
   "source": []
  },
  {
   "cell_type": "markdown",
   "metadata": {},
   "source": [
    "#### Random data from collections of data \n",
    "\n",
    "`choice(population)`: one random element - good with list and tuples - set and dicts to be converted into lists \n",
    "    \n",
    "`choices(population, k=n)`: n random elements. repetition possible is k > len(collection) or if duplicity in collection\n",
    "    \n",
    "`sample(population, k=n)` : n random and UNIQUE elements\n",
    "\n",
    "#### What is the diff btw choice and sample?\n",
    "- sample always picks up unique elements and would throw error if k > len(pop)\n",
    "- choice could pick up duplicates even if the population has all unique elements \n",
    "- sample requires all positional arguments"
   ]
  },
  {
   "cell_type": "code",
   "execution_count": 25,
   "metadata": {},
   "outputs": [
    {
     "name": "stdout",
     "output_type": "stream",
     "text": [
      "random.choice()  -  444\n",
      "random.choiceS() -  [555, 555, 555]\n",
      "random.sample()  -  [444]\n",
      "random.sample()  -  [444, 111, 333]\n",
      "random.sample()  -  ['g', 'l', 'o', 'e']\n",
      "111\n",
      "[333]\n"
     ]
    }
   ],
   "source": [
    "list1  = [111,222,333,444,555]\n",
    "print(\"random.choice()  - \", random.choice(list1))\n",
    "print(\"random.choiceS() - \", random.choices(list1, k=3))\n",
    "print(\"random.sample()  - \", random.sample (list1,1)) # sample requires all positional arguments\n",
    "print(\"random.sample()  - \", random.sample (list1, k=3)) \n",
    "\n",
    "# picking a random letter from a string\n",
    "print(\"random.sample()  - \", random.sample ('abcdefghijklmnop', k=4))\n",
    "\n",
    "# how to cryptographically secure your choice\n",
    "secure_random = random.SystemRandom()\n",
    "\n",
    "print (  secure_random.choice(list1)          )\n",
    "print (  secure_random.sample(list1,1)          )\n"
   ]
  },
  {
   "cell_type": "code",
   "execution_count": null,
   "metadata": {},
   "outputs": [],
   "source": []
  },
  {
   "cell_type": "markdown",
   "metadata": {},
   "source": [
    "#### The random choice from Set in Python\n",
    "choice wont work for set .. you have to convert it into a list\n",
    "\n",
    "Sample will work for a  set \n",
    "\n",
    "TypeError: ‘set’ object does not support indexing. \n"
   ]
  },
  {
   "cell_type": "code",
   "execution_count": 14,
   "metadata": {},
   "outputs": [
    {
     "name": "stdout",
     "output_type": "stream",
     "text": [
      "Randomly item from Set is -  82\n",
      "Randomly item from Set is -  [82]\n"
     ]
    }
   ],
   "source": [
    "weight_set = {20, 35, 45, 65, 82}\n",
    "print (\"Randomly item from Set is - \",               random.choice(tuple(weight_set))               )\n",
    "print (\"Randomly item from Set is - \",               random.sample(weight_set,1)               )"
   ]
  },
  {
   "cell_type": "markdown",
   "metadata": {},
   "source": [
    "#### The random choice from Dictionary\n",
    "\n"
   ]
  },
  {
   "cell_type": "code",
   "execution_count": 19,
   "metadata": {},
   "outputs": [
    {
     "name": "stdout",
     "output_type": "stream",
     "text": [
      "Jhon  -  70\n"
     ]
    }
   ],
   "source": [
    "import random\n",
    "weight_dict = {\"Kelly\": 50,\"Red\": 68,\"Jhon\": 70,\"Emma\" :40 }\n",
    "\n",
    "#  how to convert a dictionary to list \n",
    "list1 = []\n",
    "for i in weight_dict.keys():\n",
    "    list1.append(i)\n",
    "    \n",
    "#print (weight_dict.keys())\n",
    "#list1 =weight_dict.keys()\n",
    "\n",
    "key = random.choice(list1)\n",
    "print ( key, \" - \", weight_dict[key])"
   ]
  },
  {
   "cell_type": "markdown",
   "metadata": {},
   "source": [
    "`random.triangular(low, high, mode) `\n",
    "\n",
    "returns a random floating point number N such that lower <= N <= upper and with the specified mode between those bounds."
   ]
  },
  {
   "cell_type": "markdown",
   "metadata": {},
   "source": [
    "#### Generating a random string or a random password \n",
    "-  join is used for joining the elements of a list"
   ]
  },
  {
   "cell_type": "code",
   "execution_count": 23,
   "metadata": {},
   "outputs": [
    {
     "name": "stdout",
     "output_type": "stream",
     "text": [
      "source_str abcdefghijklmnopqrstuvwxyzABCDEFGHIJKLMNOPQRSTUVWXYZ0123456789!\"#$%&'()*+,-./:;<=>?@[\\]^_`{|}~\n",
      "random password:  mOW!D\\Rtl@\n",
      "abcdefghijklmnopqrstuvwxyzABCDEFGHIJKLMNOPQRSTUVWXYZ\n",
      "ABCDEFGHIJKLMNOPQRSTUVWXYZ\n",
      "abcdefghijklmnopqrstuvwxyz\n",
      "0123456789\n",
      "!\"#$%&'()*+,-./:;<=>?@[\\]^_`{|}~\n",
      "\n",
      "\n",
      "0123456789abcdefghijklmnopqrstuvwxyzABCDEFGHIJKLMNOPQRSTUVWXYZ!\"#$%&'()*+,-./:;<=>?@[\\]^_`{|}~ \t\n",
      "\r",
      "\u000b",
      "\f",
      "\n",
      "\n",
      "\n",
      "['a', 'P', 'e', 'B', 'H']\n"
     ]
    }
   ],
   "source": [
    "import string\n",
    "import random\n",
    "\n",
    "def random_password(length=10):\n",
    "    source_str = string.ascii_letters + string.digits + string.punctuation \n",
    "    return ''.join(random.sample(source_str, length))\n",
    "\n",
    "#letters = string.printable # should not use this as it contains spaces, tabs etc \n",
    "# return ''.join(random.choice(password_characters) for i in range(length)) - if repetition is allowed\n",
    "\n",
    "print ('random password: ',          random_password()                    )\n",
    "print('\\n')       \n",
    "print (                             string.ascii_letters                  )\n",
    "print (                             string.ascii_uppercase                )\n",
    "print (                             string.ascii_lowercase                )\n",
    "print (                             string.digits                         )\n",
    "\n",
    "print (                             string.punctuation                    )\n",
    "\n",
    "print('\\n')\n",
    "print (                             string.printable                      ) # includes space also\n",
    "print('\\n')\n",
    "\n",
    "print (                             random.sample (string.ascii_letters, 5)                    )\n",
    "\n",
    "\n",
    "    \n",
    "\n"
   ]
  },
  {
   "cell_type": "code",
   "execution_count": 13,
   "metadata": {},
   "outputs": [
    {
     "name": "stdout",
     "output_type": "stream",
     "text": [
      "bQ7~-9ogJBdC\n",
      "-d7go~bQCBJ9\n"
     ]
    }
   ],
   "source": [
    "# Generate a ten-character alphanumeric password with at least \n",
    "# one lowercase character \n",
    "# one uppercase character\n",
    "# one digits \n",
    "# one special character\n",
    "\n",
    "import random\n",
    "import string\n",
    "import string_utils \n",
    "\n",
    "def random_password (length=10):\n",
    "    \n",
    "    source_str = string.ascii_letters + string.digits + string.punctuation\n",
    "    \n",
    "    # generating mandatory string \n",
    "    pw_req = random.choice (string.ascii_lowercase)\n",
    "    pw_req += random.choice (string.ascii_uppercase)\n",
    "    pw_req += random.choice (string.digits)\n",
    "    pw_req += random.choice (string.punctuation)\n",
    "    \n",
    "    # generating rest of the string\n",
    "    pw_rest_list = random.sample(source_str, length-4)\n",
    "    \n",
    "    # converting the list into string\n",
    "    pw_rest = \"\".join(pw_rest_list)\n",
    "    \n",
    "    #concatenating to get the final password string\n",
    "    password = pw_req + pw_rest\n",
    "    \n",
    "    print (password)\n",
    "    \n",
    "    # converting to list for shuffle as shuffle run only on lists\n",
    "    #password = list(password)\n",
    "    \n",
    "    #random.SystemRandom().shuffle(password)\n",
    "    \n",
    "    password=string_utils.shuffle(password)\n",
    "    \n",
    "    return password\n",
    "    #return ''.join(password)\n",
    "\n",
    "print (random_password(12))"
   ]
  },
  {
   "cell_type": "code",
   "execution_count": 2,
   "metadata": {},
   "outputs": [
    {
     "name": "stdout",
     "output_type": "stream",
     "text": [
      "First Random Password is  &q2)W?Jjw>\n",
      "Second Random Password is  !_7KBbJs[<\n",
      "Third Random Password is  v%39L7VW7~\n"
     ]
    }
   ],
   "source": [
    "import random\n",
    "import string\n",
    "def randomPassword():\n",
    "    \"\"\"Generate a random password \"\"\"\n",
    "    randomSource = string.ascii_letters + string.digits + string.punctuation\n",
    "    password = random.choice(string.ascii_lowercase)\n",
    "    password += random.choice(string.ascii_uppercase)\n",
    "    password += random.choice(string.digits)\n",
    "    password += random.choice(string.punctuation)\n",
    "    for i in range(6):\n",
    "        password += random.choice(randomSource)\n",
    "    passwordList = list(password)\n",
    "    random.SystemRandom().shuffle(passwordList)\n",
    "    password = ''.join(passwordList)\n",
    "    return password\n",
    "print (\"First Random Password is \", randomPassword())\n",
    "print (\"Second Random Password is \", randomPassword())\n",
    "print (\"Third Random Password is \", randomPassword())"
   ]
  },
  {
   "cell_type": "markdown",
   "metadata": {},
   "source": [
    "## Errors and Exception Handling\n",
    "Full list of built-in exceptions [here](https://docs.python.org/3/library/exceptions.html). \n",
    "\n",
    "finally:\n",
    "         Always exectutes EVEN If BREAK or RETURN is done !!!!"
   ]
  },
  {
   "cell_type": "code",
   "execution_count": 1,
   "metadata": {},
   "outputs": [
    {
     "name": "stdout",
     "output_type": "stream",
     "text": [
      "Print Lists Before Shuffling\n",
      "List Employee Names:  ['Jhon', 'Emma', 'Kelly', 'Jason']\n",
      "List Employee Salary:  [7000, 6500, 9000, 10000]\n",
      "\n",
      "Print Lists after Shuffling\n",
      "List Employee Names:  ('Kelly', 'Jhon', 'Jason', 'Emma')\n",
      "List Employee Salary:  (9000, 7000, 10000, 6500)\n"
     ]
    }
   ],
   "source": [
    "import random\n",
    "empName = ['Jhon', 'Emma', 'Kelly', 'Jason']\n",
    "empSalary = [7000, 6500, 9000, 10000]\n",
    "print(\"Print Lists Before Shuffling\")\n",
    "print(\"List Employee Names: \", empName)\n",
    "print(\"List Employee Salary: \", empSalary)\n",
    "mapIndexPosition = list(zip(empName, empSalary))\n",
    "random.shuffle(mapIndexPosition)\n",
    "empName, empSalary = zip(*mapIndexPosition)\n",
    "print(\"\\nPrint Lists after Shuffling\")\n",
    "print(\"List Employee Names: \", empName)\n",
    "print(\"List Employee Salary: \", empSalary)"
   ]
  },
  {
   "cell_type": "code",
   "execution_count": 10,
   "metadata": {},
   "outputs": [
    {
     "name": "stdout",
     "output_type": "stream",
     "text": [
      "[('Jhon', 7000, 1), ('Emma', 6500, 2), ('Kelly', 9000, 3), ('Jason', 10000, 4)]\n",
      "['Jhon', 'Kelly', 'Jason', 'Emma']\n",
      "(7000, 9000, 10000, 6500)\n",
      "(1, 3, 4, 2)\n"
     ]
    }
   ],
   "source": [
    "# zipping two lists together and shuffling in the same order\n",
    "# shuffling two lists together\n",
    "# shuffling more than two lists\n",
    "import random\n",
    "empName = ['Jhon', 'Emma', 'Kelly', 'Jason']\n",
    "empSalary = [7000, 6500, 9000, 10000]\n",
    "empCode = [1,2,3,4]\n",
    "\n",
    "zipped_list  = list (zip(empName, empSalary, empCode)) \n",
    "# [('Jhon', 7000), ('Emma', 6500), ('Kelly', 9000), ('Jason', 10000)]\n",
    "print(zipped_list)\n",
    "\n",
    "random.shuffle(zipped_list)\n",
    "\n",
    "empName, empSalary, empCode = zip(*zipped_list)\n",
    "print (list (empName))\n",
    "print (empSalary)\n",
    "print (empCode)\n",
    "\n",
    "\n"
   ]
  },
  {
   "cell_type": "code",
   "execution_count": null,
   "metadata": {},
   "outputs": [],
   "source": []
  },
  {
   "cell_type": "markdown",
   "metadata": {},
   "source": [
    "## numpy module \n",
    "It is a core library used for scientific operations such as multidimensional arrays, fourier equations, etc"
   ]
  },
  {
   "cell_type": "markdown",
   "metadata": {},
   "source": [
    "#### Arrays\n",
    "\n",
    "arrays are faster, less spacious and more convenient as compared to the lists. The proof is given below:"
   ]
  },
  {
   "cell_type": "code",
   "execution_count": 45,
   "metadata": {},
   "outputs": [
    {
     "name": "stdout",
     "output_type": "stream",
     "text": [
      "24000000\n",
      "4000000\n",
      "237.01\n",
      "4.0\n",
      "2\n",
      "4\n",
      "int32\n",
      "6\n",
      "(2, 3)\n",
      "4\n",
      "1\n",
      "15\n",
      "0.9574271077563381\n",
      "\n",
      "\n",
      "[[1 2 3 4]\n",
      " [2 3 4 5]]\n",
      "\n",
      "\n",
      "[[1 2]\n",
      " [3 4]\n",
      " [2 3]\n",
      " [4 5]]\n",
      "\n",
      "\n",
      "3\n",
      "[3 4]\n",
      "[1 3 2 4]\n"
     ]
    }
   ],
   "source": [
    "import numpy as np\n",
    "import sys\n",
    "import time\n",
    "\n",
    "\n",
    "# how to calculate the time taken by any peice of code \n",
    "\n",
    "size = 1000000\n",
    "# to find the size of a list\n",
    "\n",
    "\n",
    "# how numpy arrays are less spacious than lists\n",
    "list1 = range (size)\n",
    "print (sys.getsizeof(list1[0])*len(list1))\n",
    "\n",
    "array1 = np.arange(size)\n",
    "print (array1.size*array1.itemsize)\n",
    "\n",
    "# how arrays are faster than lists \n",
    "\n",
    "list2= range(size)\n",
    "array2= np.arange(size)\n",
    "\n",
    "start = time.time()\n",
    "sum_lists = [(x+y) for x,y in zip(list1,list2) ]\n",
    "print (   round(((time.time()-start)*1000), 2) )\n",
    "\n",
    "start = time.time()\n",
    "sum_arrays = array1 + array2\n",
    "print (   round(((time.time()-start)*1000), 2) )\n",
    "\n",
    "\n",
    "# numpy arrays operations\n",
    "\n",
    "# find the dimensions of arrays\n",
    "array1 = np.array([(1,2,3), (2,3,4)])\n",
    "print (array1.ndim)\n",
    "# find the size of each element\n",
    "print (array1.itemsize)\n",
    "# find the datatype of each element\n",
    "print (array1.dtype)\n",
    "# finding size of an array\n",
    "print (array1.size)\n",
    "# finding shape of an array \n",
    "print (array1.shape)\n",
    "print (array1.max())\n",
    "print (array1.min())\n",
    "print (array1.sum())\n",
    "print (array1.std())\n",
    "\n",
    "# reshape\n",
    "# horizontal stacking\n",
    "array1 = np.array([(1,2,3,4), (2,3,4,5)])\n",
    "print('\\n')\n",
    "print (array1)\n",
    "array1 = array1.reshape(4,2)\n",
    "print('\\n')\n",
    "print (array1)\n",
    "\n",
    "print('\\n')\n",
    "# indexing\n",
    "array1 = np.array([(1,2,3,4), (2,3,4,5)])\n",
    "print (array1[0,2])\n",
    "print (array1[0:,2])\n",
    "\n",
    "array1 = array1.reshape(4,2)\n",
    "print (array1[0:,0])\n",
    "\n",
    "# vertical stacking\n",
    "# slicing\n",
    "\n",
    "\n",
    "\n"
   ]
  },
  {
   "cell_type": "code",
   "execution_count": 64,
   "metadata": {},
   "outputs": [
    {
     "name": "stdout",
     "output_type": "stream",
     "text": [
      "[1. 2. 3. 4.]\n",
      "\n",
      "\n",
      "[[1 2 3 4]\n",
      " [2 3 4 5]]\n",
      "\n",
      "\n",
      "[10 14]\n",
      "[3 5 7 9]\n",
      "\n",
      "\n",
      "[[1.         1.41421356 1.73205081 2.        ]\n",
      " [1.41421356 1.73205081 2.         2.23606798]]\n",
      "\n",
      "\n",
      "1.224744871391589\n",
      "[[1 2 3 4]\n",
      " [2 3 4 5]]\n",
      "\n",
      "\n",
      "[[1 2 3 4]\n",
      " [2 3 4 5]]\n",
      "\n",
      "\n",
      "ravel [1 2 3 4 2 3 4 5]\n",
      "\n",
      "\n",
      "hstack\n",
      " [[1 2 3 4 1 2 3 4]\n",
      " [2 3 4 5 2 3 4 5]]\n",
      "\n",
      "\n",
      "vstack\n",
      " [[1 2 3 4]\n",
      " [2 3 4 5]\n",
      " [1 2 3 4]\n",
      " [2 3 4 5]]\n",
      "\n",
      "\n"
     ]
    }
   ],
   "source": [
    "# linespace to print some values equally spaced in a range \n",
    "print ( np.linspace(1,4,4))\n",
    "print ('\\n')\n",
    "print (array1)  \n",
    "print ('\\n')\n",
    "print (array1.sum(axis = 1)) # sum of each row\n",
    "print (array1.sum(axis = 0)) # sum of each column\n",
    "\n",
    "print ('\\n')\n",
    "print (np.sqrt(array1)) # square root\n",
    "print ('\\n')\n",
    "print (np.std(array1)) # standard deviation\n",
    "\n",
    "array1 = np.array([(1,2,3,4), (2,3,4,5)])\n",
    "array2 = np.array([(1,2,3,4), (2,3,4,5)])\n",
    "print(array1)\n",
    "print ('\\n')\n",
    "print(array2)\n",
    "print ('\\n')\n",
    "print('ravel',array1.ravel())# opening up an array\n",
    "print ('\\n')\n",
    "# vertical stacking \n",
    "print ('hstack\\n',np.hstack((array1, array2))) # BEWARE of the brackets they are extra\n",
    "print ('\\n')\n",
    "print ('vstack\\n',np.vstack((array1, array2))) # BEWARE of the brackets they are extra\n",
    "print ('\\n')"
   ]
  },
  {
   "cell_type": "markdown",
   "metadata": {},
   "source": [
    "## Arrays \n"
   ]
  },
  {
   "cell_type": "markdown",
   "metadata": {},
   "source": [
    "#### Generating an array of random numbers \n",
    "\n",
    "\n",
    "PRNG's for Arrays: pseudorandom number generators for arrays "
   ]
  },
  {
   "cell_type": "code",
   "execution_count": 20,
   "metadata": {},
   "outputs": [
    {
     "name": "stdout",
     "output_type": "stream",
     "text": [
      " np.random.randint(start (1),end(10), size= (3,3) ) \n",
      "\n",
      " [[8 4 9]\n",
      " [5 4 9]\n",
      " [2 7 7]]\n",
      " \n",
      "\n",
      " # arrays of random floats \n",
      "\n",
      "- np.random.rand(2,2) \n",
      "\n",
      "  [[0.42525046 0.17579113]\n",
      " [0.03715033 0.93416408]]\n",
      "\n",
      "\n",
      "- np.random.uniform(1, 10, size=(3,3))  \n",
      "\n",
      " [[9.55851533 9.91076761 3.12708549]\n",
      " [9.66643661 1.22104008 4.21850748]\n",
      " [7.1404146  9.42723659 8.38480259]]\n"
     ]
    }
   ],
   "source": [
    "import numpy as np\n",
    "    \n",
    "# array of random integers\n",
    "# random_integers is another function which is as of now deprecated\n",
    "\n",
    "print (' np.random.randint(start (1),end(10), size= (3,3) ) \\n\\n', np.random.randint(1, 10, (3,3)) )  \n",
    "\n",
    "# Beware repetition is possible\n",
    "print (' \\n')\n",
    "\n",
    "print ( ' # arrays of random floats \\n')\n",
    "\n",
    "print ( '- np.random.rand(2,2) \\n\\n ', np.random.rand(2,2)  ) # generating an array of random float numbers\n",
    "\n",
    "print ('\\n')\n",
    "print ( '- np.random.uniform(1, 10, size=(3,3))  \\n\\n', np.random.uniform(1,10, size=(3,3)) )\n"
   ]
  },
  {
   "cell_type": "code",
   "execution_count": 35,
   "metadata": {},
   "outputs": [
    {
     "name": "stdout",
     "output_type": "stream",
     "text": [
      "[23 33 34]\n",
      "\n",
      "\n",
      "np.random.choice (array1) :  34\n",
      "\n",
      "\n",
      "np.random.choice (array1, 3, replace = False) :  [23 33 34]\n",
      "\n",
      "\n",
      "np.random.choice (array1, 3, replace = True) :  [23 23 34]\n"
     ]
    }
   ],
   "source": [
    "# get a random element from a one dimensional array\n",
    "\n",
    "array1 = np.random.randint(1,45, 3) # doesn't work for multidimensional arrays\n",
    "print(array1)\n",
    "print('\\n')\n",
    "print ('np.random.choice (array1) : ',  np.random.choice(array1))\n",
    "print('\\n')\n",
    "print ('np.random.choice (array1, 3, replace = False) : ',  np.random.choice(array1, 3, replace = False))\n",
    "print('\\n')\n",
    "print ('np.random.choice (array1, 3, replace = True) : ',  np.random.choice(array1, 3, replace = True))"
   ]
  },
  {
   "cell_type": "code",
   "execution_count": 36,
   "metadata": {},
   "outputs": [
    {
     "name": "stdout",
     "output_type": "stream",
     "text": [
      "uuid.uuid4() :  1a851454-e744-4db8-83a1-7d1e13a9557a\n"
     ]
    }
   ],
   "source": [
    "# generating a 128 bit unique UUID - universally unique identifier \n",
    "import uuid \n",
    "print ('uuid.uuid4() : ', uuid.uuid4() )"
   ]
  },
  {
   "cell_type": "markdown",
   "metadata": {},
   "source": [
    "#### Problem: Generate a dice game \n",
    "\n",
    ": https://pynative.com/python-random-module/"
   ]
  },
  {
   "cell_type": "code",
   "execution_count": 37,
   "metadata": {},
   "outputs": [
    {
     "data": {
      "text/plain": [
       "182.0"
      ]
     },
     "execution_count": 37,
     "metadata": {},
     "output_type": "execute_result"
    }
   ],
   "source": [
    "x =36 / 4 * (3+2) *4 + 2\n",
    "x"
   ]
  },
  {
   "cell_type": "markdown",
   "metadata": {},
   "source": [
    "## REGULAR EXPRESSIONS"
   ]
  },
  {
   "cell_type": "code",
   "execution_count": 41,
   "metadata": {},
   "outputs": [
    {
     "name": "stdout",
     "output_type": "stream",
     "text": [
      "searching for term1 in: \n",
      " This is the term1 and term is not present \n",
      "\n",
      "term1 is present \n",
      "\n",
      "searching for term2 in: \n",
      " This is the term1 and term is not present \n",
      "\n",
      "term2 is not present \n",
      "\n"
     ]
    }
   ],
   "source": [
    "import re \n",
    "\n",
    "patterns = ['term1', 'term2']\n",
    "text = 'This is the term1 and term is not present'\n",
    "\n",
    "for pattern in patterns:\n",
    "    print(f'searching for {pattern } in: \\n {text} \\n')\n",
    "    if re.search(pattern, text):\n",
    "        print (f'{pattern} is present \\n')\n",
    "    else:\n",
    "        print (f'{pattern} is not present \\n')"
   ]
  },
  {
   "cell_type": "code",
   "execution_count": 4,
   "metadata": {},
   "outputs": [
    {
     "name": "stdout",
     "output_type": "stream",
     "text": [
      "Occurences of term1 :\n",
      "['term1']\n",
      "\n",
      "\n",
      "\n",
      "Occurences of term2 :\n",
      "['term2']\n",
      "\n",
      "\n",
      "\n"
     ]
    }
   ],
   "source": [
    "def find_pattern (pattern_li , text ):\n",
    "    \n",
    "    for pattern in pattern_li:\n",
    "        print (f'Occurences of {pattern} :')\n",
    "        print(re.findall(pattern, text))\n",
    "        print('\\n\\n')\n",
    "\n",
    "find_pattern (['term1', 'term2'], 'This is term1 and this is term2')"
   ]
  },
  {
   "cell_type": "code",
   "execution_count": 5,
   "metadata": {},
   "outputs": [
    {
     "name": "stdout",
     "output_type": "stream",
     "text": [
      "Occurences of [A-Z][a-z]* :\n",
      "['The', 'There', 'We']\n",
      "\n",
      "\n",
      "\n"
     ]
    }
   ],
   "source": [
    "text = 'The following is the text to be searched. There are some words in this text. We need to search for pattersn in this text'\n",
    "pattern_li = ['[A-Z][a-z]*']  # all uppercase words \n",
    "\n",
    "find_pattern(pattern_li, text)"
   ]
  },
  {
   "cell_type": "code",
   "execution_count": 6,
   "metadata": {},
   "outputs": [
    {
     "name": "stdout",
     "output_type": "stream",
     "text": [
      "Occurences of [a-z]+ :\n",
      "['he', 'following', 'is', 'the', 'text', 'to', 'be', 'searched', 'here', 'are', 'some', 'words', 'in', 'this', 'text', 'e', 'need', 'to', 'search', 'for', 'pattersn', 'in', 'this', 'text']\n",
      "\n",
      "\n",
      "\n"
     ]
    }
   ],
   "source": [
    "# all lower case words. \n",
    "text = 'The following is the text to be searched. There are some words in this text. We need to search for pattersn in this text'\n",
    "pattern_li = [ '[a-z]+' ]  \n",
    "\n",
    "find_pattern(pattern_li, text)"
   ]
  },
  {
   "cell_type": "code",
   "execution_count": 7,
   "metadata": {},
   "outputs": [
    {
     "data": {
      "text/plain": [
       "<_sre.SRE_Match object; span=(5, 26), match='are smarter than dogs'>"
      ]
     },
     "execution_count": 7,
     "metadata": {},
     "output_type": "execute_result"
    }
   ],
   "source": [
    "import re\n",
    "line = 'Cats are smarter than dogs'\n",
    "re.search (r'are .* ?', line)"
   ]
  },
  {
   "cell_type": "markdown",
   "metadata": {},
   "source": [
    "####  Regular expressions full documentation\n",
    "\n",
    "Search stops at the first match - leftmost and largest \n",
    "\n",
    "start with this: https://developers.google.com/edu/python/regular-expressions\n",
    "\n",
    "\n",
    "match1 = re.search (pattern_li, text): match1 will store search results\n",
    "match1.group(): will have the matched string \n",
    "\n",
    "`.`  : matches any single character except newline - it also matches itself ie . (period)- includes spaces also\n",
    "\n",
    "`\\w` : marches single character including [ a-zA-z_ ] and _ (underscore) \n",
    "\n",
    "`\\W` : matches any non-word character\n",
    "\n",
    "`\\b` : boundary between a word and non word \n",
    "\n",
    "`\\s` : matches single whitespace including the \\t \\n \\r \\f \n",
    "\n",
    "`\\S` : matches any  non white space character\n",
    "\n",
    "`\\t \\n \\r`: tab, newline and return \n",
    "\n",
    "`\\d` : decimel digit 0-9 \n",
    "\n",
    "^ $  : start and end of line\n",
    "\n",
    "`\\`  : disable special meaning for example . means any single character and \\. means a dot only - same as \\\\ \n",
    "\n",
    "**Repetitions**:\n",
    "\n",
    "`*` : 0 or more \n",
    "\n",
    "`+` : one or more\n",
    "\n",
    "`?` : 0 or one\n",
    "\n"
   ]
  },
  {
   "cell_type": "code",
   "execution_count": 10,
   "metadata": {},
   "outputs": [
    {
     "name": "stdout",
     "output_type": "stream",
     "text": [
      "12\n",
      " abc \n",
      "abc\n"
     ]
    }
   ],
   "source": [
    "# Basic regular expressions and their uses\n",
    "\n",
    "# /d for one digit \n",
    "match1 = re.search (r'\\d\\d', 'abc123def12345fg')\n",
    "print(match1.group()) # only leftmost 123 will be captured and not all the 123's\n",
    "\n",
    "# /w for one character excluding special characters\n",
    "# r'\\s\\w\\w\\w\\s' =  space-three character word-space\n",
    "match1 = re.search (r'\\s\\w\\w\\w\\s', '@@!!## abc ##   edef$$')\n",
    "print(match1.group()) \n",
    "\n",
    "# /s one whitespace\n",
    "match1 = re.search (r'\\w\\w\\w', '@@!!##abc##edef$$')\n",
    "print(match1.group()) "
   ]
  },
  {
   "cell_type": "code",
   "execution_count": 13,
   "metadata": {},
   "outputs": [
    {
     "name": "stdout",
     "output_type": "stream",
     "text": [
      "abb\n",
      "be\n",
      "b\n"
     ]
    }
   ],
   "source": [
    "# + one or more instances\n",
    "match1 = re.search (r'ab+', '@@!!a##abb##edef$$')\n",
    "print(match1.group()) \n",
    "\n",
    "# a sentence starting with a word starting with a 'b'\n",
    "# ^ : beginning of the line\n",
    "# r'^b\\w*' = b at starting of the line followed by zero or more characters \n",
    "match1 = re.search (r'^b\\w+', 'be that as it may')\n",
    "print(match1.group()) \n",
    "\n",
    "match1 = re.search (r'^b\\w*', 'b that as it may')\n",
    "print(match1.group()) \n",
    "\n"
   ]
  },
  {
   "cell_type": "code",
   "execution_count": 28,
   "metadata": {},
   "outputs": [
    {
     "name": "stdout",
     "output_type": "stream",
     "text": [
      ".46.10.57tcs@gmail.com\n",
      "s@g\n",
      ".4610-57tcs@gmail.com\n"
     ]
    }
   ],
   "source": [
    "# find an email address within a line \n",
    "# r'\\w+@\\w+\\.\\w+': charachters - @ - characters - . - characters\n",
    "match1 = re.search (r'[\\w\\.-]+@[\\w\\.-]+', ' @gmail .com This is the new email id: .46.10.57tcs@gmail.com  is a good thing ')\n",
    "print(match1.group()) \n",
    "\n",
    "# single character before and after @\n",
    "match1 = re.search (r'.@.', '@gmail .com This is the new email id: 4610.57tcs@gmail.com  ')\n",
    "print(match1.group()) \n",
    "\n",
    "# SQUARE BRACKETS - anything in the square bracket is or\n",
    "# [\\w\\.-]+ : [a character or a dot or a - ] repeated one or more times \n",
    "# - has to be put last as it is also used in creating ranges such as [a-z] \n",
    "match1 = re.search (r'[\\w.-]+@[\\w.-]+', ' @gmail .com This is the new email id: .4610-57tcs@gmail.com  ')\n",
    "print(match1.group()) \n",
    "# [^ab] means anything except ab"
   ]
  },
  {
   "cell_type": "code",
   "execution_count": 63,
   "metadata": {},
   "outputs": [
    {
     "name": "stdout",
     "output_type": "stream",
     "text": [
      "4610-57tcs@gmail.com\n",
      "4610-57tcs\n",
      "gmail\n",
      "com\n",
      "username is: 4610-57tcs\n",
      "domain is: @gmail.com\n"
     ]
    }
   ],
   "source": [
    "# Grouping the extraction: we use () to group the extractions as follows\n",
    "\n",
    "text =' @gmail .com This is the new email id: 4610-57tcs@gmail.com  '\n",
    "\n",
    "match1 = re.search (r'([\\w.-]+)@([\\w-]+)\\.(\\w+)', text)\n",
    "print(match1.group()) \n",
    "print (match1.group(1))\n",
    "print (match1.group(2))\n",
    "print (match1.group(3))\n",
    "\n",
    "print(f'username is: {match1.group(1)}') \n",
    "\n",
    "print(f'domain is: @{match1.group(2)}.{match1.group(3)}') \n"
   ]
  },
  {
   "cell_type": "code",
   "execution_count": null,
   "metadata": {},
   "outputs": [],
   "source": []
  },
  {
   "cell_type": "code",
   "execution_count": null,
   "metadata": {},
   "outputs": [],
   "source": []
  },
  {
   "cell_type": "markdown",
   "metadata": {},
   "source": [
    "#### findall()\n",
    "\n",
    "findall returns a LIST of all the matched patterns "
   ]
  },
  {
   "cell_type": "code",
   "execution_count": 31,
   "metadata": {},
   "outputs": [
    {
     "name": "stdout",
     "output_type": "stream",
     "text": [
      "amit.narayan.sharma@gmail.com\n",
      "461057tcs@gmail.com\n",
      "amit-sharma@gmail.com\n"
     ]
    }
   ],
   "source": [
    "# retrieving all the email id's from a text\n",
    "text = 'amit.narayan.sharma@gmail.com 461057tcs@gmail.com and amit-sharma@gmail.com are all the list of email ids  amit@ @gmail'\n",
    "\n",
    "emails_li = re.findall(r'[\\w\\.-]+@[\\w\\.-]+', text)\n",
    "for emails in emails_li:\n",
    "    print (emails)"
   ]
  },
  {
   "cell_type": "code",
   "execution_count": 2,
   "metadata": {},
   "outputs": [
    {
     "name": "stdout",
     "output_type": "stream",
     "text": [
      "amit.narayan.sharma@gmail.com\n",
      "461057tcs@gmail.com\n",
      "amit-sharma@gmail.com\n",
      "avtar-sharma-narayan@gmail.com.\n",
      "amit.dharwal@fmr.com.\n",
      "amit.dhariwal@fidelity.com.\n"
     ]
    }
   ],
   "source": [
    "# searching a file using findall \n",
    "# f.read() returns the contents of a file as a single string \n",
    "# searching a file for email id's \n",
    "f = open('test.txt', 'r')\n",
    "emails_li = re.findall (r'[\\w\\.-]+@[\\w\\.-]+', f.read())\n",
    "\n",
    "for emails in emails_li:\n",
    "    print (emails)"
   ]
  },
  {
   "cell_type": "code",
   "execution_count": 30,
   "metadata": {},
   "outputs": [
    {
     "name": "stdout",
     "output_type": "stream",
     "text": [
      "[('amit.narayan.sharma', 'gmail.com'), ('461057tcs', 'gmail.com'), ('amit-sharma', 'gmail.com'), ('avtar-sharma-narayan', 'gmail.com.'), ('amit.dharwal', 'fmr.com.'), ('amit.dhariwal', 'fidelity.com.')]\n",
      "\n",
      "\n",
      "\n",
      "The emails @gmail.com are as follows:\n",
      "amit.narayan.sharma\n",
      "461057tcs\n",
      "amit-sharma\n",
      "avtar-sharma-narayan\n"
     ]
    }
   ],
   "source": [
    "# findall and groups \n",
    "# the following code will return a list of tuples of two with username and domain separately we can then operate on them \n",
    "f = open('test.txt', 'r')\n",
    "emails_li = re.findall (r'([\\w\\.-]+)@([\\w\\.-]+)', f.read())\n",
    "\n",
    "print (emails_li)\n",
    "\n",
    "print ('\\n\\n')\n",
    "print('The emails @gmail.com are as follows:')\n",
    "for email in emails_li:\n",
    "    if email[1] == 'gmail.com' or email[1] == 'gmail.com.':\n",
    "        print (email[0])\n"
   ]
  },
  {
   "cell_type": "code",
   "execution_count": null,
   "metadata": {},
   "outputs": [],
   "source": []
  },
  {
   "cell_type": "code",
   "execution_count": null,
   "metadata": {},
   "outputs": [],
   "source": []
  },
  {
   "cell_type": "markdown",
   "metadata": {},
   "source": [
    "`.*` :  will go till end of the line because '.' matches every character except newline. so .* will not fetch you everything \n",
    "\n",
    "`\\s` : includes newline so `\\s*` will retrieve any number of spaces as well as the newline \n",
    "\n",
    "\n",
    "Options for `search()` and `findall()`:\n",
    "\n",
    "**re.IGNORECASE**: ignore case \n",
    "\n",
    "**re.DOTALL**: allow dot (.) to match newline \n",
    "\n",
    "**re.MULTILINE**: allow ^ and $ to match the start and end of each line in case of a multi-line string "
   ]
  },
  {
   "cell_type": "code",
   "execution_count": 32,
   "metadata": {},
   "outputs": [
    {
     "name": "stdout",
     "output_type": "stream",
     "text": [
      "['<b>foo</b> and <i>so on</i>']\n",
      "['<b>', '</b>', '<i>', '</i>']\n",
      "['<b', '', 'foo</b', '', ' and <i', '', 'so on</i', '', '']\n"
     ]
    }
   ],
   "source": [
    "text = '<b>foo</b> and <i>so on</i>'\n",
    "\n",
    "match_li = re.findall( r'<.*>',text) # Greedy re largest combo of <> and including everything in between \n",
    "print (match_li)\n",
    "match_li = re.findall( r'<.*?>',text) # non Greedy re : every combo of <> but nothing else\n",
    "print (match_li)\n",
    "match_li = re.findall( r'[^>]*',text) # non Greedy re : everything apart from > \n",
    "print (match_li)"
   ]
  },
  {
   "cell_type": "markdown",
   "metadata": {},
   "source": [
    "#### Substitution Replacement \n",
    "\n",
    "finding and replacing a pattern in the string \n",
    "\n",
    "`re.sub(pattern, replacement, text)`: searches for all the instances of pattern in the given string, and replaces them\n",
    "\n",
    "replacement string can include '\\1','\\2' the text from group(1), group(2), and so on from the original matching text"
   ]
  },
  {
   "cell_type": "code",
   "execution_count": 52,
   "metadata": {},
   "outputs": [
    {
     "name": "stdout",
     "output_type": "stream",
     "text": [
      "This is the dude.\n",
      "This is the dude 2. \n",
      "this is the dude 3.\n",
      "amit.narayan.sharma@yo.com 461057tcs@yo.com and amit-sharma@yo.com are all the list of email ids  amit@ @gmail.\n",
      "avtar-sharma-narayan@yo.com.\n",
      "amit.dharwal@fmr.com.\n",
      "amit.dhariwal@fidelity.com.\n",
      "\n",
      "\n",
      "\n",
      "\n",
      "This is the dude.\n",
      "This is the dude 2. \n",
      "this is the dude 3.\n",
      "amit.narayan.sharma@gmail.com 461057tcs@gmail.com and amit-sharma@gmail.com are all the list of email ids  amit@ @gmail.\n",
      "avtar-sharma-narayan@gmail.com.\n",
      "amit.dharwal@fmr.com.\n",
      "amit.dhariwal@fidelity.com.\n",
      "\n",
      "\n",
      "\n",
      "\n"
     ]
    }
   ],
   "source": [
    "# change the domain of the email addresses which are at other than gmail.com. \n",
    "\n",
    "f = open('test.txt', 'r')\n",
    "text = f.read()\n",
    "\n",
    "#print (text)\n",
    "# find all email addresses @gmail.com\n",
    "\n",
    "match1 = re.findall( r'([\\w\\.-]+)@gmail[\\w\\.-]+' , text )\n",
    "#print (match1)\n",
    "\n",
    "print (re.sub(r'@gmail.com', '@yo.com', text))\n",
    "\n",
    "print (text)\n",
    "\n"
   ]
  },
  {
   "cell_type": "markdown",
   "metadata": {},
   "source": [
    "#### Project Babynames from HTML file \n"
   ]
  },
  {
   "cell_type": "code",
   "execution_count": 57,
   "metadata": {},
   "outputs": [],
   "source": [
    "def get_baby_names_4m_html (file1):\n",
    "    f= open(file1, 'r')\n",
    "    print(f.read())\n",
    "    \n",
    "    "
   ]
  },
  {
   "cell_type": "code",
   "execution_count": 58,
   "metadata": {},
   "outputs": [
    {
     "name": "stdout",
     "output_type": "stream",
     "text": [
      "This is the dude.\n",
      "This is the dude 2. \n",
      "this is the dude 3.\n",
      "amit.narayan.sharma@gmail.com 461057tcs@gmail.com and amit-sharma@gmail.com are all the list of email ids  amit@ @gmail.\n",
      "avtar-sharma-narayan@gmail.com.\n",
      "amit.dharwal@fmr.com.\n",
      "amit.dhariwal@fidelity.com.\n",
      "\n",
      "\n",
      "\n",
      "\n"
     ]
    }
   ],
   "source": [
    "get_baby_names_4m_html ('test.txt')"
   ]
  },
  {
   "cell_type": "code",
   "execution_count": null,
   "metadata": {},
   "outputs": [],
   "source": []
  },
  {
   "cell_type": "code",
   "execution_count": null,
   "metadata": {},
   "outputs": [],
   "source": []
  },
  {
   "cell_type": "markdown",
   "metadata": {},
   "source": [
    "\n",
    "##          FILE Input Output Operations/ File I/O operations/ File Operations\n",
    "\n",
    "\n",
    " python uses file objects to interact with exteranal files on you computer such  as audio, video, text files, emails, Excel Documents, \n",
    " \n",
    " i/o of basic files in python basic.txt \n",
    " \n",
    " creating a file called the magic functionality only works with jupiter notebook"
   ]
  },
  {
   "cell_type": "code",
   "execution_count": 59,
   "metadata": {},
   "outputs": [
    {
     "name": "stdout",
     "output_type": "stream",
     "text": [
      "Overwriting myfile.txt\n"
     ]
    }
   ],
   "source": [
    "# magic functionality in jupiter to write to a file \n",
    "# will write the file to present directory\n",
    "%%writefile myfile.txt\n",
    "Hello this is  the text \n",
    "this is second line\n",
    "this is third line\n"
   ]
  },
  {
   "cell_type": "code",
   "execution_count": 63,
   "metadata": {},
   "outputs": [
    {
     "data": {
      "text/plain": [
       "'Hello this is  the text \\nthis is second line\\nthis is third line'"
      ]
     },
     "execution_count": 63,
     "metadata": {},
     "output_type": "execute_result"
    }
   ],
   "source": [
    "myfile = open('myfile.txt')\n",
    "myfile.read() # giant string of everythig in the file with \\n for the newline \n",
    "# after this if you run the command again it would not show any results as the cursor went to the end of the file \n",
    "myfile.seek(0) # 0 \n",
    "myfile.read() # all file "
   ]
  },
  {
   "cell_type": "code",
   "execution_count": 65,
   "metadata": {},
   "outputs": [
    {
     "data": {
      "text/plain": [
       "'Hello this is  the text \\nthis is second line\\nthis is third line'"
      ]
     },
     "execution_count": 65,
     "metadata": {},
     "output_type": "execute_result"
    }
   ],
   "source": [
    "myfile.seek(0)\n",
    "contents = myfile.read()\n",
    "contents"
   ]
  },
  {
   "cell_type": "code",
   "execution_count": 68,
   "metadata": {},
   "outputs": [
    {
     "name": "stdout",
     "output_type": "stream",
     "text": [
      "['Hello this is  the text \\n', 'this is second line\\n', 'this is third line']\n"
     ]
    }
   ],
   "source": [
    "myfile.seek(0)\n",
    "print (myfile.readlines())# with proper newline but with \\n character will still be there  \n"
   ]
  },
  {
   "cell_type": "code",
   "execution_count": null,
   "metadata": {},
   "outputs": [],
   "source": [
    " # opening a file in python myfile = open( \" path of the file with double back slashes are separators \" )\n",
    "\n",
    "\n",
    "myfile = open (\"C:\\\\Users\\\\Marcial\\\\Pierian-DHi Madhu please check the size of the shoes today .ata-Courses\\\\text.txt\")\n",
    "myfile.close() # you should always close the file once you are done working with it. To prevent that you use the with statement \n"
   ]
  },
  {
   "cell_type": "code",
   "execution_count": 69,
   "metadata": {},
   "outputs": [
    {
     "ename": "SyntaxError",
     "evalue": "invalid syntax (<ipython-input-69-84390667a46b>, line 5)",
     "output_type": "error",
     "traceback": [
      "\u001b[1;36m  File \u001b[1;32m\"<ipython-input-69-84390667a46b>\"\u001b[1;36m, line \u001b[1;32m5\u001b[0m\n\u001b[1;33m    with open('myfile.txt')\u001b[0m\n\u001b[1;37m                           ^\u001b[0m\n\u001b[1;31mSyntaxError\u001b[0m\u001b[1;31m:\u001b[0m invalid syntax\n"
     ]
    }
   ],
   "source": [
    " # opening a file in python myfile = open( \" path of the file with double back slashes are separators \" )\n",
    "\n",
    "myfile = open (\"C:\\\\Users\\\\Marcial\\\\Pierian-DHi Madhu please check the size of the shoes today .ata-Courses\\\\text.txt\")\n",
    "myfile.close() # you should always close the file once you are done working with it. To prevent that you use the with statement \n",
    "with open('myfile.txt')\n",
    "\n",
    "with open('myfile.txt') as my_new_file: \n",
    "contents = my_new_file.read()\n",
    "contents \n",
    "\n",
    "# The above code would copy the contents of mytext.txt into my_new_file \n",
    "# and contents would display the content of the file withot \n",
    "# you being worried about closing the file\n",
    "\n",
    "# writing and overwriting on files - shift tab to get info on the commands  \n",
    "# file permission r w or both w will overwrite a for append \n",
    "with open('myfile.txt', mode = 'r') as my_new_file :\n",
    "contents = my_new_file.read()\n",
    "\n",
    "# my_new_file is a variable name \n",
    "\n",
    "# section 3 lecture 2 : we should finish these exercises during revisons\n",
    "\n",
    "Section 3 Lecture 29\n",
    "\n",
    "# create a file  open read write append r+ w+\n",
    "\n",
    "# what is an escape character \n",
    "# Escape character is a character that evokes alternate interpretation of a \n",
    "# character . It is a particular case of a metacharacter. \n",
    "# A metacharacter is a charactere that has a special interpretation or meaning \n",
    "# to a computer program for example \\n \\t\n",
    "# r read only\n",
    "# w overwrite or create a file\n",
    "# r+ reading and writing\n",
    "# w+ writing and reading \n",
    "\n",
    "%%writefile my_new_file.txt\n",
    "one on first \n",
    "two on second\n",
    "three on third\n",
    "\n",
    "with open ('my_new_file.txt', mode='r') as f: \n",
    "print(f.read())\n",
    "# should show the file\n",
    "\n",
    "with open ('my_new_file.txt', mode ='w') as f:\n",
    "print(f.read())\n",
    "\n",
    "\n",
    "# appending\n",
    "with open('my_new_file.txt', mode ='a') as f:\n",
    "f.write('Four on fourth')\n",
    "\n",
    "# error 2 is no such file or directory- when you are trying to access a file that is not present\n",
    "\n",
    "# Comparison Operators\n",
    "#  you can compare strings also \n",
    "'hello' == 'hello' # would return a true\n",
    "'hello'=='bye' # would return a false \n",
    "2.0 == 2 # would return a true\n",
    "\n",
    "# LOGICAL OPERATORS \n",
    "1<2<3 # TRUE\n",
    "1<2>3 # false\n",
    "\n",
    "1<2 and 2<3\n",
    "\n"
   ]
  },
  {
   "cell_type": "code",
   "execution_count": null,
   "metadata": {},
   "outputs": [],
   "source": []
  },
  {
   "cell_type": "code",
   "execution_count": null,
   "metadata": {},
   "outputs": [],
   "source": []
  },
  {
   "cell_type": "markdown",
   "metadata": {},
   "source": [
    "## Project Babynames\n",
    "In the babynames.py file, implement the extract_names(filename) function which takes the filename of a baby1990.html file and returns the data from the file as a single list -- the year string at the start of the list followed by the name-rank strings in alphabetical order. \n",
    "\n",
    "['2006', 'Aaliyah 91', 'Abagail 895', 'Aaron 57', ...]. \n",
    "\n",
    "Modify main() so it calls your extract_names() function and prints what it returns (main already has the code for the command line argument parsing). If you get stuck working out the regular expressions for the year and each name, solution regular expression patterns are shown at the end of this document. Note that for parsing webpages in general, regular expressions don't do a good job, but these webpages have a simple and consistent format.\n",
    "\n",
    "Rather than treat the boy and girl names separately, we'll just lump them all together. In some years, a name appears more than once in the html, but we'll just use one number per name. Optional: make the algorithm smart about this case and choose whichever number is smaller."
   ]
  },
  {
   "cell_type": "code",
   "execution_count": 4,
   "metadata": {},
   "outputs": [],
   "source": [
    "import re\n",
    "# how to pass a filename to a function in python\n",
    "# extension is important \n",
    "# replace \\ by \\\\\n",
    "def pass_file_name (filename):\n",
    "    f= open (filename, 'r')\n",
    "    content = f.readlines()\n",
    "    \n",
    "    # extract the year and names with their ranks from this file \n",
    "    \n",
    "    # 1. retrieve the year \n",
    "    list1 = []\n",
    "    print (re.findall(r'Popularity in (\\d\\d\\d\\d)', content))\n",
    "    \n",
    "    print (content) # readlines will read the files simply as a combo of lines \n",
    "    f.close()"
   ]
  },
  {
   "cell_type": "code",
   "execution_count": 5,
   "metadata": {},
   "outputs": [
    {
     "ename": "TypeError",
     "evalue": "expected string or bytes-like object",
     "output_type": "error",
     "traceback": [
      "\u001b[1;31m---------------------------------------------------------------------------\u001b[0m",
      "\u001b[1;31mTypeError\u001b[0m                                 Traceback (most recent call last)",
      "\u001b[1;32m<ipython-input-5-119340942969>\u001b[0m in \u001b[0;36m<module>\u001b[1;34m()\u001b[0m\n\u001b[0;32m      1\u001b[0m \u001b[0mfilename1\u001b[0m \u001b[1;33m=\u001b[0m \u001b[1;34m'C:\\\\Users\\\\Amit\\\\Desktop\\\\google-python-exercises\\\\google-python-exercises\\\\babynames\\\\baby1990.html'\u001b[0m\u001b[1;33m\u001b[0m\u001b[0m\n\u001b[0;32m      2\u001b[0m \u001b[1;33m\u001b[0m\u001b[0m\n\u001b[1;32m----> 3\u001b[1;33m \u001b[0mpass_file_name\u001b[0m\u001b[1;33m(\u001b[0m\u001b[0mfilename1\u001b[0m\u001b[1;33m)\u001b[0m\u001b[1;33m\u001b[0m\u001b[0m\n\u001b[0m",
      "\u001b[1;32m<ipython-input-4-2d17ba9daa77>\u001b[0m in \u001b[0;36mpass_file_name\u001b[1;34m(filename)\u001b[0m\n\u001b[0;32m     11\u001b[0m     \u001b[1;31m# 1. retrieve the year\u001b[0m\u001b[1;33m\u001b[0m\u001b[1;33m\u001b[0m\u001b[0m\n\u001b[0;32m     12\u001b[0m     \u001b[0mlist1\u001b[0m \u001b[1;33m=\u001b[0m \u001b[1;33m[\u001b[0m\u001b[1;33m]\u001b[0m\u001b[1;33m\u001b[0m\u001b[0m\n\u001b[1;32m---> 13\u001b[1;33m     \u001b[0mprint\u001b[0m \u001b[1;33m(\u001b[0m\u001b[0mre\u001b[0m\u001b[1;33m.\u001b[0m\u001b[0mfindall\u001b[0m\u001b[1;33m(\u001b[0m\u001b[1;34mr'Popularity in (\\d\\d\\d\\d)'\u001b[0m\u001b[1;33m,\u001b[0m \u001b[0mcontent\u001b[0m\u001b[1;33m)\u001b[0m\u001b[1;33m)\u001b[0m\u001b[1;33m\u001b[0m\u001b[0m\n\u001b[0m\u001b[0;32m     14\u001b[0m \u001b[1;33m\u001b[0m\u001b[0m\n\u001b[0;32m     15\u001b[0m     \u001b[0mprint\u001b[0m \u001b[1;33m(\u001b[0m\u001b[0mcontent\u001b[0m\u001b[1;33m)\u001b[0m \u001b[1;31m# readlines will read the files simply as a combo of lines\u001b[0m\u001b[1;33m\u001b[0m\u001b[0m\n",
      "\u001b[1;32m~\\Anaconda3\\lib\\re.py\u001b[0m in \u001b[0;36mfindall\u001b[1;34m(pattern, string, flags)\u001b[0m\n\u001b[0;32m    220\u001b[0m \u001b[1;33m\u001b[0m\u001b[0m\n\u001b[0;32m    221\u001b[0m     Empty matches are included in the result.\"\"\"\n\u001b[1;32m--> 222\u001b[1;33m     \u001b[1;32mreturn\u001b[0m \u001b[0m_compile\u001b[0m\u001b[1;33m(\u001b[0m\u001b[0mpattern\u001b[0m\u001b[1;33m,\u001b[0m \u001b[0mflags\u001b[0m\u001b[1;33m)\u001b[0m\u001b[1;33m.\u001b[0m\u001b[0mfindall\u001b[0m\u001b[1;33m(\u001b[0m\u001b[0mstring\u001b[0m\u001b[1;33m)\u001b[0m\u001b[1;33m\u001b[0m\u001b[0m\n\u001b[0m\u001b[0;32m    223\u001b[0m \u001b[1;33m\u001b[0m\u001b[0m\n\u001b[0;32m    224\u001b[0m \u001b[1;32mdef\u001b[0m \u001b[0mfinditer\u001b[0m\u001b[1;33m(\u001b[0m\u001b[0mpattern\u001b[0m\u001b[1;33m,\u001b[0m \u001b[0mstring\u001b[0m\u001b[1;33m,\u001b[0m \u001b[0mflags\u001b[0m\u001b[1;33m=\u001b[0m\u001b[1;36m0\u001b[0m\u001b[1;33m)\u001b[0m\u001b[1;33m:\u001b[0m\u001b[1;33m\u001b[0m\u001b[0m\n",
      "\u001b[1;31mTypeError\u001b[0m: expected string or bytes-like object"
     ]
    }
   ],
   "source": [
    "filename1 = 'C:\\\\Users\\\\Amit\\\\Desktop\\\\google-python-exercises\\\\google-python-exercises\\\\babynames\\\\baby1990.html'\n",
    "    \n",
    "pass_file_name(filename1)"
   ]
  },
  {
   "cell_type": "code",
   "execution_count": null,
   "metadata": {},
   "outputs": [],
   "source": []
  },
  {
   "cell_type": "markdown",
   "metadata": {},
   "source": [
    "## Project: Getting the most common names in an year for babies\n",
    "\n",
    "a .py script (babynames.py) will  have a function extract_names which will \n",
    "\n",
    "**Input:** filename of file with all the data in html format\n",
    "\n",
    "**Expected Output:**  Single List with year at the start followed by names - ranks in the alphabatical order\n",
    "\n",
    "**['1990', 'Aaliyah 91', 'Abigail 895', 'Amit 25']**\n",
    "\n",
    "Main () should call extract_names function and print whatever it returns.\n",
    "\n",
    "For parsing the web pages regular expressions don't do a good job as the webpages rarely have a consistent format.\n",
    "\n",
    "Lump the names of boys and girls\n",
    "\n",
    "If a name occurs more than once in a year use the name with the lower rank \n",
    "\n",
    "\n"
   ]
  },
  {
   "cell_type": "code",
   "execution_count": 4,
   "metadata": {},
   "outputs": [
    {
     "name": "stdout",
     "output_type": "stream",
     "text": [
      "------------------------------------------------------------------------------------------------------------\n",
      "['1990']\n",
      "------------------------------------------------------------------------------------------------------------\n",
      " data1 : \n",
      "   [('1', 'Michael', 'Jessica'), ('2', 'Christopher', 'Ashley'), ('3', 'Matthew', 'Brittany'), ('4', 'Joshua', 'Amanda'), ('5', 'Daniel', 'Ashley'), ('6', 'David', 'Sarah'), ('7', 'Andrew', 'Stephanie'), ('8', 'James', 'Jennifer'), ('9', 'Justin', 'Elizabeth')]   \n",
      "\n",
      "------------------------------------------------------------------------------------------------------------\n",
      " data2 = \n",
      " 3\n",
      "[('1', '2', '3', '4', '5', '6', '7', '8', '9'), ('Michael', 'Christopher', 'Matthew', 'Joshua', 'Daniel', 'David', 'Andrew', 'James', 'Justin'), ('Jessica', 'Ashley', 'Brittany', 'Amanda', 'Ashley', 'Sarah', 'Stephanie', 'Jennifer', 'Elizabeth')]\n",
      "------------------------------------------------------------------------------------------------------------\n",
      "\n",
      "\n",
      " ranks: ['1', '2', '3', '4', '5', '6', '7', '8', '9'] \n",
      " boys: ['Michael', 'Christopher', 'Matthew', 'Joshua', 'Daniel', 'David', 'Andrew', 'James', 'Justin'] \n",
      " girls: ['Jessica', 'Ashley', 'Brittany', 'Amanda', 'Ashley', 'Sarah', 'Stephanie', 'Jennifer', 'Elizabeth']\n",
      "------------------------------------------------------------------------------------------------------------\n",
      " final_boys1 : \n",
      " ['Michael 1', 'Christopher 2', 'Matthew 3', 'Joshua 4', 'Daniel 5', 'David 6', 'Andrew 7', 'James 8', 'Justin 9']\n",
      "------------------------------------------------------------------------------------------------------------\n",
      " final_girls1 : \n",
      " ['Jessica 1', 'Ashley 2', 'Brittany 3', 'Amanda 4', 'Ashley 5', 'Sarah 6', 'Stephanie 7', 'Jennifer 8', 'Elizabeth 9']\n",
      "------------------------------------------------------------------------------------------------------------\n",
      " Sorted final_list : \n",
      " ['Amanda 4', 'Andrew 7', 'Ashley 2', 'Ashley 5', 'Brittany 3', 'Christopher 2', 'Daniel 5', 'David 6', 'Elizabeth 9', 'James 8', 'Jennifer 8', 'Jessica 1', 'Joshua 4', 'Justin 9', 'Matthew 3', 'Michael 1', 'Sarah 6', 'Stephanie 7']\n",
      "------------------------------------------------------------------------------------------------------------\n",
      " Sorted final_list : \n",
      " ['1990', 'Amanda 4', 'Andrew 7', 'Ashley 2', 'Ashley 5', 'Brittany 3', 'Christopher 2', 'Daniel 5', 'David 6', 'Elizabeth 9', 'James 8', 'Jennifer 8', 'Jessica 1', 'Joshua 4', 'Justin 9', 'Matthew 3', 'Michael 1', 'Sarah 6', 'Stephanie 7']\n",
      "------------------------------------------------------------------------------------------------------------\n",
      "**************************************************EOC******************************************************\n",
      "------------------------------------------------------------------------------------------------------------\n"
     ]
    }
   ],
   "source": [
    "import re \n",
    "\n",
    "f = open ('C:\\\\Users\\\\Amit\\\\Desktop\\\\google-python-exercises\\\\google-python-exercises\\\\babynames\\\\baby1990.html', 'r')\n",
    "contents = f.read()\n",
    "\n",
    "print('------------------------------------------------------------------------------------------------------------')\n",
    "# get the year of consideration\n",
    "year = re.findall(r'Popularity in (\\d\\d\\d\\d)',contents) # findall will return a list \n",
    "print (year) # this will be a list\n",
    "print('------------------------------------------------------------------------------------------------------------')\n",
    "\n",
    "# get all the names and ranks \n",
    "# this is the regular expression only to get ranks till 9 \n",
    "data1 = re.findall (r'<td>(\\d)</td><td>(\\w+)</td><td>(\\w+)</td>', contents)\n",
    "print (f' data1 : \\n   {data1}   \\n')\n",
    "print('------------------------------------------------------------------------------------------------------------')\n",
    "\n",
    "# split the list into three lists\n",
    "data2 =list (zip (*data1))\n",
    "print(f' data2 = \\n {len(data2)}\\n{data2}')\n",
    "\n",
    "print('------------------------------------------------------------------------------------------------------------')\n",
    "print ('\\n')\n",
    "\n",
    "#splitting a list into lists\n",
    "\n",
    "ranks_boys, ranks_girls, boys, girls = list(data2[0]), list(data2[0]), list(data2[1]), list(data2[2])\n",
    "print (f' ranks: {ranks} \\n boys: {boys} \\n girls: {girls}')\n",
    "print('------------------------------------------------------------------------------------------------------------')\n",
    "\n",
    "\n",
    "# better if we sort the lists firsts ... it is easy to remove the duplicates\n",
    "\n",
    "# removal of the duplicates \n",
    "for i in range(len(girls)):\n",
    "    for j in range(i+1, len(girls)):\n",
    "        if girls[i] == girls[j]:\n",
    "\n",
    "final_boys1 = [i+' '+j for i,j in zip(boys, ranks)]\n",
    "print (f' final_boys1 : \\n {final_boys1}')\n",
    "print('------------------------------------------------------------------------------------------------------------')\n",
    "\n",
    "final_girls1 = [i+' '+j for i,j in zip(girls, ranks)]\n",
    "print (f' final_girls1 : \\n {final_girls1}')\n",
    "print('------------------------------------------------------------------------------------------------------------')\n",
    "\n",
    "final_list = sorted (final_boys1 + final_girls1)\n",
    "print (f' Sorted final_list : \\n {final_list}')\n",
    "print('------------------------------------------------------------------------------------------------------------')\n",
    "\n",
    "# if a name appears twice in the list with different ranks delete the one with the higher ranks \n",
    "# appending the year\n",
    "final_list.insert (0, year[0])\n",
    "print (f' Sorted final_list : \\n {final_list}')\n",
    "\n",
    "\n",
    "print('------------------------------------------------------------------------------------------------------------')\n",
    "print ('**************************************************EOC******************************************************')\n",
    "print('------------------------------------------------------------------------------------------------------------')"
   ]
  },
  {
   "cell_type": "code",
   "execution_count": null,
   "metadata": {},
   "outputs": [],
   "source": []
  },
  {
   "cell_type": "markdown",
   "metadata": {},
   "source": [
    "## Duplicates \n",
    "\n",
    "#### Duplicates in a list"
   ]
  },
  {
   "cell_type": "code",
   "execution_count": 3,
   "metadata": {},
   "outputs": [
    {
     "name": "stdout",
     "output_type": "stream",
     "text": [
      "['Michael', 'Christopher']\n"
     ]
    }
   ],
   "source": [
    "boys= ['Michael', 'Christopher', 'Matthew', 'Joshua', 'Daniel', 'David', 'Andrew', 'James', 'Justin', 'Michael', 'Christopher']\n",
    "boys_dups = []\n",
    "for i in range(len(boys)):\n",
    "    for j in range(i+1, len(boys)):\n",
    "        if boys[i] == boys [j]:\n",
    "            boys_dups.append(boys[i])\n",
    "\n",
    "print (boys_dups)\n"
   ]
  },
  {
   "cell_type": "code",
   "execution_count": null,
   "metadata": {},
   "outputs": [],
   "source": []
  },
  {
   "cell_type": "markdown",
   "metadata": {},
   "source": [
    "# Sorting"
   ]
  },
  {
   "cell_type": "markdown",
   "metadata": {},
   "source": [
    "## Sorting a List \n",
    "\n",
    "## Sorted heading\n",
    "\n",
    "`sorted()`: is a function which can sort almost any data structure in python including the sets, dictionaries which are otherwise unsortable. \n",
    "\n",
    "`sorted (data_structure, key, reverse=T/F)`: in arguments keywords 'key' and 'reverse' are necessary\n",
    "\n",
    " \n",
    "\n",
    "     Key is a function which would decide the sorting sequence lambda or user defined \n",
    "     'reverse' is T for ascending order and F for descending order\n",
    "     By default the uppercase or capitalize will come first in sequence\n",
    "    sorted does not sort in place you have to assign its value to somethign else\n",
    "    sorted must use the keywords 'key' and 'reverse' in sorted (l1, key =, reverse = )"
   ]
  },
  {
   "cell_type": "markdown",
   "metadata": {},
   "source": [
    "**Sorted with a user defined function as a key**\n",
    "\n",
    "**Write a Python program to count the elements in a list until an element is a tuple.**"
   ]
  },
  {
   "cell_type": "code",
   "execution_count": null,
   "metadata": {},
   "outputs": [],
   "source": [
    "list1  = [('item1', '12.20'), ('item2', '15.10'), ('item3', '24.5'), ('item4', '1.6'), \n",
    "          ('item5', '-5.2'), ('item0', '24.5'), ('zzz', '-3.5')]\n",
    "def key1 (tup1):\n",
    "    return tup1[1]\n",
    "\n",
    "print (key1( list1[0]))\n",
    "\n",
    "print (   sorted(list1, key = key1 )           )\n",
    "\n",
    "#print (sorted(list1, reverse=True))"
   ]
  },
  {
   "cell_type": "code",
   "execution_count": null,
   "metadata": {},
   "outputs": [],
   "source": []
  },
  {
   "cell_type": "code",
   "execution_count": null,
   "metadata": {},
   "outputs": [],
   "source": []
  },
  {
   "cell_type": "markdown",
   "metadata": {},
   "source": [
    "#### Removal of duplicates from the list \n",
    "\n",
    "steps:\n",
    "  \n",
    "   Store the indexes to be removed in a list\n",
    "   Run the pop on all the indexes stored\n",
    "   \n",
    "Note: we cannot run the pop directly in the loop which is used to find the duplicates because the len(list) would keep reducing and we would get and indexError: Index out of range. Follow the below example to understand"
   ]
  },
  {
   "cell_type": "code",
   "execution_count": 37,
   "metadata": {},
   "outputs": [
    {
     "name": "stdout",
     "output_type": "stream",
     "text": [
      "1. girls_ranks: \n",
      "[('Amanda', '4'), ('Ashley', '2'), ('Ashley', '5'), ('Brittany', '3'), ('Elizabeth', '9'), ('Jennifer', '8'), ('Jessica', '1'), ('Sarah', '6'), ('Stephanie', '7')]\n",
      "\n",
      "2. girls_ranks: \n",
      "[('Amanda', '4'), ('Ashley', '2'), ('Brittany', '3'), ('Elizabeth', '9'), ('Jennifer', '8'), ('Jessica', '1'), ('Sarah', '6'), ('Stephanie', '7')]\n"
     ]
    }
   ],
   "source": [
    "# removal of duplicates from the list steps\n",
    "girls= ['Jessica', 'Ashley', 'Brittany', 'Amanda', 'Ashley', 'Sarah', 'Stephanie', 'Jennifer', 'Elizabeth']\n",
    "ranks= ['1', '2', '3', '4', '5', '6', '7', '8', '9'] \n",
    "index_list = [] # to stored the duplicate indices\n",
    "\n",
    "girls_ranks = sorted (list (zip(girls, ranks)))  \n",
    "print (f'1. girls_ranks: \\n{girls_ranks}\\n')\n",
    "\n",
    "\n",
    "for i in range( len(girls_ranks)):              # print (f'----- {i}') #print (girls_ranks[i][0])\n",
    "    for j in range (i+1, len(girls_ranks)):     # print (j)        #print (girls_ranks[j][0])\n",
    "        if girls_ranks[i][0] == girls_ranks[j][0]:\n",
    "            index_list.append(j)\n",
    "            # girls_ranks.pop(j) -- indexError: index out of range\n",
    "            # because the len would be reduced wit pop\n",
    "            #print (f' duplicate : {girls_ranks[j][0]}')\n",
    "\n",
    "#print('\\n')            #print(girls_ranks)    #print (f'index_list: {index_list}')\n",
    "\n",
    "for i in index_list:\n",
    "    girls_ranks.pop(i)\n",
    "    \n",
    "print (f'2. girls_ranks: \\n{girls_ranks}')\n",
    "\n",
    "\n",
    "\n"
   ]
  },
  {
   "cell_type": "code",
   "execution_count": 28,
   "metadata": {},
   "outputs": [
    {
     "name": "stdout",
     "output_type": "stream",
     "text": [
      "('Ashley', '5')\n",
      "[('Amanda', '4'), ('Ashley', '2'), ('Brittany', '3'), ('Elizabeth', '9'), ('Jennifer', '8'), ('Jessica', '1'), ('Sarah', '6'), ('Stephanie', '7')]\n"
     ]
    }
   ],
   "source": [
    "girls= ['Jessica', 'Ashley', 'Brittany', 'Amanda', 'Ashley', 'Sarah', 'Stephanie', 'Jennifer', 'Elizabeth']\n",
    "ranks= ['1', '2', '3', '4', '5', '6', '7', '8', '9'] \n",
    "\n",
    "girls_ranks = sorted (list (zip(girls, ranks)))\n",
    "\n",
    "print (girls_ranks.pop(2))\n",
    "print (girls_ranks)\n"
   ]
  },
  {
   "cell_type": "code",
   "execution_count": 27,
   "metadata": {},
   "outputs": [
    {
     "name": "stdout",
     "output_type": "stream",
     "text": [
      "['Eflux', 'Intrigue', 'Sedge', 'Stem', 'Whim', 'amit', 'constitute', 'lindi', 'sakuma']\n",
      "['amit', 'constitute', 'Eflux', 'Intrigue', 'lindi', 'sakuma', 'Sedge', 'Stem', 'Whim']\n",
      "['Whim', 'Stem', 'Sedge', 'sakuma', 'lindi', 'Intrigue', 'Eflux', 'constitute', 'amit']\n"
     ]
    }
   ],
   "source": [
    "# how to sort a list alphabetically # alphabetical sorting of list # sort a list \n",
    "# by default the uppercase will be sorted first \n",
    "list1 = ['Stem', 'constitute', 'amit', 'lindi', 'sakuma', 'Sedge', 'Eflux', 'Whim', 'Intrigue']\n",
    "print (sorted(list1))\n",
    "\n",
    "# sort a list alphabetically where the lowercase will come first\n",
    "# ignoring case while sorting - basically it will convert everything in lowercase and then sort\n",
    "print (sorted(list1, key= str.lower)) # this would do a pure alphabetical sorting irrespective of the case \n",
    "\n",
    "# sorting the list in the reverse order \n",
    "print( sorted (list1, key=str.lower, reverse=True)) # arguments cannot be used without key words"
   ]
  },
  {
   "cell_type": "code",
   "execution_count": null,
   "metadata": {},
   "outputs": [],
   "source": []
  },
  {
   "cell_type": "markdown",
   "metadata": {},
   "source": [
    "## Zipping or Zip* ing two lists\n",
    "\n",
    " zip function is used to join two lists\n",
    " note the smallest list will be picked up as reference not the longest list \n",
    " tuples will be returned which then can be accessed using tuple unpacking"
   ]
  },
  {
   "cell_type": "code",
   "execution_count": 31,
   "metadata": {},
   "outputs": [
    {
     "name": "stdout",
     "output_type": "stream",
     "text": [
      "(1, 'a')\n",
      "(2, 'b')\n",
      "(3, 'c')\n",
      "a\n",
      "b\n",
      "c\n"
     ]
    }
   ],
   "source": [
    "# zip function is used to join two lists\n",
    "list1 = [1,2,3,4,5]\n",
    "list2 = ['a','b','c']\n",
    "\n",
    "for i in zip(list1, list2):\n",
    "    print(i)\n",
    "\n",
    "# note the smallest list will be picked up as reference not the longest list \n",
    "# tuples will be returned which then can be accessed using tuple unpacking\n",
    "for a,b in zip(list1, list2):\n",
    "    print(b)"
   ]
  },
  {
   "cell_type": "code",
   "execution_count": 40,
   "metadata": {},
   "outputs": [
    {
     "name": "stdout",
     "output_type": "stream",
     "text": [
      "[('Jhon', 7000, 1), ('Emma', 6500, 2), ('Kelly', 9000, 3), ('Jason', 10000, 4)]\n",
      "[('Emma', 6500, 2), ('Jhon', 7000, 1), ('Kelly', 9000, 3), ('Jason', 10000, 4)]\n",
      "('Emma', 'Jhon', 'Kelly', 'Jason')\n",
      "(6500, 7000, 9000, 10000)\n",
      "(2, 1, 3, 4)\n",
      "[2, 4, 6]\n"
     ]
    }
   ],
   "source": [
    "import random\n",
    "\n",
    "empName = ['Jhon', 'Emma', 'Kelly', 'Jason']\n",
    "empSalary = [7000, 6500, 9000, 10000]\n",
    "empCode = [1,2,3,4]\n",
    "\n",
    "zipped_list  = list (zip(empName, empSalary, empCode)) \n",
    "# [('Jhon', 7000), ('Emma', 6500), ('Kelly', 9000), ('Jason', 10000)]\n",
    "print(zipped_list)\n",
    "\n",
    "random.shuffle(zipped_list) # random.shuffle shuffles in place \n",
    "print (zipped_list)\n",
    "\n",
    "empName, empSalary, empCode = zip(*zipped_list)\n",
    "print (empName)\n",
    "print (empSalary)\n",
    "print (empCode)\n",
    "\n",
    "# you can also perform simple functions on the elements of the list\n",
    "list1 = [1,2,3]\n",
    "list2 = [1,2,3]\n",
    "sum_lists = [(x+y) for x,y in zip(list1,list2) ]\n",
    "print (sum_lists)\n"
   ]
  },
  {
   "cell_type": "markdown",
   "metadata": {},
   "source": [
    "## Packages, Modules and main\n",
    "\n",
    "Module = .py script \n",
    "Package = (Module1, Module2)\n",
    "\n",
    "\n",
    "Creating a Package\n",
    "is just a folder \n",
    "with __init__.py file so that the system can identify them as package. \n",
    "\n",
    "baby_names_main_script.py in the main \n",
    "\n",
    "You can also import modules/py scripts from you package/folder using the statement \n",
    "\n",
    "from Package import Module.py\n",
    "from Package.subpackage import some_script.py\n",
    "\n",
    "Calling the functions\n",
    "some_script.some_function ()\n",
    "\n",
    "__name__ and __main__\n",
    "\n",
    "if __name__ == '__main__':\n",
    " <<Code>>\n",
    "\n",
    "__name__ is a builtin variable which gets assigned a string depending upon how you are running the script \n"
   ]
  },
  {
   "cell_type": "markdown",
   "metadata": {},
   "source": [
    "## Error Handling: Try, Except and Finally\n",
    "\n",
    "    Uses:\n",
    "    Typecheck of inputs from the users can be run with a 'While True : Try: Except: Else: break@correct input' combination \n",
    "    "
   ]
  },
  {
   "cell_type": "code",
   "execution_count": null,
   "metadata": {},
   "outputs": [],
   "source": []
  }
 ],
 "metadata": {
  "kernelspec": {
   "display_name": "Python 3",
   "language": "python",
   "name": "python3"
  },
  "language_info": {
   "codemirror_mode": {
    "name": "ipython",
    "version": 3
   },
   "file_extension": ".py",
   "mimetype": "text/x-python",
   "name": "python",
   "nbconvert_exporter": "python",
   "pygments_lexer": "ipython3",
   "version": "3.6.5"
  }
 },
 "nbformat": 4,
 "nbformat_minor": 2
}
