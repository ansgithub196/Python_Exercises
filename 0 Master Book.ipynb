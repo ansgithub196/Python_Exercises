{
 "cells": [
  {
   "cell_type": "code",
   "execution_count": 1,
   "metadata": {},
   "outputs": [
    {
     "ename": "SyntaxError",
     "evalue": "invalid character in identifier (<ipython-input-1-b8646d83db63>, line 28)",
     "output_type": "error",
     "traceback": [
      "\u001b[1;36m  File \u001b[1;32m\"<ipython-input-1-b8646d83db63>\"\u001b[1;36m, line \u001b[1;32m28\u001b[0m\n\u001b[1;33m    len(‘Hello World’)# length of a string\u001b[0m\n\u001b[1;37m             ^\u001b[0m\n\u001b[1;31mSyntaxError\u001b[0m\u001b[1;31m:\u001b[0m invalid character in identifier\n"
     ]
    }
   ],
   "source": [
    "# Generally any function will use a parenthesis as it passes a variable.\n",
    "\n",
    "# STRINGS\n",
    "# Strings are \n",
    "    # used to record text information such as names or sentences of an alphabet\n",
    "    # sequential so python keeps track of every position and its content \n",
    "    # we are able to INDEX the string and SLICE it \n",
    "    \n",
    "# What you should know and practice: \n",
    "# Create, Print, Index, Slice, display properties, use methods and formatting\n",
    "\n",
    "# create and print – \n",
    "# just type the string and run it- string will be printed. \n",
    "# We can simply declare a string\n",
    "\n",
    "'Hello World' # op- 'Hello World'\n",
    "\n",
    "# Note that we can't output multiple strings this way\n",
    "'Hello World 1'\n",
    "'Hello World 2'\n",
    "# o/p- 'Hello World 2'\n",
    "\n",
    "# You can either use double or single quotes\n",
    "\n",
    "# You can also use a print statement\n",
    "#Indexing of an object is almost always done using [] such as s[0], s[1]\n",
    "\n",
    "len(‘Hello World’)# length of a string\n",
    "\n",
    "# Assign s as a string\n",
    "s = 'Hello World'\n",
    "#  s[start:stop:step]\n",
    "s[:]\t# retrieve everything\n",
    "s[1:]     # Grab everything from first to last\n",
    "s[-1]\t# Last letter (one index behind 0 so it loops back around)\n",
    "s[:3]\t# Grab everything up to the 3rd index\n",
    "s[::1]\t# Grab everything, but go in steps size of 1- step size only comes into play with two colons\n",
    "s[::2]  \t# Grab everything, but go in step sizes of 2# Grab e \n",
    "s[::-1]\t# string reversal we can use this to print a string backwards\n",
    "# Strings have an important property known as immutability.once a string is created, \n",
    "# the elements within it cannot be changed or replaced. \n",
    "# we can only slice and assign and then eventually concatenate\n",
    "# We can reassign s completely though!\n",
    "s = s + ' concatenate me!' # concatenation and reassignment\n",
    "\n",
    "#We can use the multiplication symbol to create repetition!\n",
    "letter = 'z'\n",
    "letter*10\n",
    "\n",
    "#'zzzzzzzzzz'\n",
    "# Generally all these datatypes are built in python as objects and you have built in methods \n",
    "# in these objects which we can call\n",
    "\n",
    "# Built in methods for strings include Split, upper and lower\n",
    "s = 'Hello world concatenate me'\n",
    "s.split() # Split a string by blank space (this is the default)\n",
    "['Hello', 'World', 'concatenate', 'me!']\n",
    "\n",
    "s.split('W') # Split by a specific element (doesn't include the element that was split on)\n",
    "\n",
    "['Hello ', 'orld concatenate me!']\n",
    "\n",
    "\n",
    "# Section 3 Lecture 19\n",
    "# String Formating inserts a variable in print function.\n",
    "# There are two ways to achieve this: \n",
    "  # 1. using .format and {} as a variable\n",
    "  # 2. using fstring literals\n",
    "  # You can also concatenate a string\n",
    "\n",
    "# .format stands for string formatting\n",
    "name = 'Amit Sharma'\n",
    "age = 32\n",
    "print('1 My name is {}'.format(name)) \n",
    "print('2 The {} {} {}'.format('Fox','Quick','Brown'))\n",
    "print('3 The {1} {2} {0}'.format('Fox','Quick','Brown'))\n",
    "print('4 The {q} {b} {f}'.format(q='Quick', f='Fox', b='Brown'))\n",
    "\n",
    "# Float formatting method - helps adjust the width and precision of the floats\n",
    "result = 100/777\n",
    "print('1- {r:1.3f}'.format(r= 100/777))\n",
    "\n",
    "print('2- {r:1.3f}'.format(r= result))\n",
    "\n",
    "# print('3- {:1.3f}'.format(result)) - wont work as we need to assign value to \n",
    "# result in the format parenthesis\n",
    "\n",
    "print('4- {:1.3f}'.format(100/777))\n",
    "\n",
    "# print('{result:1.3f}'.format(result))\n",
    "\n",
    "# f string literal method\n",
    "print(f'5 My name is {name} and i am {age} years old')\n",
    "\n",
    "# Concatenation\n",
    "print('My name is '+ name)# ' and i am ')#+ name 'years old') -- incorrect\n",
    "\n",
    "#                      LISTS\n",
    "# Section 3 Lecture 19 \n",
    "\n",
    "# Lists are ordered sequences of diverse objects\n",
    "\n",
    "my_list = ['Amit Sharma', 32, 3010196]\n",
    "\n",
    "len(my_list) # check the length of list\n",
    "\n",
    "# Generally any function will use a parenthesis as it passes a variable.\n",
    "\n",
    "# Indexing will use a square bracket\n",
    "\n",
    "mylist[0]# indexing - would return an error if the index does not exist \n",
    "# for example mylist[100] would return an error \n",
    "len(mylist) # length of the list\n",
    "mylist[1:] # go from one to end\n",
    "\n",
    "#concatenation\n",
    "another_list = ['Alind Sharama', 30, 30031988]\n",
    "new_list = mylist + another_list # concatenating two lists\n",
    "\n",
    "# however be careful when concatenation\n",
    "mylist + 'Alind Sharma' \n",
    "# would return a concatenated list but would'nt actually add the element to the list\n",
    "# for that you would have to assign the value to a list\n",
    "\n",
    "mylist = mylist + ['Alind Sharma'] # you cant use += as it is a mathematical operator and does not work with concatenation\n",
    "\n",
    "# Replicating or repeating or duplication of the list\n",
    "mylist*2 # would not change anything unless you use \n",
    "mylist*=2 # which would actually reassign the value to the list\n",
    "\n",
    "# NESTING OF LISTS\n",
    "\n",
    "# Let's make three lists# Let's  \n",
    "lst_1=[1,2,3]\n",
    "lst_2=[4,5,6]\n",
    "lst_3=[7,8,9]\n",
    "\n",
    "# Make a list of lists to form a matrix\n",
    "matrix = [lst_1,lst_2,lst_3]\n",
    "\n",
    "matrix\n",
    "# [[1, 2, 3], [4, 5, 6], [7, 8, 9]]\n",
    "\n",
    "# Grab first item in matrix object\n",
    "matrix[0]\n",
    "#[1, 2, 3]\n",
    "\n",
    "# Grab first item of the first item in the matrix object\n",
    "matrix[0][0]\n",
    "#1\n",
    "list1 = [1,2,3]\n",
    "list2 = [2.1,2.2,2.3]\n",
    "list3 = [3.1,3.2,3.3]\n",
    "mylist = [list1, list2, list3]\n",
    "mylist[0][0]\n",
    "#1\n",
    "\n",
    "#strings are immutable and lists are mutable my_string = 'beef'\n",
    "# my_string [3]='r' wont work \n",
    "#you have to do my_string = 'beer' not one character\n",
    "# You can overwrite a single element of a list\n",
    "\n",
    "new_list[1]='Amit Narayan'\n",
    "\n",
    "new_list.append('six') #Append and element to the list\n",
    "\n",
    "new_list.pop() # REMOVING the last element and will return the popped item\n",
    "# pop will also remove the element from the list so its like shortening of list\n",
    "\n",
    "new_list.pop(1) # popping an item at indexed position\n",
    "new_list = [ 'a', 'e', 'x', 'b', 'c']\n",
    "\n",
    "# Sorting\n",
    "num_list = [4,2,6,7]\n",
    "new_list.sort()\n",
    "\n",
    "num_list.reverse() # will reverse the list in its place and \n",
    "# return nonetype object \n",
    "# WI-NoneType or None- is type of Object which has no type and is generally used as a place holder.  \n",
    "\n",
    "\n",
    "\n",
    "# Dictionaries-are storage types which store objects as key:value mappings \n",
    "# in an unordered fashion\n",
    "#  List vs Dictionaries- \n",
    "#Lists are ordered D's are unordered \n",
    "# L's can index, slicing and ordering D's use keys:value mappings\n",
    "# D's cannot be sorted are there is no order\n",
    "# L insertions takes place at a defined index \n",
    "# D's will insert new values wherever it wants \n",
    "# On the other hand the D offers quick and easy name based retrieval of values \n",
    "# Keys should be string\n",
    "# D's can hold lists or other dictionaries too\n",
    "# d.values, keys and items \n",
    "\n",
    "my_dict = {'Key1': 12, 'Key2': [1,2,3,4], 'Key3':'Amit Sharma'}\n",
    "my_dict = {'Key1': 12, 'Key2': [1,2,3,4], 'Key3':'Amit Sharma', \n",
    "           'Key4':{'inside_key' : 100, 'inside_key2':200}}\n",
    "\n",
    "my_dict['Key2']=2 # adding a value to a dictionary or overwriting a value\n",
    "\n",
    "my_dict.values\n",
    "my_dict.keys\n",
    "my_dict.items\n",
    "\n",
    "\n",
    "# tuples use () with elements separated by commas. For example:\n",
    "# Section 3 Lecture 24\n",
    "# Tuples are immutable -used for data integrity -\n",
    "# to prevent accidental change of passed objects or data such as date and time\n",
    "# \n",
    "\n",
    "# tuples are create with a parenthesis \n",
    "t =(1,2,3)\n",
    "my_list=[1,2,3]\n",
    "type(t) # will give the type of the t\n",
    "type(list)\n",
    "len(t) \n",
    "# slicing and indexing is possible\n",
    "t[0]\n",
    "t[-1] # return last element\n",
    "t =('a', 'a', 'b')\n",
    "t.count('a')#=2\n",
    "t.index('a') # location of where a occurs the first time\n",
    "t.index()\n",
    "\n",
    "#We can affect the values of a key as well. For instance:\n",
    "# Subtract 123 from the value\n",
    "my_dict['key1'] = my_dict['key1'] - 123\n",
    "\n",
    "# f we started off with an empty dictionary, we could continually add to it:\n",
    "# Create a new dictionary\n",
    "d = {}\n",
    "\n",
    "# Create a new key through assignment# Create \n",
    "d['animal'] = 'Dog'\n",
    "\n",
    "# Can do this with any object# Can do \n",
    "d['answer'] = 42\n",
    "#Show\n",
    "d\n",
    "# {'animal': 'Dog', 'answer': 42}\n",
    "\n",
    "#                   Nesting with Dictionaries\n",
    "\n",
    "# Dictionary nested inside a dictionary nested inside a dictionary\n",
    "d = {'key1':{'nestkey':{'subnestkey':'value'}}}\n",
    "# Keep calling the keys\n",
    "d['key1']['nestkey']['subnestkey']\n",
    "\n",
    "\n",
    "# Sets are used to retrieve unique values from a number of values\n",
    "# Sets are unordered collection of unique elements\n",
    "\n",
    "myset = set()\n",
    "myset.add(1)\n",
    "myset # {1}\n",
    "myset.add(2)\n",
    "myset # {1,2}\n",
    "myset.add(2)\n",
    "myset # {1,2}\n",
    "mylist= [1,1,1,1,1,1,2,2,2,2,2,3,3,3,3,3,]\n",
    "set(mylist)\n",
    "mylist # {1,2,3}\n",
    "\n",
    "# Booleans - True or False\n",
    "# for control flow and logic\n",
    "# T of True should be capital\n",
    "type(True) # bool\n",
    "\n",
    "b = None # when the type of b is not defined and you want to use a placeholder\n",
    "\n",
    "#                FILE Input Output Operations\n",
    "# python uses file objects to interact with exteranal files on you computer such \n",
    "# as audio, video, text files, emails, Excel Documents, \n",
    "# i/o of basic files in python basic.txt \n",
    "# creating a file called the magic functionality only works with jupiter notebook\n",
    "%%writefile myfile.txt\n",
    "Hello this is  the text \n",
    "this is second line\n",
    "this is third line\n",
    "# only works in jupiter notebook\n",
    "# place where scripts are running\n",
    "# writing myfile.txt\n",
    "myfile = open('myfile.txt')\n",
    "\n",
    "pwd # present working directory\n",
    "myfile.read() # giant string of everythig in the file with \\n for the newline \n",
    "myfile.read() # '' because cursor went to the end of the file \n",
    "myfile.seek(0) # 0 \n",
    "myfile.read() # all file \n",
    "contents = myfile.read()\n",
    "contents # qwill have all the line \n",
    "myfile.seek(0)\n",
    "myfile.readlines()# with proper newline but with \\n character will still be there  \n",
    "\n",
    "\n",
    "# opening a file in python myfile = open( \" path of the file with double back slashes are separators \" )\n",
    "\n",
    "myfile = open (\"C:\\\\Users\\\\Marcial\\\\Pierian-DHi Madhu please check the size of the shoes today .ata-Courses\\\\text.txt\")\n",
    "myfile.close() # you should always close the file once you are done working with it. To prevent that you use the with statement \n",
    "with open('myfile.txt')\n",
    "\n",
    "with open('myfile.txt') as my_new_file: \n",
    "contents = my_new_file.read()\n",
    "contents \n",
    "\n",
    "# The above code would copy the contents of mytext.txt into my_new_file \n",
    "# and contents would display the content of the file withot \n",
    "# you being worried about closing the file\n",
    "\n",
    "# writing and overwriting on files - shift tab to get info on the commands  file permission r w or both w will overwrite a for append \n",
    "with open('myfile.txt', mode = 'r') as my_new_file :\n",
    "contents = my_new_file.read()\n",
    "\n",
    "# my_new_file is a variable name \n",
    "\n",
    "# section 3 lecture 2 : we should finish these exercises during revisons\n",
    "\n",
    "Section 3 Lecture 29\n",
    "\n",
    "# create a file  open read write append r+ w+\n",
    "\n",
    "# what is an escape character \n",
    "# Escape character is a character that evokes alternate interpretation of a \n",
    "# character . It is a particular case of a metacharacter. \n",
    "# A metacharacter is a charactere that has a special interpretation or meaning \n",
    "# to a computer program for example \\n \\t\n",
    "# r read only\n",
    "# w overwrite or create a file\n",
    "# r+ reading and writing\n",
    "# w+ writing and reading \n",
    "\n",
    "%%writefile my_new_file.txt\n",
    "one on first \n",
    "two on second\n",
    "three on third\n",
    "\n",
    "with open ('my_new_file.txt', mode='r') as f: \n",
    "print(f.read())\n",
    "# should show the file\n",
    "\n",
    "with open ('my_new_file.txt', mode ='w') as f:\n",
    "print(f.read())\n",
    "\n",
    "\n",
    "# appending\n",
    "with open('my_new_file.txt', mode ='a') as f:\n",
    "f.write('Four on fourth')\n",
    "\n",
    "# error 2 is no such file or directory- when you are trying to access a file that is not present\n",
    "\n",
    "# Comparison Operators\n",
    "#  you can compare strings also \n",
    "'hello' == 'hello' # would return a true\n",
    "'hello'=='bye' # would return a false \n",
    "2.0 == 2 # would return a true\n",
    "\n",
    "# LOGICAL OPERATORS \n",
    "1<2<3 # TRUE\n",
    "1<2>3 # false\n",
    "\n",
    "1<2 and 2<3\n",
    "\n",
    "\n",
    "#######################################################################################\n",
    "#                   35-36 While Break Contin Pass Range Random enum in min max\n",
    "#######################################################################################\n",
    "\n",
    "# while loop\n",
    "x =0\n",
    "while x < 5:\n",
    "    print (x)\n",
    "    x +=1\n",
    "\n",
    "\n",
    "# pass is used to prevent syntax error as if you dont put anything in the for loop it will throw an error \n",
    "# you can also use it as a placeholder and can come and fill the loop when you  decide what to put in the loo\n",
    "# Continue - go to the top of current innermost loop\n",
    "# break - break the current innermost loop\n",
    "\n",
    "# continue \n",
    "mystring = 'Sammy'\n",
    "for l in mystring:\n",
    "    if l == 'a':\n",
    "        continue\n",
    "    print (l)\n",
    "\n",
    "# Break\n",
    "mystring = 'Sammy'\n",
    "for l in mystring:\n",
    "    if l == 'a':\n",
    "        break\n",
    "    print (l)\n",
    "    \n",
    "\n",
    "# range(start, end, step size )\n",
    "for n in range(0,10,2):\n",
    "    print (n)\n",
    "\n",
    "list (range (0,10,2))\n",
    "\n",
    "0\n",
    "2\n",
    "4\n",
    "6\n",
    "8\n",
    "[0, 2, 4, 6, 8]\n",
    "\n",
    "# enumerate operator \n",
    "index = 0\n",
    "mystring = 'hello'\n",
    "for i in mystring:\n",
    "    print (mystring[index])\n",
    "    index+=1\n",
    "\n",
    "# to avoid a running index count \n",
    "for i in enumerate(mystring):\n",
    "    print (i)\n",
    "\n",
    "h\n",
    "e\n",
    "l\n",
    "l\n",
    "o\n",
    "(0, 'h')\n",
    "(1, 'e')\n",
    "(2, 'l')\n",
    "(3, 'l')\n",
    "(4, 'o')\n",
    "\n",
    "# zip function is used to join two lists\n",
    "list1 = [1,2,3,4,5]\n",
    "list2 = ['a','b','c']\n",
    "\n",
    "for i in zip(list1, list2):\n",
    "    print(i)\n",
    "\n",
    "# not the smallest list will be picked up as reference not the longest list \n",
    "# tuples will be returned which then can be accessed using tuple unpacking\n",
    "for a,b in zip(list1, list2):\n",
    "    print(b)\n",
    "\n",
    "(1, 'a')\n",
    "(2, 'b')\n",
    "(3, 'c')\n",
    "a\n",
    "b\n",
    "c\n",
    "\n",
    "# in operator\n",
    "'x' in ['a','b','c'] # False\n",
    "'x' in ['a','b','c','x'] # True\n",
    "'mykey' in {'mykey': 345}\n",
    "d = {'mykey': 345}\n",
    "345 in d.values()\n",
    "min (mylist)\n",
    "max (mylist)\n",
    "\n",
    "# random is a built in library - shuffles a list - shuffle is an inplace function ie it return none\n",
    "mylist = [1,2,3,4,5,6]\n",
    "from random import shuffle\n",
    "shuffle (mylist)\n",
    "mylist\n",
    "\n",
    "from random import randint\n",
    "randint (0,100)\n",
    "\n",
    "# input alway accept the results in a string \n",
    "input('enter a number here')\n",
    "result = int (input('enter a number here'))\n",
    "int (result)\n",
    "float (result)\n",
    "str (result)\n",
    "\n",
    "####################################################################\n",
    "#############                     FUNCTIONS\n",
    "\n",
    "# Functions help us to create clean repeatable code which can be executed multiple times without\n",
    "# actually rewritting the code\n",
    "\n",
    "# defining a function with parameters\n",
    "\n",
    "def print_name (name = 'Customer'):\n",
    "    '''\n",
    "    Docstring: \n",
    "    Input : String as name\n",
    "    Output: prints the Hello Name\n",
    "    '''\n",
    "    print ('Hello '+ name)\n",
    "\n",
    "    \n",
    "#print_name ()\n",
    "#print_name ('Amit')\n",
    "\n",
    "def print_name (name = 'Customer'):\n",
    "    return ('Hello '+ name)\n",
    "\n",
    "result = print_name('Zach')\n",
    "#print (result)\n",
    "\n",
    "def add(n1, n2):\n",
    "    return n1+n2\n",
    "\n",
    "result = add(1,2)\n",
    "#print (result)\n",
    "\n",
    "# find if dog is in a string or noe\n",
    "def dog_check (mystring):\n",
    "    if 'dog' in mystring.lower():\n",
    "        return True\n",
    "    else: \n",
    "        return False\n",
    "    \n",
    "#dog_check ('my Dog ran away')# False because we forgot the lower case\n",
    "\n",
    "def dog_check1 (mystr):\n",
    "    return dog in mystr.lower()\n",
    "#dog_check ('my Dog ran away')\n",
    "\n",
    "def pig_latin (word):\n",
    "    first_letter = word[0]\n",
    "    if first_letter in 'aeiou':\n",
    "        pig_word = word + 'ay'\n",
    "    else: \n",
    "        pig_word = word[1:] + first_letter + 'ay'\n",
    "\n",
    "    return pig_word.upper()\n",
    "\n",
    "###############################################################\n",
    "#                       *args and **kwargs\n",
    "# they help us pass arbitrary number of arguments to a function \n",
    "\n",
    "# mysum (a,b) a and b are positional parameter\n",
    "\n",
    "def mysum (*args):\n",
    "    print (args)\n",
    "    for item in args:\n",
    "        print (item)\n",
    "    return sum(args)\n",
    "\n",
    "# they are a tuple inside the function\n",
    "\n",
    "mysum (1,2,3,4,5,6,7,9,10)\n",
    "#\n",
    "\n",
    "# **kwargs\n",
    "def mychoice (**kwargs):\n",
    "    print (kwargs)\n",
    "    if 'fruit' in kwargs:\n",
    "        print ('my favorite fruit is {}'.format(kwargs['fruit']))\n",
    "    else:\n",
    "        print('I did not find a favorite')\n",
    "        \n",
    "\n",
    "mychoice (fruit = 'pineapple', vegetable ='Cucumber')\n",
    "\n",
    "# {'fruit': 'pineapple', 'vegetable': 'Cucumber'}\n",
    "# my favorite fruit is pineapple\n",
    "\n",
    "\n",
    "def myfoodchoice (*args, **kwargs):\n",
    "    print (args)\n",
    "    print (kwargs)\n",
    "    print ( 'I would like to have {} {}'.format (args[1], kwargs['junk']))\n",
    "    \n",
    "myfoodchoice (2,5,4,5, junk = 'samosa', healthy = 'lemonade')\n",
    "\n",
    "#(2, 5, 4, 5)\n",
    "# {'junk': 'samosa', 'healthy': 'lemonade'}\n",
    "# I would like to have 5 samosa\n",
    "\n",
    "\n",
    "def myevenfunc (*args):\n",
    "    mylist = []\n",
    "    for item in args:\n",
    "        if item%2==0:\n",
    "            mylist.append(item)\n",
    "    return mylist\n",
    "\n",
    "mylist = myevenfunc(2,3,4,5,6,9,10,12)\n",
    "mylist\n",
    "# [2, 4, 6, 10, 12]\n",
    "\n",
    "def myfunc (name = 'name'):\n",
    "    \n",
    "    name_ind =0\n",
    "    ind = 0\n",
    "    res_str = []\n",
    "    \n",
    "    #name_list = name.split()\n",
    "    #print (name_list)\n",
    "    \n",
    "    for every_name in name_list:\n",
    "        #print('Processing' + every_name)\n",
    "        # 'Amit'\n",
    "        ind =0\n",
    "        \n",
    "        for let in every_name:\n",
    "            if ind % 2 == 0: \n",
    "                res_str.append(let.upper())\n",
    "            else:\n",
    "                res_str.append(let.lower())\n",
    "            ind+=1\n",
    "    return res_str\n",
    "\n",
    "my_str_case ('Alind Sharma')\n",
    "\n",
    "\n",
    "# ['Alind', 'Sharma']\n",
    "# ProcessingAlind\n",
    "# ProcessingSharma\n",
    "# ['A', 'l', 'I', 'n', 'D', 'S', 'h', 'A', 'r', 'M', 'a']\n",
    "\n",
    "\n",
    "def myfunc (name):\n",
    "    ind = 0\n",
    "    s = ''\n",
    "    for l in name:\n",
    "        if ind % 2 == 0 :\n",
    "            s =  s + l.upper()\n",
    "        else: \n",
    "            s = s + l.lower()\n",
    "        ind +=1\n",
    "    return s\n",
    "\n",
    "myfunc('Amit')\n",
    "\n",
    "#'AmIt'\n",
    "\n",
    "# Function Practice Excercises\n",
    "# Write a function that returns the lesser of two given numbers if both numbers are even, \n",
    "# but returns the greater if one or both numbers are odd\n",
    "def lesseroftwoevens (a, b):\n",
    "    if a % 2 == 0 and b % 2 == 0:\n",
    "        return min(a,b)\n",
    "    else:\n",
    "        return max(a,b)\n",
    "    \n",
    "\n",
    "lesseroftwoevens (3, 7)\n",
    "\n",
    "# 7\n",
    "\n",
    "# sentence reversal - 'I am home' to 'home am i' \n",
    "# note there should not be a space in the end\n",
    "\n",
    "def sent_rev (mstr):\n",
    "    mlist = mstr.split()\n",
    "    rlist = mlist [::-1]\n",
    "    rstr = ' '.join(rlist)\n",
    "    print('rstr - ', rstr)\n",
    "    print (mlist)\n",
    "    print( mlist[::-1]) # reversal of list but the list remains the same\n",
    "\n",
    "sent_rev('I am home')\n",
    "\n",
    "# rstr -  home am I\n",
    "\n",
    "# Given an integer n, return True if n is within 10 of either 100 or 200\n",
    "def withinrange10 (n):\n",
    "    if n in range (100,111) or n in range(200,211) or n in range (90,100) or n in range (190,200):\n",
    "        return True\n",
    "    else:\n",
    "        return False\n",
    "    \n",
    "\n",
    "# track the repeating integer index in a list of integers  \n",
    "# if 3 repeats in a list return True \n",
    "# repetition of integer 3 \n",
    "def repeating3 (intlist):\n",
    "    print (intlist)\n",
    "    ind = 0\n",
    "    for i in intlist:\n",
    "        if intlist[ind] == 3 and intlist [ind+1] == 3:\n",
    "            print (ind, ind+1)\n",
    "            return True\n",
    "        else:\n",
    "            pass\n",
    "        ind += 1\n",
    "\n",
    "        \n",
    "# Given a list of ints, \n",
    "# return True if the array contains a 3 next to a 3 somewhere.\n",
    "# repetition of integer 3 \n",
    "\n",
    "def repeating3 (intlist):\n",
    "    print (len(intlist))\n",
    "    ind = 0\n",
    "    for i in intlist:\n",
    "        print (ind, ind+1)\n",
    "        if ind < (len(intlist)-1) and intlist[ind] == 3 and intlist [ind+1] == 3:\n",
    "            return True\n",
    "        else:\n",
    "            pass\n",
    "        ind += 1\n",
    "    return False\n",
    "\n",
    "repeating3 ([1,2,3,4,5,3])\n",
    "\n"
   ]
  },
  {
   "cell_type": "code",
   "execution_count": 26,
   "metadata": {},
   "outputs": [],
   "source": [
    "# Check if the number is prime \n",
    "def is_prime_1 (num):\n",
    "    for i in range (2, num): # range key word was missing\n",
    "        #print(i)\n",
    "        if num % i == 0:\n",
    "            #print ('i', i)\n",
    "            print(num, ' is not prime')\n",
    "            break\n",
    "    else:\n",
    "        print(num, ' is prime')"
   ]
  },
  {
   "cell_type": "code",
   "execution_count": 30,
   "metadata": {},
   "outputs": [
    {
     "name": "stdout",
     "output_type": "stream",
     "text": [
      "1526  is not prime\n"
     ]
    }
   ],
   "source": [
    "is_prime_1(1526)"
   ]
  },
  {
   "cell_type": "code",
   "execution_count": 38,
   "metadata": {},
   "outputs": [],
   "source": [
    "# Prime: Better method\n",
    "\n",
    "import math\n",
    "\n",
    "def is_prime_2 (num):\n",
    "    '''\n",
    "    Faster function for finding out whether a number is prime \n",
    "    '''\n",
    "    if num % 2 == 0 :\n",
    "        print(num, ' is not prime')\n",
    "        return False\n",
    "    \n",
    "    for i in range(3, int(math.sqrt(num)), 2):\n",
    "        if num % i == 0 :\n",
    "            print(num, ' is not prime')\n",
    "            return False\n",
    "    else: \n",
    "        print(num, ' is prime')\n",
    "        return True\n",
    "        \n"
   ]
  },
  {
   "cell_type": "code",
   "execution_count": 39,
   "metadata": {},
   "outputs": [
    {
     "name": "stdout",
     "output_type": "stream",
     "text": [
      "13  is prime\n"
     ]
    },
    {
     "data": {
      "text/plain": [
       "True"
      ]
     },
     "execution_count": 39,
     "metadata": {},
     "output_type": "execute_result"
    }
   ],
   "source": [
    "is_prime_2(13)"
   ]
  },
  {
   "cell_type": "code",
   "execution_count": 78,
   "metadata": {},
   "outputs": [],
   "source": [
    "# Reversal of words of a string/sentence\n",
    "\n",
    "def sentence_reversal (str1):\n",
    "    list1 = str.split(str1)\n",
    "    string1 = ''\n",
    "    print('original list: ', list1)\n",
    "    list.reverse(list1)\n",
    "    print('reverted list: ', list1)\n",
    "    \n",
    "    string1=\" \".join(list1) # Form a sentence from the elements of the list\n",
    "    string1= string1.capitalize() # Sentence Case. Capitalize the first letter of the sentence \n",
    "    string1 += '.'\n",
    "    print(string1)\n",
    "    \n",
    "    #for i in list1:\n",
    "    #    print(i)\n",
    "    #    string1 = string1 + ' ' + i\n",
    "    #    print (string1)"
   ]
  },
  {
   "cell_type": "code",
   "execution_count": 79,
   "metadata": {},
   "outputs": [
    {
     "name": "stdout",
     "output_type": "stream",
     "text": [
      "original list:  ['i', 'am', 'home']\n",
      "reverted list:  ['home', 'am', 'i']\n",
      "Home am i.\n"
     ]
    }
   ],
   "source": [
    "sentence_reversal ('i am home')"
   ]
  },
  {
   "cell_type": "code",
   "execution_count": 84,
   "metadata": {},
   "outputs": [],
   "source": [
    "def almost_there (num):\n",
    "    '''\n",
    "    Returns True if the number is within 100 +- 10 or 200 +- 10\n",
    "    Whether a number is in a range or not\n",
    "    '''\n",
    "    return (( num in range (90,111) ) or ( num in range(190,211) ))\n",
    "        \n",
    "    "
   ]
  },
  {
   "cell_type": "code",
   "execution_count": 87,
   "metadata": {},
   "outputs": [
    {
     "data": {
      "text/plain": [
       "True"
      ]
     },
     "execution_count": 87,
     "metadata": {},
     "output_type": "execute_result"
    }
   ],
   "source": [
    "almost_there (209)"
   ]
  },
  {
   "cell_type": "code",
   "execution_count": 107,
   "metadata": {},
   "outputs": [],
   "source": [
    "def list_has_num (list1, num):\n",
    "    '''\n",
    "    return true if a repetition of list element is found\n",
    "    '''\n",
    "    flag = False\n",
    "    ind1 = 0\n",
    "    ind2 = 0\n",
    "    #list1 = list1.sort() \n",
    "    for i in range (0, len(list1)):\n",
    "        if list1[i] == num: \n",
    "            ind1 = i\n",
    "            break \n",
    "        \n",
    "    if ind1+1 < len(list1) and list1[ind1+1] == num :\n",
    "             return True\n",
    "    return False\n",
    "            \n",
    "            \n",
    "    "
   ]
  },
  {
   "cell_type": "code",
   "execution_count": 108,
   "metadata": {},
   "outputs": [
    {
     "data": {
      "text/plain": [
       "False"
      ]
     },
     "execution_count": 108,
     "metadata": {},
     "output_type": "execute_result"
    }
   ],
   "source": [
    "list_has_num ([1,2,4,4,5,6,6,7], 5)"
   ]
  },
  {
   "cell_type": "code",
   "execution_count": 114,
   "metadata": {},
   "outputs": [],
   "source": [
    "def repeating_characters (str1, n):\n",
    "    '''\n",
    "    Reconstruct the string with each character repeating n times\n",
    "    ('Hello') --> 'HHHeeellllllooo'\n",
    "    '''\n",
    "    \n",
    "    str2 = ''\n",
    "    for i in range (0, len(str1)):\n",
    "        str2 += str1[i]*n\n",
    "    return str2\n"
   ]
  },
  {
   "cell_type": "code",
   "execution_count": 117,
   "metadata": {},
   "outputs": [
    {
     "data": {
      "text/plain": [
       "'HHHeeellllllooo'"
      ]
     },
     "execution_count": 117,
     "metadata": {},
     "output_type": "execute_result"
    }
   ],
   "source": [
    "repeating_characters ('Hello', 3)"
   ]
  },
  {
   "cell_type": "markdown",
   "metadata": {},
   "source": [
    "## Interview Questions"
   ]
  },
  {
   "cell_type": "code",
   "execution_count": 16,
   "metadata": {},
   "outputs": [
    {
     "name": "stdout",
     "output_type": "stream",
     "text": [
      "Enter the values :1,2,3,4,5\n",
      "\n",
      "listofvalues_as_str:  1,2,3,4,5\n",
      "\n",
      "list1:  ['1', '2', '3', '4', '5']\n",
      "\n",
      "tuple1:  ('1', '2', '3', '4', '5')\n"
     ]
    }
   ],
   "source": [
    "#Write a Python program which accepts a sequence of comma-separated numbers from user and \n",
    "# generate a list and a tuple with those numbers\n",
    "\n",
    "listofvalues_as_str = input ('Enter the values :')\n",
    "\n",
    "list1 = listofvalues_as_str.split(\",\")\n",
    "\n",
    "tuple1 = tuple(list1)\n",
    "\n",
    "print ('\\nlistofvalues_as_str: ', listofvalues_as_str)\n",
    "print ('\\nlist1: ', list1)\n",
    "print ('\\ntuple1: ', tuple1)\n",
    "\n",
    "\n",
    "print ('\\nlist1: %i / %i / %i'%list1)\n",
    "\n"
   ]
  },
  {
   "cell_type": "code",
   "execution_count": 24,
   "metadata": {},
   "outputs": [
    {
     "name": "stdout",
     "output_type": "stream",
     "text": [
      "\n",
      "tuple1: 1 / 2 / 3\n",
      "[1, 2, 3]\n",
      "\n",
      "list1: [1, 2, 3]\n"
     ]
    }
   ],
   "source": [
    "# A way of printing all elelemts in the list in one go \n",
    "tuple1 = (1,2,3)\n",
    "list1 = [1,2,3]\n",
    "\n",
    "print ('\\ntuple1: %i / %i / %i'%tuple1)\n",
    "print (list1)\n",
    "print ('\\nlist1: %s'%list1)"
   ]
  },
  {
   "cell_type": "code",
   "execution_count": 29,
   "metadata": {},
   "outputs": [
    {
     "name": "stdout",
     "output_type": "stream",
     "text": [
      "Enter a number: 5\n",
      "55\n",
      "555\n",
      "615\n"
     ]
    }
   ],
   "source": [
    "# take an input n and then print the result of n+nn+nnn (5+55+555)\n",
    "\n",
    "num = int(input (\"Enter a number: \"))\n",
    "n1 = int ('%s%s' % (num, num))\n",
    "print(n1)\n",
    "n2 = int ('%s%s%s' % (num, num, num))\n",
    "print(n2)\n",
    "print (n1+n2+num)"
   ]
  },
  {
   "cell_type": "code",
   "execution_count": 31,
   "metadata": {},
   "outputs": [
    {
     "name": "stdout",
     "output_type": "stream",
     "text": [
      "print(value, ..., sep=' ', end='\\n', file=sys.stdout, flush=False)\n",
      "\n",
      "Prints the values to a stream, or to sys.stdout by default.\n",
      "Optional keyword arguments:\n",
      "file:  a file-like object (stream); defaults to the current sys.stdout.\n",
      "sep:   string inserted between values, default a space.\n",
      "end:   string appended after the last value, default a newline.\n",
      "flush: whether to forcibly flush the stream.\n"
     ]
    }
   ],
   "source": [
    "# How to print just the docstring of the function\n",
    "print(print.__doc__)"
   ]
  },
  {
   "cell_type": "code",
   "execution_count": null,
   "metadata": {},
   "outputs": [],
   "source": []
  },
  {
   "cell_type": "markdown",
   "metadata": {},
   "source": [
    "## How you can print date and time in Python?\n",
    "\n",
    "The `datetime`module has classes for manipulating dates and times. \n",
    "\n",
    "`datetime.now(tz=None)` returns the current local date and time. \n",
    "\n",
    "If optional argument tz is None or not specified, this is like today().\n"
   ]
  },
  {
   "cell_type": "code",
   "execution_count": 8,
   "metadata": {},
   "outputs": [
    {
     "name": "stdout",
     "output_type": "stream",
     "text": [
      "Current date and time is (dd-mm-yy hh-mm-ss) : 21-06-2019 00:47:51\n"
     ]
    }
   ],
   "source": [
    "\n",
    "import datetime\n",
    "now = datetime.datetime.now()\n",
    "print(f'Current date and time is (dd-mm-yy hh-mm-ss) : {now.strftime(\"%d-%m-%Y %H:%M:%S\")}')\n",
    "\n"
   ]
  },
  {
   "cell_type": "markdown",
   "metadata": {},
   "source": [
    "##  Generate a list and tuple with comma-separated numbers\n",
    "\n",
    "Take a string and split it on commas to form a list and typecase list to tuple\n",
    "\n"
   ]
  },
  {
   "cell_type": "code",
   "execution_count": 12,
   "metadata": {},
   "outputs": [
    {
     "name": "stdout",
     "output_type": "stream",
     "text": [
      "Enter some comma separated values : 1,2,3,4\n",
      "list: ['1', '2', '3', '4']\n",
      "Tuple: ('1', '2', '3', '4')\n"
     ]
    }
   ],
   "source": [
    "values = input ('Enter some comma separated values : ')\n",
    "list1 = values.split (',')\n",
    "print (f'list: {list1}')\n",
    "tuple1 = tuple(list1)\n",
    "print (f'Tuple: {tuple1}')\n"
   ]
  },
  {
   "cell_type": "markdown",
   "metadata": {},
   "source": [
    "## How to find extension of a file"
   ]
  },
  {
   "cell_type": "code",
   "execution_count": 14,
   "metadata": {},
   "outputs": [
    {
     "name": "stdout",
     "output_type": "stream",
     "text": [
      "Enter the filename: amit.java\n",
      ".java\n",
      ".java\n"
     ]
    }
   ],
   "source": [
    "\n",
    "file_name = input('Enter the filename: ')\n",
    "\n",
    "print (file_name [file_name.index('.')::]) # But they only find the first occurence of the . \n",
    "\n",
    "print (file_name [file_name.find('.')::])\n",
    "\n"
   ]
  },
  {
   "cell_type": "code",
   "execution_count": 16,
   "metadata": {},
   "outputs": [
    {
     "name": "stdout",
     "output_type": "stream",
     "text": [
      "Return the absolute value of the argument.\n"
     ]
    }
   ],
   "source": [
    "#prints the docstring of a function\n",
    "\n",
    "print(abs.__doc__)"
   ]
  },
  {
   "cell_type": "code",
   "execution_count": 21,
   "metadata": {},
   "outputs": [
    {
     "name": "stdout",
     "output_type": "stream",
     "text": [
      "   February 2014\n",
      "Mo Tu We Th Fr Sa Su\n",
      "                1  2\n",
      " 3  4  5  6  7  8  9\n",
      "10 11 12 13 14 15 16\n",
      "17 18 19 20 21 22 23\n",
      "24 25 26 27 28\n",
      "\n"
     ]
    }
   ],
   "source": [
    "\n",
    "import calendar\n",
    "print(calendar.month(2014, 2))"
   ]
  },
  {
   "cell_type": "code",
   "execution_count": 7,
   "metadata": {},
   "outputs": [
    {
     "name": "stdout",
     "output_type": "stream",
     "text": [
      "\n",
      "a string that you \"don't\" have to escape\n",
      "This\n",
      "is a  ....... multi-line\n",
      "heredoc string --------> example\n",
      "\n",
      " whatever you print \"here\"  is like a docstring \n",
      "you can give newlines like what you want to \n",
      "you can write \"don't\"\n",
      "it is pretty much the same \n",
      "\n"
     ]
    }
   ],
   "source": [
    "# print like a docstring\n",
    "print(\"\"\"\n",
    "a string that you \"don't\" have to escape\n",
    "This\n",
    "is a  ....... multi-line\n",
    "heredoc string --------> example\n",
    "\"\"\")\n",
    "\n",
    "print (\"\"\" whatever you print \"here\"  is like a docstring \n",
    "you can give newlines like what you want to \n",
    "you can write \"don't\"\n",
    "it is pretty much the same \n",
    "\"\"\")"
   ]
  },
  {
   "cell_type": "code",
   "execution_count": 14,
   "metadata": {},
   "outputs": [
    {
     "name": "stdout",
     "output_type": "stream",
     "text": [
      "<class 'datetime.date'>\n",
      "<class 'datetime.date'>\n",
      "<class 'datetime.timedelta'>\n",
      "<class 'datetime.timedelta'>\n",
      "9\n"
     ]
    }
   ],
   "source": [
    "# number of days between two dates\n",
    "\n",
    "from datetime import date\n",
    "f_date = date(2014, 7, 2)\n",
    "print (type(f_date))\n",
    "l_date = date(2014, 7, 11) #<class 'datetime.date'>\n",
    "print (type(l_date))\n",
    "print (type(delta))\n",
    "delta = l_date - f_date # <class 'datetime.timedelta'>\n",
    "print (type(delta))\n",
    "print(delta.days)\n",
    "\n",
    "\n"
   ]
  },
  {
   "cell_type": "code",
   "execution_count": 28,
   "metadata": {},
   "outputs": [
    {
     "name": "stdout",
     "output_type": "stream",
     "text": [
      "list: True\n",
      "tuple: True\n",
      "list: True\n"
     ]
    }
   ],
   "source": [
    "# How to chek if a value is in some set of data\n",
    "def check_value_in_data(data, value):\n",
    "    return value in data\n",
    "\n",
    "print (f'list: {check_value_in_data ([1,2,3,4], 4)}')\n",
    "print (f'tuple: {check_value_in_data ((1,2,3,4), 4)}')\n",
    "print (f\"\"\"list: {check_value_in_data ({'amit':4}, 'amit')}\"\"\") \n"
   ]
  },
  {
   "cell_type": "code",
   "execution_count": 38,
   "metadata": {},
   "outputs": [
    {
     "name": "stdout",
     "output_type": "stream",
     "text": [
      "**\n",
      "***\n",
      "****\n",
      "****\n",
      "*****\n",
      "******\n"
     ]
    }
   ],
   "source": [
    "# printing a histogram or graph or a statistic\n",
    "def graph (list1):\n",
    "    symbol = '*'\n",
    "    for n in list1:\n",
    "        print (symbol*n)\n",
    "        \n",
    "graph((2,3,4))\n",
    "graph([4,5,6])"
   ]
  },
  {
   "cell_type": "code",
   "execution_count": null,
   "metadata": {},
   "outputs": [],
   "source": [
    "# GCD Greatest Common Divisor\n",
    "def gcd(x, y):\n",
    "    gcd = 1\n",
    "    \n",
    "    if x % y == 0:\n",
    "        return y\n",
    "    \n",
    "    for k in range(int(y / 2), 0, -1):\n",
    "        if x % k == 0 and y % k == 0:\n",
    "            gcd = k\n",
    "            break  \n",
    "    return gcd\n",
    "\n",
    "print(gcd(12, 17))\n",
    "print(gcd(4, 6))"
   ]
  },
  {
   "cell_type": "code",
   "execution_count": 45,
   "metadata": {},
   "outputs": [
    {
     "name": "stdout",
     "output_type": "stream",
     "text": [
      "z: 6\n",
      "12\n",
      "z: 17\n",
      "255\n"
     ]
    }
   ],
   "source": [
    "# LCM - lowest Common Multiple \n",
    "\n",
    "\n",
    "def lcm(x,y):\n",
    "\n",
    "    if x > y: \n",
    "        z = x\n",
    "    else:\n",
    "        z = y\n",
    "    \n",
    "    print (f'z: {z}')\n",
    "    \n",
    "    while (True):\n",
    "        if ((z % x == 0) and (z % y == 0)):\n",
    "            lcm = z\n",
    "            break\n",
    "        z += 1\n",
    "    return z\n",
    "    \n",
    "print(lcm(4, 6))\n",
    "print(lcm(15, 17))"
   ]
  },
  {
   "cell_type": "code",
   "execution_count": 48,
   "metadata": {},
   "outputs": [],
   "source": [
    "def lcm (x,y):\n",
    "    z = max(x,y)\n",
    "    \n",
    "    while(True):\n",
    "        if ((z % x == 0) and (z % y == 0)):\n",
    "            return z\n",
    "        z += 1\n"
   ]
  },
  {
   "cell_type": "code",
   "execution_count": 50,
   "metadata": {},
   "outputs": [
    {
     "data": {
      "text/plain": [
       "255"
      ]
     },
     "execution_count": 50,
     "metadata": {},
     "output_type": "execute_result"
    }
   ],
   "source": [
    "lcm (15,17)"
   ]
  },
  {
   "cell_type": "code",
   "execution_count": 51,
   "metadata": {},
   "outputs": [
    {
     "data": {
      "text/plain": [
       "{1, 2, 3, 4, 5}"
      ]
     },
     "execution_count": 51,
     "metadata": {},
     "output_type": "execute_result"
    }
   ],
   "source": [
    "# convert a list into a list with unique elements\n",
    "list1 = [1,1,1,2,2,2,3,3,4,5]\n",
    "# simple cast the list into a set\n",
    "set1 = set(list1)\n",
    "set1"
   ]
  },
  {
   "cell_type": "code",
   "execution_count": 1,
   "metadata": {},
   "outputs": [
    {
     "name": "stdout",
     "output_type": "stream",
     "text": [
      "5.77\n"
     ]
    }
   ],
   "source": [
    "# rounds a number \n",
    "x = round(5.76543, 2)\n",
    "print (x)"
   ]
  },
  {
   "cell_type": "code",
   "execution_count": 12,
   "metadata": {},
   "outputs": [
    {
     "name": "stdout",
     "output_type": "stream",
     "text": [
      "<class 'list_reverseiterator'>\n",
      "5\n",
      "4\n",
      "3\n",
      "3\n",
      "2\n",
      "2\n",
      "2\n",
      "1\n",
      "1\n",
      "1\n",
      "+++++++++++++++++++++++++++++\n",
      "\n",
      "<class 'reversed'>\n",
      "7\n",
      "7\n",
      "6\n",
      "6\n",
      "5\n",
      "4\n",
      "3\n",
      "2\n",
      "1\n",
      "+++++++++++++++++++++++++++++\n",
      "\n"
     ]
    },
    {
     "ename": "TypeError",
     "evalue": "'set' object is not reversible",
     "output_type": "error",
     "traceback": [
      "\u001b[1;31m---------------------------------------------------------------------------\u001b[0m",
      "\u001b[1;31mTypeError\u001b[0m                                 Traceback (most recent call last)",
      "\u001b[1;32m<ipython-input-12-4c9e320eb24a>\u001b[0m in \u001b[0;36m<module>\u001b[1;34m()\u001b[0m\n\u001b[0;32m     20\u001b[0m \u001b[1;33m\u001b[0m\u001b[0m\n\u001b[0;32m     21\u001b[0m \u001b[0mset1\u001b[0m \u001b[1;33m=\u001b[0m \u001b[1;33m{\u001b[0m\u001b[1;36m1\u001b[0m\u001b[1;33m,\u001b[0m\u001b[1;36m2\u001b[0m\u001b[1;33m,\u001b[0m\u001b[1;36m3\u001b[0m\u001b[1;33m,\u001b[0m\u001b[1;36m4\u001b[0m\u001b[1;33m,\u001b[0m\u001b[1;36m5\u001b[0m\u001b[1;33m,\u001b[0m\u001b[1;36m6\u001b[0m\u001b[1;33m,\u001b[0m\u001b[1;36m6\u001b[0m\u001b[1;33m}\u001b[0m \u001b[1;31m# it will take duplicate inputs but set wont save it\u001b[0m\u001b[1;33m\u001b[0m\u001b[0m\n\u001b[1;32m---> 22\u001b[1;33m \u001b[0mset_rev\u001b[0m \u001b[1;33m=\u001b[0m \u001b[0mreversed\u001b[0m \u001b[1;33m(\u001b[0m\u001b[0mset1\u001b[0m\u001b[1;33m)\u001b[0m\u001b[1;33m\u001b[0m\u001b[0m\n\u001b[0m\u001b[0;32m     23\u001b[0m \u001b[1;32mfor\u001b[0m \u001b[0mi\u001b[0m \u001b[1;32min\u001b[0m \u001b[0mset_rev\u001b[0m\u001b[1;33m:\u001b[0m\u001b[1;33m\u001b[0m\u001b[0m\n\u001b[0;32m     24\u001b[0m     \u001b[0mprint\u001b[0m \u001b[1;33m(\u001b[0m\u001b[0mi\u001b[0m\u001b[1;33m)\u001b[0m\u001b[1;33m\u001b[0m\u001b[0m\n",
      "\u001b[1;31mTypeError\u001b[0m: 'set' object is not reversible"
     ]
    }
   ],
   "source": [
    "# reverses any iterator like list/tuple etc \n",
    "# reverses anything\n",
    "list1 =[1,1,1,2,2,2,3,3,4,5]\n",
    "list_rev = reversed (list1)\n",
    "print (type (list_rev)) # has a class of its onw called the list_reverseiterator\n",
    "for i in list_rev:\n",
    "    print(i)\n",
    "#list_rev\n",
    "\n",
    "print ('+++++++++++++++++++++++++++++\\n')\n",
    "\n",
    "tuple1 = (1,2,3,4,5,6,6,7,7,)\n",
    "tup_rev = reversed(tuple1)\n",
    "print (type(tup_rev))\n",
    "for i in tup_rev:\n",
    "    print (i)\n",
    "\n",
    "    \n",
    "print ('+++++++++++++++++++++++++++++\\n')\n",
    "\n",
    "# Set object is not reversible\n",
    "\n",
    "set1 = {1,2,3,4,5,6,6} # it will take duplicate inputs but set wont save it \n",
    "set_rev = reversed (set1)\n",
    "for i in set_rev:\n",
    "    print (i)"
   ]
  },
  {
   "cell_type": "code",
   "execution_count": 13,
   "metadata": {},
   "outputs": [
    {
     "name": "stdout",
     "output_type": "stream",
     "text": [
      "0\n",
      "1\n",
      "2\n",
      "3\n",
      "4\n",
      "5\n"
     ]
    }
   ],
   "source": [
    "# getting a range of numbers\n",
    "# range(start, stop, step)\n",
    "\n",
    "x = range (6)\n",
    "for i in x :\n",
    "    print (i)"
   ]
  },
  {
   "cell_type": "code",
   "execution_count": 14,
   "metadata": {},
   "outputs": [
    {
     "name": "stdout",
     "output_type": "stream",
     "text": [
      "4\n"
     ]
    }
   ],
   "source": [
    "# pow(x, y, z) x raise to power y % (modulo/remainder) 5 \n",
    "x = pow(4, 3, 5)\n",
    "\n",
    "print(x)"
   ]
  },
  {
   "cell_type": "code",
   "execution_count": 16,
   "metadata": {},
   "outputs": [
    {
     "data": {
      "text/plain": [
       "'apple'"
      ]
     },
     "execution_count": 16,
     "metadata": {},
     "output_type": "execute_result"
    }
   ],
   "source": [
    "# next(iterable, default) will return the next item in the iterable and default when the end of iterable is reached \n",
    "list1 = iter(['apple', 'oranges', 'tomoatoes'])\n",
    "next(list1)\n",
    "\n",
    "# NOTE: list object is not a iterator "
   ]
  },
  {
   "cell_type": "code",
   "execution_count": 18,
   "metadata": {},
   "outputs": [
    {
     "data": {
      "text/plain": [
       "9.2"
      ]
     },
     "execution_count": 18,
     "metadata": {},
     "output_type": "execute_result"
    }
   ],
   "source": [
    "abs (-9.2) # returns the absolute value of a number "
   ]
  },
  {
   "cell_type": "code",
   "execution_count": 23,
   "metadata": {},
   "outputs": [
    {
     "name": "stdout",
     "output_type": "stream",
     "text": [
      "True\n",
      "False\n",
      "True\n"
     ]
    }
   ],
   "source": [
    "# all(iterable) returns True if all the values in the iterable are true\n",
    "list1 = [1,1,1]\n",
    "list2 = [0,1,1]\n",
    "print (all (list1))\n",
    "print (all (list2))\n",
    "\n",
    "# any(iterable) returns truw if any element in the iterable is true\n",
    "list2 = [0,1,1]\n",
    "print (any (list2))\n"
   ]
  },
  {
   "cell_type": "code",
   "execution_count": null,
   "metadata": {},
   "outputs": [],
   "source": []
  }
 ],
 "metadata": {
  "kernelspec": {
   "display_name": "Python 3",
   "language": "python",
   "name": "python3"
  },
  "language_info": {
   "codemirror_mode": {
    "name": "ipython",
    "version": 3
   },
   "file_extension": ".py",
   "mimetype": "text/x-python",
   "name": "python",
   "nbconvert_exporter": "python",
   "pygments_lexer": "ipython3",
   "version": "3.6.5"
  }
 },
 "nbformat": 4,
 "nbformat_minor": 2
}
